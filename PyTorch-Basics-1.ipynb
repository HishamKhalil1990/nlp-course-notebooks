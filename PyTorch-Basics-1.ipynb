{
 "cells": [
  {
   "cell_type": "code",
   "execution_count": 1,
   "id": "02f4b7ab",
   "metadata": {},
   "outputs": [],
   "source": [
    "import os\n",
    "import numpy as np\n",
    "import torch"
   ]
  },
  {
   "cell_type": "markdown",
   "id": "dbf424d6",
   "metadata": {},
   "source": [
    "# PyTorch Basics - Tensors in PyTorch"
   ]
  },
  {
   "cell_type": "markdown",
   "id": "9de399f9",
   "metadata": {},
   "source": [
    "## Creating Tensors"
   ]
  },
  {
   "cell_type": "markdown",
   "id": "12b9472b",
   "metadata": {},
   "source": [
    "### Manually"
   ]
  },
  {
   "cell_type": "code",
   "execution_count": 2,
   "id": "15eecfae",
   "metadata": {},
   "outputs": [
    {
     "name": "stdout",
     "output_type": "stream",
     "text": [
      "tensor([[1, 2],\n",
      "        [3, 4]])\n"
     ]
    }
   ],
   "source": [
    "a = torch.tensor([[1, 2], [3, 4]], dtype=torch.int64, requires_grad=False, device=\"cpu\", pin_memory=False)\n",
    "print(a)"
   ]
  },
  {
   "cell_type": "markdown",
   "id": "61c77a86",
   "metadata": {},
   "source": [
    "### From Numpy"
   ]
  },
  {
   "cell_type": "code",
   "execution_count": 3,
   "id": "4e7f3aec",
   "metadata": {},
   "outputs": [
    {
     "name": "stdout",
     "output_type": "stream",
     "text": [
      "tensor([[0, 1, 4, 5, 0],\n",
      "        [7, 7, 5, 3, 2],\n",
      "        [3, 4, 0, 3, 7],\n",
      "        [0, 8, 7, 3, 4],\n",
      "        [4, 9, 9, 2, 1]])\n"
     ]
    }
   ],
   "source": [
    "a = np.random.randint(low=0, high=10, size=(5, 5)) \n",
    "a = torch.from_numpy(a)\n",
    "print(a)"
   ]
  },
  {
   "cell_type": "markdown",
   "id": "aac6fb13",
   "metadata": {},
   "source": [
    "### Generate Random "
   ]
  },
  {
   "cell_type": "code",
   "execution_count": 4,
   "id": "b670b07d",
   "metadata": {},
   "outputs": [
    {
     "name": "stdout",
     "output_type": "stream",
     "text": [
      "Random Numbers:\n",
      "tensor([[8, 8, 8, 6, 6],\n",
      "        [8, 4, 8, 0, 5],\n",
      "        [6, 0, 2, 0, 2],\n",
      "        [2, 1, 5, 4, 8],\n",
      "        [6, 4, 6, 4, 0]])\n",
      "\n",
      "\n",
      "Normal distribution:\n",
      "tensor([[ 0.8410, -0.9266,  0.0904, -1.3038, -0.5289],\n",
      "        [ 0.1274,  0.1591, -0.8699,  0.1360, -0.3747],\n",
      "        [ 0.1562, -0.0189,  0.4074, -1.1719,  1.0901],\n",
      "        [-0.8862, -1.5510,  1.1211,  1.0351, -0.4395],\n",
      "        [ 1.1263, -0.8310,  1.5366, -0.2800,  1.3096]])\n",
      "\n"
     ]
    }
   ],
   "source": [
    "# Create random integers\n",
    "a = torch.randint(low=0, high=10, size=(5, 5))\n",
    "print(f\"Random Numbers:\\n{a}\\n\\n\")\n",
    "# Normal distribution\n",
    "a = torch.randn((5, 5))\n",
    "print(f\"Normal distribution:\\n{a}\\n\")"
   ]
  },
  {
   "cell_type": "markdown",
   "id": "ed5bf6ed",
   "metadata": {},
   "source": [
    "### Specifying the Data Type"
   ]
  },
  {
   "cell_type": "code",
   "execution_count": 5,
   "id": "c0570a5e",
   "metadata": {},
   "outputs": [
    {
     "name": "stdout",
     "output_type": "stream",
     "text": [
      "Random Float64:\n",
      "tensor([[ 0.9089, -0.1012,  0.6913, -0.6494,  0.0691],\n",
      "        [-0.0240,  0.2580,  1.9057,  0.5182,  0.8161],\n",
      "        [ 1.5821, -0.6852, -0.9144, -0.2886,  1.3857],\n",
      "        [ 0.4388,  1.3956, -0.1918,  0.2068, -0.2406],\n",
      "        [ 1.6565, -0.5604, -0.1334, -0.6638,  1.9534]], dtype=torch.float64)\n",
      "\n",
      "Random Float32:\n",
      "tensor([[-0.1282, -0.2956, -0.0129,  0.3268, -0.4477],\n",
      "        [-1.0102, -0.1872,  1.0727,  0.2466,  0.0259],\n",
      "        [ 0.1439, -1.5302,  0.6920,  0.8864, -0.0798],\n",
      "        [ 0.3686,  0.0130,  1.4660, -0.2808, -0.5227],\n",
      "        [-0.2389,  1.3530,  0.7793, -1.1110,  1.2176]])\n",
      "\n"
     ]
    }
   ],
   "source": [
    "a = torch.randn((5, 5), dtype=torch.float64)\n",
    "print(f\"Random Float64:\\n{a}\\n\")\n",
    "\n",
    "a = torch.randn((5, 5), dtype=torch.float32)\n",
    "print(f\"Random Float32:\\n{a}\\n\")"
   ]
  },
  {
   "cell_type": "markdown",
   "id": "226ddff7",
   "metadata": {},
   "source": [
    "#### Question\n",
    "\n",
    "1. What's the difference between float64 and float32\n",
    "\n",
    "\n",
    "2. Why would you choose one over the other?"
   ]
  },
  {
   "cell_type": "markdown",
   "id": "5c1f7dc6",
   "metadata": {},
   "source": [
    "### Generate Zeros/Ones"
   ]
  },
  {
   "cell_type": "code",
   "execution_count": 6,
   "id": "0f7ed2d1",
   "metadata": {},
   "outputs": [
    {
     "name": "stdout",
     "output_type": "stream",
     "text": [
      "Zeros:\n",
      "tensor([[[0., 0., 0., 0., 0.],\n",
      "         [0., 0., 0., 0., 0.],\n",
      "         [0., 0., 0., 0., 0.],\n",
      "         [0., 0., 0., 0., 0.],\n",
      "         [0., 0., 0., 0., 0.]],\n",
      "\n",
      "        [[0., 0., 0., 0., 0.],\n",
      "         [0., 0., 0., 0., 0.],\n",
      "         [0., 0., 0., 0., 0.],\n",
      "         [0., 0., 0., 0., 0.],\n",
      "         [0., 0., 0., 0., 0.]],\n",
      "\n",
      "        [[0., 0., 0., 0., 0.],\n",
      "         [0., 0., 0., 0., 0.],\n",
      "         [0., 0., 0., 0., 0.],\n",
      "         [0., 0., 0., 0., 0.],\n",
      "         [0., 0., 0., 0., 0.]],\n",
      "\n",
      "        [[0., 0., 0., 0., 0.],\n",
      "         [0., 0., 0., 0., 0.],\n",
      "         [0., 0., 0., 0., 0.],\n",
      "         [0., 0., 0., 0., 0.],\n",
      "         [0., 0., 0., 0., 0.]],\n",
      "\n",
      "        [[0., 0., 0., 0., 0.],\n",
      "         [0., 0., 0., 0., 0.],\n",
      "         [0., 0., 0., 0., 0.],\n",
      "         [0., 0., 0., 0., 0.],\n",
      "         [0., 0., 0., 0., 0.]]])\n",
      "\n",
      "\n",
      "Ones:\n",
      "tensor([[[1., 1., 1., 1., 1.],\n",
      "         [1., 1., 1., 1., 1.],\n",
      "         [1., 1., 1., 1., 1.],\n",
      "         [1., 1., 1., 1., 1.],\n",
      "         [1., 1., 1., 1., 1.]],\n",
      "\n",
      "        [[1., 1., 1., 1., 1.],\n",
      "         [1., 1., 1., 1., 1.],\n",
      "         [1., 1., 1., 1., 1.],\n",
      "         [1., 1., 1., 1., 1.],\n",
      "         [1., 1., 1., 1., 1.]],\n",
      "\n",
      "        [[1., 1., 1., 1., 1.],\n",
      "         [1., 1., 1., 1., 1.],\n",
      "         [1., 1., 1., 1., 1.],\n",
      "         [1., 1., 1., 1., 1.],\n",
      "         [1., 1., 1., 1., 1.]],\n",
      "\n",
      "        [[1., 1., 1., 1., 1.],\n",
      "         [1., 1., 1., 1., 1.],\n",
      "         [1., 1., 1., 1., 1.],\n",
      "         [1., 1., 1., 1., 1.],\n",
      "         [1., 1., 1., 1., 1.]],\n",
      "\n",
      "        [[1., 1., 1., 1., 1.],\n",
      "         [1., 1., 1., 1., 1.],\n",
      "         [1., 1., 1., 1., 1.],\n",
      "         [1., 1., 1., 1., 1.],\n",
      "         [1., 1., 1., 1., 1.]]])\n"
     ]
    }
   ],
   "source": [
    "zeros = torch.zeros((5, 5, 5))\n",
    "print(f\"Zeros:\\n{zeros}\\n\\n\")\n",
    "\n",
    "ones = torch.ones((5, 5, 5))\n",
    "print(f\"Ones:\\n{ones}\")"
   ]
  },
  {
   "cell_type": "markdown",
   "id": "ca39286f",
   "metadata": {},
   "source": [
    "### Specify a Device"
   ]
  },
  {
   "cell_type": "markdown",
   "id": "e4b7094b",
   "metadata": {},
   "source": [
    "A device can either be the `CPU` (saved on RAM) or a `GPU` device (saved on its memory)\n",
    "\n",
    "`GPU` devices are denoted as `cuda:0` where the number following the cuda is the index of the GPU in case of multiple GPU devices available\n",
    "\n",
    "The following is a boilerplate code for determining the device to use\n"
   ]
  },
  {
   "cell_type": "code",
   "execution_count": 7,
   "id": "d473bd88",
   "metadata": {},
   "outputs": [
    {
     "name": "stdout",
     "output_type": "stream",
     "text": [
      "CUDA/GPU available: True\n"
     ]
    }
   ],
   "source": [
    "print(\"CUDA/GPU available:\", torch.cuda.is_available())"
   ]
  },
  {
   "cell_type": "code",
   "execution_count": 8,
   "id": "42bef9cb",
   "metadata": {},
   "outputs": [],
   "source": [
    "device = torch.device(\"cuda\") if torch.cuda.is_available() else torch.device(\"cpu\")"
   ]
  },
  {
   "cell_type": "markdown",
   "id": "abcaa15d",
   "metadata": {},
   "source": [
    "#### Notes\n",
    "1. Specifying the device as `cuda` is the standard when using a single device, multi-gpu training is usually handled by PyTorch or other supporting frameworks and packages\n",
    "\n",
    "\n",
    "2. PyTorch isn't limited to `cpu` or `cuda` as the device, suches as openCl and openGl, ..etc. But keep in mind PyTorch can be slower on these devices and they're intended for special cases "
   ]
  },
  {
   "cell_type": "code",
   "execution_count": 9,
   "id": "38b7c0cb",
   "metadata": {},
   "outputs": [
    {
     "name": "stdout",
     "output_type": "stream",
     "text": [
      "tensor([[[ 2.3697e-02, -2.4632e-03, -6.8423e-01, -2.9210e-01, -1.4122e+00],\n",
      "         [ 2.1567e-01, -1.0202e+00,  9.1347e-01, -1.4124e-01, -1.4028e-01],\n",
      "         [-8.6652e-01, -1.4215e+00,  1.2623e+00,  6.8693e-01,  1.6328e+00],\n",
      "         [-9.8356e-01,  1.1174e+00,  4.2112e-01, -1.0609e+00,  6.0197e-01],\n",
      "         [-2.1692e+00,  3.4749e-02,  1.3484e-01,  4.0391e-01,  6.6008e-01]],\n",
      "\n",
      "        [[-2.2851e-02,  1.4867e+00, -4.7597e-01, -3.8129e-01,  2.0704e-01],\n",
      "         [ 1.3503e+00,  2.1202e-03, -5.7547e-01, -4.5058e-01, -8.7372e-01],\n",
      "         [-4.6559e-01, -9.0361e-01,  9.0136e-01, -1.9443e-01, -1.6196e+00],\n",
      "         [-3.0709e-01,  5.6610e-01, -6.0768e-01,  8.1147e-01, -7.9059e-01],\n",
      "         [ 5.4832e-01, -1.6052e+00, -1.0650e+00,  1.6160e+00, -1.2189e+00]],\n",
      "\n",
      "        [[ 1.3759e+00,  1.2999e+00, -4.1149e-01,  1.3409e+00, -2.9787e-01],\n",
      "         [-8.0635e-01, -1.3923e+00,  7.3275e-01,  9.1437e-01,  1.5791e+00],\n",
      "         [-1.4199e+00, -1.4356e+00, -7.2890e-01,  2.3176e+00, -8.3148e-01],\n",
      "         [-1.1456e+00, -4.2287e-02,  1.7870e+00, -4.8073e-01,  1.0138e+00],\n",
      "         [-2.9381e-01,  2.3590e-01, -5.5544e-02,  1.8100e+00,  2.2522e+00]],\n",
      "\n",
      "        [[-1.7279e+00, -3.6829e-01, -1.4380e+00,  1.6616e-01,  4.1886e-01],\n",
      "         [-9.5120e-01, -3.6182e-01, -9.2454e-01, -7.6271e-01, -1.8253e-01],\n",
      "         [ 1.2202e+00, -2.5580e-01,  9.8917e-01, -1.0414e+00,  5.3914e-01],\n",
      "         [ 1.1227e+00, -1.3045e-01, -8.3360e-01, -8.4983e-01,  1.2268e+00],\n",
      "         [ 6.9834e-02,  9.0630e-01,  5.7245e-01,  1.6688e-01, -5.8174e-01]],\n",
      "\n",
      "        [[-1.6456e+00, -9.0298e-01,  6.8415e-01,  7.5595e-01, -1.0598e+00],\n",
      "         [-6.2952e-01, -6.6661e-01,  1.0768e+00, -1.5436e-01, -8.6702e-01],\n",
      "         [-8.0451e-01, -5.3541e-01, -1.9295e-01, -1.9861e+00, -3.8323e-01],\n",
      "         [-7.7364e-01, -2.1573e-01, -1.2990e+00, -3.6344e-01, -4.0193e-01],\n",
      "         [-6.4475e-02, -1.8990e+00,  1.9525e-01,  1.4341e+00,  6.6594e-01]]],\n",
      "       device='cuda:0')\n"
     ]
    }
   ],
   "source": [
    "a = torch.randn((5, 5, 5), device=device)\n",
    "print(a)"
   ]
  },
  {
   "cell_type": "markdown",
   "id": "17a37931",
   "metadata": {},
   "source": [
    "## Tensor Information"
   ]
  },
  {
   "cell_type": "markdown",
   "id": "c537042e",
   "metadata": {},
   "source": [
    "### Ndim and Shape"
   ]
  },
  {
   "cell_type": "code",
   "execution_count": 10,
   "id": "c25ee47a",
   "metadata": {},
   "outputs": [],
   "source": [
    "a = torch.randn((5, 5, 5), dtype=torch.float32)"
   ]
  },
  {
   "cell_type": "code",
   "execution_count": 11,
   "id": "929eef6c",
   "metadata": {},
   "outputs": [
    {
     "name": "stdout",
     "output_type": "stream",
     "text": [
      "ndmin:3\n",
      "shape:torch.Size([5, 5, 5])\n"
     ]
    }
   ],
   "source": [
    "print(f\"ndmin:{a.ndim}\")\n",
    "print(f\"shape:{a.shape}\")"
   ]
  },
  {
   "cell_type": "markdown",
   "id": "b2fb0f41",
   "metadata": {},
   "source": [
    "### Single value tensors"
   ]
  },
  {
   "cell_type": "code",
   "execution_count": 12,
   "id": "53be7816",
   "metadata": {},
   "outputs": [
    {
     "name": "stdout",
     "output_type": "stream",
     "text": [
      "Tensor:7\tType:<class 'torch.Tensor'>\n",
      "Value:7\tType:<class 'int'>\n"
     ]
    }
   ],
   "source": [
    "a = torch.tensor(7)\n",
    "\n",
    "print(f\"Tensor:{a}\\tType:{type(a)}\")\n",
    "print(f\"Value:{a.item()}\\tType:{type(a.item())}\")"
   ]
  },
  {
   "cell_type": "markdown",
   "id": "0616ff3d",
   "metadata": {},
   "source": [
    "### Data Type"
   ]
  },
  {
   "cell_type": "code",
   "execution_count": 13,
   "id": "d356c4e2",
   "metadata": {},
   "outputs": [
    {
     "data": {
      "text/plain": [
       "torch.int64"
      ]
     },
     "execution_count": 13,
     "metadata": {},
     "output_type": "execute_result"
    }
   ],
   "source": [
    "a.dtype"
   ]
  },
  {
   "cell_type": "markdown",
   "id": "666d406d",
   "metadata": {},
   "source": [
    "### Device"
   ]
  },
  {
   "cell_type": "code",
   "execution_count": 14,
   "id": "3ca61016",
   "metadata": {},
   "outputs": [
    {
     "data": {
      "text/plain": [
       "device(type='cpu')"
      ]
     },
     "execution_count": 14,
     "metadata": {},
     "output_type": "execute_result"
    }
   ],
   "source": [
    "a.device"
   ]
  },
  {
   "cell_type": "markdown",
   "id": "5065a8b7",
   "metadata": {},
   "source": [
    "## Tensor Operations"
   ]
  },
  {
   "cell_type": "markdown",
   "id": "c6cdd572",
   "metadata": {},
   "source": [
    "### Element Wise"
   ]
  },
  {
   "cell_type": "code",
   "execution_count": 15,
   "id": "c15076a5",
   "metadata": {},
   "outputs": [
    {
     "data": {
      "text/plain": [
       "tensor([3, 5, 9])"
      ]
     },
     "execution_count": 15,
     "metadata": {},
     "output_type": "execute_result"
    }
   ],
   "source": [
    "a = torch.randint(low=0, high=10, size=(3, ))\n",
    "a"
   ]
  },
  {
   "cell_type": "code",
   "execution_count": 16,
   "id": "74a1eda2",
   "metadata": {},
   "outputs": [
    {
     "data": {
      "text/plain": [
       "tensor([ 8, 10, 14])"
      ]
     },
     "execution_count": 16,
     "metadata": {},
     "output_type": "execute_result"
    }
   ],
   "source": [
    "a + 5"
   ]
  },
  {
   "cell_type": "code",
   "execution_count": 17,
   "id": "9b06e6d9",
   "metadata": {},
   "outputs": [
    {
     "data": {
      "text/plain": [
       "tensor([15, 25, 45])"
      ]
     },
     "execution_count": 17,
     "metadata": {},
     "output_type": "execute_result"
    }
   ],
   "source": [
    "a * 5"
   ]
  },
  {
   "cell_type": "code",
   "execution_count": 18,
   "id": "48922dc7",
   "metadata": {},
   "outputs": [
    {
     "data": {
      "text/plain": [
       "tensor([0.6000, 1.0000, 1.8000])"
      ]
     },
     "execution_count": 18,
     "metadata": {},
     "output_type": "execute_result"
    }
   ],
   "source": [
    "a / 5"
   ]
  },
  {
   "cell_type": "code",
   "execution_count": 19,
   "id": "4b25340b",
   "metadata": {},
   "outputs": [
    {
     "data": {
      "text/plain": [
       "tensor([9, 2, 9])"
      ]
     },
     "execution_count": 19,
     "metadata": {},
     "output_type": "execute_result"
    }
   ],
   "source": [
    "b = torch.randint(low=0, high=10, size=(3, ))\n",
    "b"
   ]
  },
  {
   "cell_type": "code",
   "execution_count": 20,
   "id": "4e82c197",
   "metadata": {},
   "outputs": [
    {
     "data": {
      "text/plain": [
       "tensor([27, 10, 81])"
      ]
     },
     "execution_count": 20,
     "metadata": {},
     "output_type": "execute_result"
    }
   ],
   "source": [
    "a * b"
   ]
  },
  {
   "cell_type": "code",
   "execution_count": 21,
   "id": "a52e47e1",
   "metadata": {},
   "outputs": [
    {
     "data": {
      "text/plain": [
       "tensor([27, 10, 81])"
      ]
     },
     "execution_count": 21,
     "metadata": {},
     "output_type": "execute_result"
    }
   ],
   "source": [
    "torch.mul(a, b)"
   ]
  },
  {
   "cell_type": "code",
   "execution_count": 22,
   "id": "7fedc194",
   "metadata": {},
   "outputs": [
    {
     "data": {
      "text/plain": [
       "tensor([0.3333, 2.5000, 1.0000])"
      ]
     },
     "execution_count": 22,
     "metadata": {},
     "output_type": "execute_result"
    }
   ],
   "source": [
    "torch.div(a, b)"
   ]
  },
  {
   "cell_type": "markdown",
   "id": "44a86b35",
   "metadata": {},
   "source": [
    "## Operations"
   ]
  },
  {
   "cell_type": "markdown",
   "id": "30f85718",
   "metadata": {},
   "source": [
    "### Vector Operations"
   ]
  },
  {
   "cell_type": "code",
   "execution_count": 23,
   "id": "e48ecf50",
   "metadata": {},
   "outputs": [],
   "source": [
    "a = torch.randint(low=0, high=10, size=(3, ))\n",
    "b = torch.randint(low=0, high=10, size=(3, ))"
   ]
  },
  {
   "cell_type": "code",
   "execution_count": 24,
   "id": "691b55fe",
   "metadata": {},
   "outputs": [
    {
     "data": {
      "text/plain": [
       "(tensor(13), tensor(13))"
      ]
     },
     "execution_count": 24,
     "metadata": {},
     "output_type": "execute_result"
    }
   ],
   "source": [
    "# dot product of two vectors\n",
    "torch.dot(a, b), torch.matmul(a, b)"
   ]
  },
  {
   "cell_type": "code",
   "execution_count": 25,
   "id": "f72315ec",
   "metadata": {},
   "outputs": [
    {
     "data": {
      "text/plain": [
       "(tensor([6, 7, 0]), tensor([6, 7, 0]))"
      ]
     },
     "execution_count": 25,
     "metadata": {},
     "output_type": "execute_result"
    }
   ],
   "source": [
    "torch.mul(a, b), a * b"
   ]
  },
  {
   "cell_type": "markdown",
   "id": "1e4e4181",
   "metadata": {},
   "source": [
    "### Matrix Operations"
   ]
  },
  {
   "cell_type": "markdown",
   "id": "7c63257e",
   "metadata": {},
   "source": [
    "You can use this link to visualize matrix multipication\n",
    "\n",
    "http://matrixmultiplication.xyz/"
   ]
  },
  {
   "cell_type": "code",
   "execution_count": 26,
   "id": "05ec75fa",
   "metadata": {},
   "outputs": [],
   "source": [
    "a = torch.randint(low=0, high=10, size=(5, 3))\n",
    "b = torch.randint(low=0, high=10, size=(3, 5))"
   ]
  },
  {
   "cell_type": "code",
   "execution_count": 27,
   "id": "86344828",
   "metadata": {},
   "outputs": [
    {
     "data": {
      "text/plain": [
       "torch.Size([5, 5])"
      ]
     },
     "execution_count": 27,
     "metadata": {},
     "output_type": "execute_result"
    }
   ],
   "source": [
    "ab = torch.matmul(a, b)\n",
    "ab.shape"
   ]
  },
  {
   "cell_type": "code",
   "execution_count": 28,
   "id": "d0868e94",
   "metadata": {},
   "outputs": [],
   "source": [
    "batch_size = 32\n",
    "a = torch.randint(low=0, high=10, size=(batch_size, 5, 3))\n",
    "b = torch.randint(low=0, high=10, size=(batch_size, 3, 5))"
   ]
  },
  {
   "cell_type": "code",
   "execution_count": 29,
   "id": "651c99e9",
   "metadata": {},
   "outputs": [
    {
     "data": {
      "text/plain": [
       "torch.Size([32, 5, 5])"
      ]
     },
     "execution_count": 29,
     "metadata": {},
     "output_type": "execute_result"
    }
   ],
   "source": [
    "ab = torch.bmm(a, b)\n",
    "ab.shape"
   ]
  },
  {
   "cell_type": "code",
   "execution_count": 30,
   "id": "8f1ca45f",
   "metadata": {},
   "outputs": [
    {
     "data": {
      "text/plain": [
       "tensor(True)"
      ]
     },
     "execution_count": 30,
     "metadata": {},
     "output_type": "execute_result"
    }
   ],
   "source": [
    "torch.all(torch.bmm(a, b) == torch.matmul(a, b))"
   ]
  },
  {
   "cell_type": "markdown",
   "id": "9d1075bb",
   "metadata": {},
   "source": [
    "### Reshaping"
   ]
  },
  {
   "cell_type": "code",
   "execution_count": 31,
   "id": "b1e2e3d1",
   "metadata": {},
   "outputs": [],
   "source": [
    "batch_size = 128"
   ]
  },
  {
   "cell_type": "code",
   "execution_count": 32,
   "id": "c9f797a7",
   "metadata": {},
   "outputs": [],
   "source": [
    "a = torch.randn((batch_size, 25))"
   ]
  },
  {
   "cell_type": "code",
   "execution_count": 33,
   "id": "33938b71",
   "metadata": {},
   "outputs": [
    {
     "data": {
      "text/plain": [
       "torch.Size([128, 5, 5])"
      ]
     },
     "execution_count": 33,
     "metadata": {},
     "output_type": "execute_result"
    }
   ],
   "source": [
    "a.view((batch_size, 5, 5)).shape"
   ]
  },
  {
   "cell_type": "code",
   "execution_count": 34,
   "id": "081d4380",
   "metadata": {},
   "outputs": [
    {
     "data": {
      "text/plain": [
       "torch.Size([128, 5, 5])"
      ]
     },
     "execution_count": 34,
     "metadata": {},
     "output_type": "execute_result"
    }
   ],
   "source": [
    "a.reshape((batch_size, 5, 5)).shape"
   ]
  },
  {
   "cell_type": "markdown",
   "id": "ac04ee12",
   "metadata": {},
   "source": [
    "Note that the new shape must be valid, as the number of required elements is the same as the number of original elements "
   ]
  },
  {
   "cell_type": "code",
   "execution_count": 35,
   "id": "d6317aea",
   "metadata": {},
   "outputs": [
    {
     "ename": "RuntimeError",
     "evalue": "shape '[128, 8, 4]' is invalid for input of size 3200",
     "output_type": "error",
     "traceback": [
      "\u001b[0;31m---------------------------------------------------------------------------\u001b[0m",
      "\u001b[0;31mRuntimeError\u001b[0m                              Traceback (most recent call last)",
      "Input \u001b[0;32mIn [35]\u001b[0m, in \u001b[0;36m<cell line: 1>\u001b[0;34m()\u001b[0m\n\u001b[0;32m----> 1\u001b[0m \u001b[43ma\u001b[49m\u001b[38;5;241;43m.\u001b[39;49m\u001b[43mreshape\u001b[49m\u001b[43m(\u001b[49m\u001b[43m(\u001b[49m\u001b[43mbatch_size\u001b[49m\u001b[43m,\u001b[49m\u001b[43m \u001b[49m\u001b[38;5;241;43m8\u001b[39;49m\u001b[43m,\u001b[49m\u001b[43m \u001b[49m\u001b[38;5;241;43m4\u001b[39;49m\u001b[43m)\u001b[49m\u001b[43m)\u001b[49m\n",
      "\u001b[0;31mRuntimeError\u001b[0m: shape '[128, 8, 4]' is invalid for input of size 3200"
     ]
    }
   ],
   "source": [
    "a.reshape((batch_size, 8, 4))"
   ]
  },
  {
   "cell_type": "markdown",
   "id": "d41035d2",
   "metadata": {},
   "source": [
    "View and reshape are used to change the shape of a tensor, they **don't create a new tensor**, what they do is that they provide us with a specific view of that tensor\n",
    "\n",
    "The main difference is that:\n",
    "- `view` cannot be used on *non contiguous* tensors\n",
    "- `reshape` is used on both *contiguous* and *non contiguous* tensors, if the tensor is *contiguous* it will internally use view, otherwise it will use reshape\n",
    "\n",
    "\n",
    "*contiguous* means that the we are viewing the tensor in the same order it's ordered in in the memory\n",
    "you can learn more through this [article](https://medium.com/analytics-vidhya/pytorch-contiguous-vs-non-contiguous-tensor-view-understanding-view-reshape-73e10cdfa0dd) "
   ]
  },
  {
   "cell_type": "code",
   "execution_count": 36,
   "id": "ec70c74e",
   "metadata": {},
   "outputs": [],
   "source": [
    "a = torch.randn((batch_size, 32, 64))"
   ]
  },
  {
   "cell_type": "code",
   "execution_count": 37,
   "id": "07fcef07",
   "metadata": {},
   "outputs": [
    {
     "name": "stdout",
     "output_type": "stream",
     "text": [
      "Permutation: torch.Size([128, 64, 32])\n",
      "Reshaping: torch.Size([128, 64, 32])\n"
     ]
    }
   ],
   "source": [
    "print(f\"Permutation: {a.permute((0, 2, 1)).shape}\\nReshaping: {a.reshape((batch_size, 64, 32)).shape}\")"
   ]
  },
  {
   "cell_type": "markdown",
   "id": "61eb4373",
   "metadata": {},
   "source": [
    "Permutation is an operation to switch the axes of a tensor, without changing each axis length"
   ]
  },
  {
   "cell_type": "markdown",
   "id": "69a7b903",
   "metadata": {},
   "source": [
    "### Changing the Device"
   ]
  },
  {
   "cell_type": "code",
   "execution_count": 38,
   "id": "bea54ba7",
   "metadata": {},
   "outputs": [],
   "source": [
    "device = torch.device(\"cuda\" if torch.cuda.is_available() else \"cpu\")"
   ]
  },
  {
   "cell_type": "code",
   "execution_count": 39,
   "id": "ff2e7ba0",
   "metadata": {},
   "outputs": [
    {
     "data": {
      "text/plain": [
       "device(type='cuda', index=0)"
      ]
     },
     "execution_count": 39,
     "metadata": {},
     "output_type": "execute_result"
    }
   ],
   "source": [
    "a = a.to(device)\n",
    "a.device"
   ]
  },
  {
   "cell_type": "markdown",
   "id": "585ba784",
   "metadata": {},
   "source": [
    "## Common Operations"
   ]
  },
  {
   "cell_type": "code",
   "execution_count": 40,
   "id": "4c8ac992",
   "metadata": {},
   "outputs": [
    {
     "data": {
      "text/plain": [
       "tensor([[-1.4805,  1.3048,  0.8085, -0.2649, -0.2437],\n",
       "        [ 0.5492,  0.2483,  0.1300, -0.8308, -1.8253],\n",
       "        [-2.3664, -0.3820, -0.6254, -0.1817,  0.0952],\n",
       "        [ 0.9206, -0.0480,  0.8068,  0.8988,  0.7282],\n",
       "        [-0.6080, -0.5726, -1.0910,  0.0517, -0.3867]])"
      ]
     },
     "execution_count": 40,
     "metadata": {},
     "output_type": "execute_result"
    }
   ],
   "source": [
    "a = torch.randn((5, 5))\n",
    "a"
   ]
  },
  {
   "cell_type": "code",
   "execution_count": 41,
   "id": "9c584453",
   "metadata": {},
   "outputs": [
    {
     "data": {
      "text/plain": [
       "tensor([[1.4805, 1.3048, 0.8085, 0.2649, 0.2437],\n",
       "        [0.5492, 0.2483, 0.1300, 0.8308, 1.8253],\n",
       "        [2.3664, 0.3820, 0.6254, 0.1817, 0.0952],\n",
       "        [0.9206, 0.0480, 0.8068, 0.8988, 0.7282],\n",
       "        [0.6080, 0.5726, 1.0910, 0.0517, 0.3867]])"
      ]
     },
     "execution_count": 41,
     "metadata": {},
     "output_type": "execute_result"
    }
   ],
   "source": [
    "abs_a = a.abs()\n",
    "abs_a"
   ]
  },
  {
   "cell_type": "code",
   "execution_count": 42,
   "id": "9ee67e0d",
   "metadata": {},
   "outputs": [
    {
     "data": {
      "text/plain": [
       "tensor([[ 0.0902,  0.2629,  0.6906,  0.9651,  0.9705],\n",
       "        [ 0.8529,  0.9693,  0.9916,  0.6743, -0.2518],\n",
       "        [-0.7143,  0.9279,  0.8107,  0.9835,  0.9955],\n",
       "        [ 0.6053,  0.9988,  0.6918,  0.6226,  0.7464],\n",
       "        [ 0.8208,  0.8405,  0.4616,  0.9987,  0.9261]])"
      ]
     },
     "execution_count": 42,
     "metadata": {},
     "output_type": "execute_result"
    }
   ],
   "source": [
    "cos_a = a.cos()\n",
    "cos_a"
   ]
  },
  {
   "cell_type": "markdown",
   "id": "40347381",
   "metadata": {},
   "source": [
    "### min, max, argmin, argmax"
   ]
  },
  {
   "cell_type": "code",
   "execution_count": 43,
   "id": "517e34bb",
   "metadata": {},
   "outputs": [
    {
     "data": {
      "text/plain": [
       "(tensor(-2.3664), tensor(10))"
      ]
     },
     "execution_count": 43,
     "metadata": {},
     "output_type": "execute_result"
    }
   ],
   "source": [
    "a.min(), a.argmin()"
   ]
  },
  {
   "cell_type": "markdown",
   "id": "483745a0",
   "metadata": {},
   "source": [
    "`a.min()`: returns the minimum value found in all of the matrix\n",
    "\n",
    "`a.argmin()`: returns the index of the minimum value, given it's flattened"
   ]
  },
  {
   "cell_type": "code",
   "execution_count": 44,
   "id": "f08f157b",
   "metadata": {},
   "outputs": [
    {
     "name": "stdout",
     "output_type": "stream",
     "text": [
      "torch.return_types.min(\n",
      "values=tensor([-2.3664, -0.5726, -1.0910, -0.8308, -1.8253]),\n",
      "indices=tensor([2, 4, 4, 1, 1]))\n",
      "\n",
      "tensor([2, 4, 4, 1, 1])\n"
     ]
    }
   ],
   "source": [
    "print(a.min(dim=0), a.argmin(dim=0), sep='\\n\\n')"
   ]
  },
  {
   "cell_type": "markdown",
   "id": "d275be3b",
   "metadata": {},
   "source": [
    "`a.min(dim=0)`: returns two items:\n",
    "- The first is the minimum value found for each vector at the specified dimension, since we specified the `dim=0` (which means rows), we will get the minimum value found at every row, so five rows yeilds five minimum values, \n",
    "- The second item is the indices of these values at every given row  \n",
    "\n",
    "`a.argmin(dim=0)`: returns the indices of the minimum values found at each vector in the specified dimension, similar to the second item returned from the `a.min(dim=0)`"
   ]
  },
  {
   "cell_type": "markdown",
   "id": "c3e7f3a4",
   "metadata": {},
   "source": [
    "#### Note\n",
    "`argmin` and `argmax` are specifically helpful in functions like cross entropy, or finding the maximum probability from the output of a neural network"
   ]
  },
  {
   "cell_type": "markdown",
   "id": "be4580ad",
   "metadata": {},
   "source": [
    "You can view a detailed [list of operations](https://pytorch.org/docs/stable/tensors.html#torch.Tensor.mH)"
   ]
  },
  {
   "cell_type": "markdown",
   "id": "d62feab7",
   "metadata": {},
   "source": [
    "### Inline Operations"
   ]
  },
  {
   "cell_type": "markdown",
   "id": "92b60c53",
   "metadata": {},
   "source": [
    "Adding an underscore (_) after an operation, makes the operation in place, meaning it will change the tensor and not returning a new copy as before"
   ]
  },
  {
   "cell_type": "code",
   "execution_count": 45,
   "id": "1e9de389",
   "metadata": {},
   "outputs": [
    {
     "data": {
      "text/plain": [
       "tensor(False)"
      ]
     },
     "execution_count": 45,
     "metadata": {},
     "output_type": "execute_result"
    }
   ],
   "source": [
    "abs_a = a.abs()\n",
    "(a == abs_a).all()"
   ]
  },
  {
   "cell_type": "code",
   "execution_count": 46,
   "id": "174e7269",
   "metadata": {},
   "outputs": [
    {
     "data": {
      "text/plain": [
       "tensor(True)"
      ]
     },
     "execution_count": 46,
     "metadata": {},
     "output_type": "execute_result"
    }
   ],
   "source": [
    "a.abs_()\n",
    "(a == abs_a).all()"
   ]
  },
  {
   "cell_type": "code",
   "execution_count": null,
   "id": "a0299e00",
   "metadata": {},
   "outputs": [],
   "source": []
  }
 ],
 "metadata": {
  "kernelspec": {
   "display_name": "Python 3 (ipykernel)",
   "language": "python",
   "name": "python3"
  },
  "language_info": {
   "codemirror_mode": {
    "name": "ipython",
    "version": 3
   },
   "file_extension": ".py",
   "mimetype": "text/x-python",
   "name": "python",
   "nbconvert_exporter": "python",
   "pygments_lexer": "ipython3",
   "version": "3.8.8"
  },
  "toc": {
   "base_numbering": 1,
   "nav_menu": {},
   "number_sections": true,
   "sideBar": true,
   "skip_h1_title": false,
   "title_cell": "Table of Contents",
   "title_sidebar": "Contents",
   "toc_cell": false,
   "toc_position": {},
   "toc_section_display": true,
   "toc_window_display": true
  }
 },
 "nbformat": 4,
 "nbformat_minor": 5
}
