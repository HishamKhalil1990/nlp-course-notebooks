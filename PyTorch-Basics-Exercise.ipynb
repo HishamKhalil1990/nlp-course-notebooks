{
 "cells": [
  {
   "cell_type": "code",
   "execution_count": 2,
   "id": "a3465bc1",
   "metadata": {},
   "outputs": [
    {
     "name": "stderr",
     "output_type": "stream",
     "text": [
      "Matplotlib is building the font cache; this may take a moment.\n"
     ]
    }
   ],
   "source": [
    "import os\n",
    "import torch\n",
    "import torchmetrics\n",
    "import torchvision\n",
    "import numpy as np\n",
    "from dataclasses import dataclass\n",
    "from pathlib import Path\n",
    "from torch import nn\n",
    "from matplotlib import pyplot as plt\n",
    "from sklearn.datasets import load_digits\n",
    "\n",
    "%matplotlib inline"
   ]
  },
  {
   "cell_type": "markdown",
   "id": "1f31f386",
   "metadata": {},
   "source": [
    "# Introduction"
   ]
  },
  {
   "cell_type": "markdown",
   "id": "9a45b60d",
   "metadata": {},
   "source": [
    "The goal of this exercise is to implement a machine learning project using PyTorch and its ecosystem of packages.\n",
    "\n",
    "The task at hand is MNIST image classification, given a grayscale image of handwritten image, the task is to classify the image and determine which digit it represents from (0-9)\n",
    "\n",
    "The neural network that we will implement is a simple Feed Forward Neural Network (FFNN)\n",
    "\n",
    "In this exercise we will be using the following extra packages for PyTorch:\n",
    "\n",
    "1. [`torchvision`](https://pytorch.org/vision/stable/index.html): computer vision utility functions and extensions for PyTroch\n",
    "2. [`torchmetrics`](https://torchmetrics.readthedocs.io/en/stable/all-metrics.html): ready to use metrics for evaluating a machine learning model"
   ]
  },
  {
   "cell_type": "markdown",
   "id": "f123d749",
   "metadata": {},
   "source": [
    "## Instructions\n",
    "\n",
    "1. Some tasks are already done for you, with a link to the related documentation left for your reference\n",
    "2. Tasks that you're required to do are labeled with `TODO`\n",
    "3. Use search engines and the official documentation as much as you can to gain better insights on the topics at hand"
   ]
  },
  {
   "cell_type": "markdown",
   "id": "1b317f4b",
   "metadata": {},
   "source": [
    "## Workflow\n",
    "\n",
    "1. Prepare the dataset and data loaders\n",
    "2. Explore the dataset visually\n",
    "3. Define the model architecture\n",
    "4. Prepare for training, by creating loss function, optimizer and metric function\n",
    "5. Create training scripts and train\n",
    "6. Validate the results visually"
   ]
  },
  {
   "cell_type": "markdown",
   "id": "d6d670ed",
   "metadata": {},
   "source": [
    "## Setup Device"
   ]
  },
  {
   "cell_type": "code",
   "execution_count": 3,
   "id": "566bffaf",
   "metadata": {},
   "outputs": [],
   "source": [
    "device = torch.device(\"cuda\" if torch.cuda.is_available() else \"cpu\")"
   ]
  },
  {
   "cell_type": "code",
   "execution_count": 4,
   "id": "f64e9a3e",
   "metadata": {},
   "outputs": [
    {
     "name": "stdout",
     "output_type": "stream",
     "text": [
      "cpu\n"
     ]
    }
   ],
   "source": [
    "print(device)"
   ]
  },
  {
   "cell_type": "markdown",
   "id": "973c6401",
   "metadata": {},
   "source": [
    "# Dataset"
   ]
  },
  {
   "cell_type": "markdown",
   "id": "c3514b97",
   "metadata": {},
   "source": [
    "## Dataset "
   ]
  },
  {
   "cell_type": "code",
   "execution_count": 5,
   "id": "2cc9ae4a",
   "metadata": {},
   "outputs": [],
   "source": [
    "# Create a local directory to store the dataset\n",
    "data_dir = os.path.join(os.curdir, \"data\")\n",
    "Path(data_dir).mkdir(exist_ok=True)"
   ]
  },
  {
   "cell_type": "markdown",
   "id": "c9e4f15b",
   "metadata": {},
   "source": [
    "`torchvision` is part of PyTorch ecosystem, it has utilities for computer vision models.\n",
    "\n",
    "We will first use the dataset submodule to import the *MNIST* dataset, you can find more details [here](https://pytorch.org/vision/stable/datasets.html)\n",
    "\n"
   ]
  },
  {
   "cell_type": "code",
   "execution_count": 6,
   "id": "3b63e5e3",
   "metadata": {},
   "outputs": [],
   "source": [
    "# Create transform functions to apply to each image once it's downloaded\n",
    "# REFERENCE: https://pytorch.org/vision/stable/transforms.html\n",
    "transforms = torchvision.transforms.Compose(transforms=[\n",
    "    torchvision.transforms.ToTensor(),\n",
    "    torchvision.transforms.Lambda(lambda x: torch.flatten(x))\n",
    "])"
   ]
  },
  {
   "cell_type": "code",
   "execution_count": 61,
   "id": "9c22792e",
   "metadata": {},
   "outputs": [],
   "source": [
    "# TODO: Use torchvision datasets to load both MNSIT training and testing splits\n",
    "# REFERENCE: https://pytorch.org/vision/stable/datasets.html\n",
    "train_dataset = torchvision.datasets.MNIST(data_dir,train=True,download=True,transform=transforms)\n",
    "test_dataset = torchvision.datasets.MNIST(data_dir,train=False,download=True,transform=transforms)"
   ]
  },
  {
   "cell_type": "markdown",
   "id": "90611235",
   "metadata": {},
   "source": [
    "## DataLoader"
   ]
  },
  {
   "cell_type": "code",
   "execution_count": 64,
   "id": "26567850",
   "metadata": {},
   "outputs": [],
   "source": [
    "# Define batch size\n",
    "batch_size = 36\n",
    "\n",
    "# TODO: Create dataloaders, allow shuffle and set the batch size to the defined variable\n",
    "# REFERENCE: https://pytorch.org/tutorials/beginner/basics/data_tutorial.html#preparing-your-data-for-training-with-dataloaders\n",
    "train_loader = torch.utils.data.DataLoader(train_dataset,batch_size=batch_size)\n",
    "test_loader = torch.utils.data.DataLoader(test_dataset,batch_size=batch_size)"
   ]
  },
  {
   "cell_type": "markdown",
   "id": "cc480b2c",
   "metadata": {},
   "source": [
    "## Exploration"
   ]
  },
  {
   "cell_type": "code",
   "execution_count": 65,
   "id": "04317445",
   "metadata": {},
   "outputs": [
    {
     "data": {
      "image/png": "[encoded data removed]",
      "text/plain": [
       "<Figure size 864x864 with 6 Axes>"
      ]
     },
     "metadata": {
      "needs_background": "light"
     },
     "output_type": "display_data"
    }
   ],
   "source": [
    "# Explore the dataset manually\n",
    "samples = train_dataset.data[0:6]\n",
    "labels = train_dataset.targets[0:6]\n",
    "\n",
    "fig, axes = plt.subplots(figsize=(12, 12), nrows=3, ncols=2)\n",
    "\n",
    "axes = np.array(axes).flatten()\n",
    "\n",
    "for index, sample in enumerate(samples):\n",
    "    axes[index].imshow(sample)\n",
    "    axes[index].set_title(labels[index].item(), fontdict={\"size\": 15}, pad=15)\n",
    "    \n",
    "\n",
    "fig.subplots_adjust(hspace=0.5)"
   ]
  },
  {
   "cell_type": "code",
   "execution_count": 66,
   "id": "99cf60ca",
   "metadata": {},
   "outputs": [
    {
     "name": "stdout",
     "output_type": "stream",
     "text": [
      "torch.Size([28, 28])\n"
     ]
    }
   ],
   "source": [
    "print(samples[0].shape)"
   ]
  },
  {
   "cell_type": "markdown",
   "id": "749aa12c",
   "metadata": {},
   "source": [
    "# Model"
   ]
  },
  {
   "cell_type": "code",
   "execution_count": 67,
   "id": "cc6c0ed2",
   "metadata": {},
   "outputs": [],
   "source": [
    "# The model class is created for you\n",
    "# TODO: Define a three layer Feed Forward Neural Network (FFNN), \n",
    "# choose the input layer and output layer dimensions as appropriate, \n",
    "# and you can personally choose the hidden dimensions\n",
    "a = samples[0].shape[0]\n",
    "b = samples[0].shape[1]\n",
    "class MNISTClassifier(nn.Module):\n",
    "    def __init__(self):\n",
    "        super(MNISTClassifier, self).__init__()\n",
    "        self.fc1 = nn.Linear(in_features=a*b,out_features=100,bias=True)\n",
    "        self.fc2 = nn.Linear(in_features=100,out_features=50,bias=True)\n",
    "        self.fc3 = nn.Linear(in_features=50,out_features=10,bias=True)\n",
    "        self.relu = nn.functional.relu\n",
    "    # TODO: Define the fowrad function given an input image `x`\n",
    "    # REMEMBER: To pass the input to a linear layer and apply an activation function of your choice afterwards\n",
    "    # REMEMBER: The final output activation function is related to the loss function you'll use\n",
    "    def forward(self, x):\n",
    "        output = self.relu(self.fc1(x))\n",
    "        output = self.relu(self.fc2(output))\n",
    "        output = self.fc3(output)\n",
    "        return output"
   ]
  },
  {
   "cell_type": "code",
   "execution_count": 76,
   "id": "1eda779f",
   "metadata": {},
   "outputs": [
    {
     "name": "stdout",
     "output_type": "stream",
     "text": [
      "[Parameter containing:\n",
      "tensor([[ 0.0336, -0.0141,  0.0207,  ...,  0.0277,  0.0083,  0.0015],\n",
      "        [ 0.0348, -0.0139,  0.0045,  ...,  0.0088, -0.0209, -0.0355],\n",
      "        [-0.0222, -0.0039, -0.0351,  ..., -0.0295,  0.0139,  0.0020],\n",
      "        ...,\n",
      "        [-0.0054, -0.0220, -0.0210,  ...,  0.0296,  0.0328,  0.0039],\n",
      "        [ 0.0120,  0.0276, -0.0151,  ...,  0.0147, -0.0351,  0.0058],\n",
      "        [ 0.0091, -0.0306,  0.0003,  ..., -0.0023, -0.0341,  0.0216]],\n",
      "       requires_grad=True), Parameter containing:\n",
      "tensor([ 0.0024, -0.0250,  0.0138,  0.0152,  0.0351, -0.0355, -0.0065, -0.0253,\n",
      "         0.0289, -0.0282,  0.0180,  0.0060, -0.0354, -0.0142,  0.0061, -0.0326,\n",
      "        -0.0207, -0.0345,  0.0272, -0.0144,  0.0076,  0.0327,  0.0002,  0.0026,\n",
      "        -0.0004, -0.0316,  0.0318,  0.0035, -0.0174, -0.0214, -0.0292, -0.0197,\n",
      "         0.0068,  0.0050, -0.0233,  0.0022,  0.0307,  0.0287, -0.0290, -0.0219,\n",
      "        -0.0186, -0.0326, -0.0185,  0.0205, -0.0063,  0.0310, -0.0199,  0.0136,\n",
      "         0.0028, -0.0145,  0.0040,  0.0250,  0.0053,  0.0229,  0.0186,  0.0143,\n",
      "         0.0115,  0.0340,  0.0233,  0.0041,  0.0295,  0.0315,  0.0267,  0.0113,\n",
      "        -0.0276,  0.0137, -0.0156,  0.0326,  0.0059, -0.0262, -0.0025, -0.0199,\n",
      "         0.0029, -0.0179, -0.0201,  0.0158,  0.0045,  0.0264,  0.0298, -0.0112,\n",
      "         0.0180, -0.0039,  0.0120, -0.0243,  0.0261,  0.0311,  0.0225, -0.0145,\n",
      "         0.0267, -0.0139, -0.0115, -0.0007, -0.0072,  0.0206, -0.0222,  0.0290,\n",
      "        -0.0334,  0.0054,  0.0088, -0.0201], requires_grad=True), Parameter containing:\n",
      "tensor([[-0.0074, -0.0847,  0.0973,  ...,  0.0941,  0.0837, -0.0675],\n",
      "        [ 0.0779,  0.0833, -0.0410,  ..., -0.0473,  0.0359,  0.0841],\n",
      "        [ 0.0432,  0.0754,  0.0582,  ..., -0.0792, -0.0119, -0.0632],\n",
      "        ...,\n",
      "        [-0.0648, -0.0651, -0.0037,  ..., -0.0837,  0.0495, -0.0057],\n",
      "        [ 0.0903,  0.0643, -0.0014,  ..., -0.0550,  0.0655,  0.0284],\n",
      "        [ 0.0911,  0.0864, -0.0106,  ...,  0.0115, -0.0670, -0.0766]],\n",
      "       requires_grad=True), Parameter containing:\n",
      "tensor([-0.0092, -0.0610, -0.0033,  0.0765, -0.0400,  0.0434, -0.0033, -0.0649,\n",
      "         0.0463, -0.0743, -0.0738, -0.0229, -0.0256,  0.0992, -0.0680, -0.0943,\n",
      "        -0.0345, -0.0194,  0.0405,  0.0884, -0.0571,  0.0884, -0.0534, -0.0556,\n",
      "        -0.0672, -0.0276, -0.0900,  0.0913,  0.0704,  0.0466, -0.0283,  0.0842,\n",
      "         0.0423,  0.0442, -0.0639,  0.0838,  0.0519,  0.0263,  0.0120,  0.0805,\n",
      "        -0.0673, -0.0914, -0.0941, -0.0876, -0.0066,  0.0129, -0.0147, -0.0750,\n",
      "        -0.0411, -0.0108], requires_grad=True), Parameter containing:\n",
      "tensor([[ 0.0999, -0.1373, -0.0251, -0.1180, -0.0842, -0.0837,  0.0270, -0.1236,\n",
      "          0.0896, -0.0872, -0.0447,  0.0394,  0.1095,  0.0464,  0.1150, -0.0239,\n",
      "          0.0595, -0.0288, -0.1015, -0.0280,  0.1022,  0.1078, -0.0077, -0.1045,\n",
      "          0.0771,  0.1300, -0.0937, -0.1352, -0.0217, -0.0045,  0.0269, -0.0072,\n",
      "         -0.0095,  0.1056, -0.0079,  0.1157,  0.0758,  0.0537,  0.1407, -0.0443,\n",
      "         -0.0509,  0.0416,  0.0505, -0.1309, -0.0050,  0.0762, -0.1155,  0.0531,\n",
      "         -0.0358,  0.0968],\n",
      "        [ 0.0476,  0.0098,  0.1151,  0.0005,  0.0154,  0.0396, -0.0836, -0.1278,\n",
      "          0.0767,  0.1294, -0.0493,  0.1207, -0.0304,  0.1120, -0.0055, -0.1209,\n",
      "          0.0301, -0.0385,  0.1227,  0.0208, -0.1404,  0.1368,  0.0126, -0.0517,\n",
      "          0.0261,  0.0248,  0.0551, -0.0674, -0.1069, -0.0154, -0.0194,  0.0157,\n",
      "         -0.0655, -0.0763,  0.0191, -0.0592,  0.0225,  0.1395,  0.0281, -0.0536,\n",
      "         -0.0116, -0.1006,  0.0881,  0.1112, -0.0724, -0.0646, -0.1197,  0.0312,\n",
      "         -0.1413,  0.1146],\n",
      "        [ 0.0460, -0.0863, -0.0151, -0.1338,  0.0917,  0.1128, -0.0244,  0.0320,\n",
      "          0.1373,  0.1078,  0.0824,  0.0363, -0.0122,  0.0847,  0.1155,  0.0984,\n",
      "          0.0544, -0.0246,  0.0356, -0.0651, -0.1372, -0.0242, -0.1190, -0.0016,\n",
      "          0.0185,  0.1097,  0.0113,  0.1015, -0.0361,  0.0780,  0.0918,  0.0829,\n",
      "          0.0147, -0.1098, -0.0811,  0.0571, -0.0754, -0.0265,  0.1189,  0.1329,\n",
      "         -0.0886, -0.0627, -0.1114,  0.0567, -0.1014,  0.0080, -0.0817,  0.0260,\n",
      "          0.1373,  0.0556],\n",
      "        [ 0.0438, -0.0914,  0.0214,  0.0913, -0.0179,  0.0984,  0.0241, -0.1354,\n",
      "         -0.1335,  0.1268, -0.0932,  0.0665,  0.0772, -0.0367, -0.0807, -0.1369,\n",
      "          0.1396, -0.0956,  0.0548, -0.1203,  0.0254,  0.1393, -0.0047, -0.0687,\n",
      "         -0.0290,  0.0483, -0.0822, -0.0014,  0.0816, -0.0349, -0.0912, -0.1197,\n",
      "          0.1168, -0.0384,  0.0417, -0.0359,  0.0968, -0.0658, -0.0096,  0.0676,\n",
      "         -0.0091, -0.0896, -0.0486,  0.0772, -0.0591, -0.0425,  0.0146,  0.0026,\n",
      "          0.0786,  0.0704],\n",
      "        [-0.0956,  0.0243,  0.0586,  0.0304, -0.0220, -0.1145, -0.0943, -0.1130,\n",
      "         -0.0800,  0.0318, -0.0029,  0.0460,  0.0204, -0.0568, -0.0256,  0.0320,\n",
      "          0.0880, -0.0104, -0.1327,  0.0779,  0.0001, -0.0977, -0.0890, -0.0299,\n",
      "         -0.0869, -0.1044, -0.0206,  0.1249, -0.1330,  0.0149, -0.0047,  0.1074,\n",
      "         -0.0044, -0.0158, -0.0978,  0.0036, -0.0586,  0.0457, -0.1282,  0.1346,\n",
      "          0.0049,  0.0916,  0.1053, -0.1369,  0.0285,  0.0632,  0.0072, -0.0039,\n",
      "         -0.1333,  0.0140],\n",
      "        [ 0.0088, -0.0025,  0.0231, -0.1332,  0.0951,  0.0661, -0.1414, -0.0469,\n",
      "          0.1078,  0.0849,  0.0458, -0.0363,  0.1173,  0.0430,  0.0485, -0.0831,\n",
      "         -0.0930,  0.0730,  0.1298,  0.0092, -0.0159,  0.0100, -0.0132,  0.0453,\n",
      "         -0.0333, -0.0019,  0.0768, -0.1151,  0.1084, -0.1130,  0.0606,  0.1109,\n",
      "          0.1020,  0.0126, -0.0217, -0.0567,  0.0168, -0.0971, -0.0557, -0.0752,\n",
      "         -0.1056,  0.0414,  0.0804, -0.0740,  0.1335,  0.0982,  0.0844,  0.0301,\n",
      "         -0.0737,  0.1211],\n",
      "        [-0.0499,  0.0663, -0.0550, -0.0170, -0.1161, -0.0100, -0.0808, -0.1058,\n",
      "         -0.0446,  0.0560, -0.0454,  0.0180,  0.1408,  0.0827,  0.0316, -0.0881,\n",
      "          0.1109,  0.1039,  0.0440, -0.0210, -0.0446,  0.1396, -0.0235,  0.0928,\n",
      "          0.1293, -0.0301,  0.1197, -0.1262, -0.0430, -0.0315, -0.0362,  0.0986,\n",
      "         -0.0418, -0.0791,  0.1302,  0.0585,  0.0049, -0.1320,  0.0613,  0.1043,\n",
      "          0.0908, -0.0969,  0.0882, -0.0300, -0.0055, -0.0923,  0.0491,  0.0256,\n",
      "          0.1100,  0.1356],\n",
      "        [ 0.0288,  0.0338,  0.1122,  0.0916,  0.0177, -0.1295, -0.1392, -0.0177,\n",
      "         -0.0883, -0.0345,  0.0188,  0.0580,  0.0851,  0.0254, -0.1215, -0.0265,\n",
      "         -0.0585,  0.1188,  0.0119,  0.1217, -0.0678,  0.0431,  0.0523,  0.0977,\n",
      "          0.1305,  0.0731, -0.0219,  0.0698, -0.0891, -0.0901, -0.1162, -0.0561,\n",
      "          0.0638,  0.0514, -0.1011,  0.1146,  0.1097,  0.0409,  0.1397, -0.0965,\n",
      "          0.1281,  0.0756,  0.1279,  0.0448, -0.0183, -0.0128, -0.0932, -0.0375,\n",
      "          0.0884, -0.0676],\n",
      "        [-0.1385,  0.1373, -0.0399,  0.1150,  0.0441,  0.0578, -0.1148,  0.0196,\n",
      "         -0.1216,  0.1158,  0.1123,  0.0945, -0.0144,  0.1017, -0.0834,  0.0988,\n",
      "         -0.0358,  0.0272, -0.1294,  0.1158,  0.0170, -0.0504, -0.0961,  0.0041,\n",
      "         -0.1128, -0.0363,  0.1096, -0.1307,  0.0488,  0.0860, -0.0701,  0.0005,\n",
      "         -0.0032, -0.1095, -0.0755, -0.0992, -0.0037,  0.0956,  0.0366, -0.0336,\n",
      "          0.0353,  0.0222, -0.0442,  0.1359, -0.0753, -0.1046,  0.1090,  0.0581,\n",
      "         -0.1372, -0.1017],\n",
      "        [-0.1098,  0.0432, -0.1272,  0.0190,  0.1119,  0.0812, -0.0499,  0.1012,\n",
      "         -0.0687,  0.1138, -0.0108,  0.1129, -0.0019,  0.0287, -0.0209,  0.1106,\n",
      "          0.0534, -0.1387, -0.0876, -0.0340, -0.0913,  0.0503,  0.0827, -0.0240,\n",
      "          0.0657, -0.0149,  0.0689, -0.0656,  0.0771,  0.1066,  0.1185, -0.0641,\n",
      "         -0.1065,  0.1042,  0.0194, -0.1184,  0.0386,  0.0417, -0.0080, -0.0314,\n",
      "          0.0430, -0.0104, -0.1184, -0.0681, -0.0732,  0.1278,  0.0217,  0.1057,\n",
      "         -0.0903, -0.1409]], requires_grad=True), Parameter containing:\n",
      "tensor([ 0.0776, -0.0755,  0.0870,  0.0594, -0.0625, -0.0297,  0.0378,  0.0592,\n",
      "         0.0064, -0.0764], requires_grad=True)]\n"
     ]
    }
   ],
   "source": [
    "# Instanciate the model class and move it to your device \n",
    "model = MNISTClassifier()\n",
    "model = model.to(device)\n",
    "print(list(model.parameters()))"
   ]
  },
  {
   "cell_type": "markdown",
   "id": "00398329",
   "metadata": {},
   "source": [
    "# Training"
   ]
  },
  {
   "cell_type": "code",
   "execution_count": 77,
   "id": "b80f219b",
   "metadata": {},
   "outputs": [],
   "source": [
    "# Define number of epochs for training\n",
    "epochs = 15\n",
    "\n",
    "# TODO: Define the optimizer, loss criterion\n",
    "optim = torch.optim.Adam(model.parameters(),lr=0.001)\n",
    "critertion = nn.CrossEntropyLoss()\n",
    "# TODO: Define a metric function (F1 Score) to evaluate the model\n",
    "# REFERENCE: https://torchmetrics.readthedocs.io/en/stable/pages/overview.html\n",
    "# REMEMBER: To move the metric function to the appropriate device\n",
    "metric = torchmetrics.Accuracy().to(torch.device(device))"
   ]
  },
  {
   "cell_type": "code",
   "execution_count": 78,
   "id": "d349367f",
   "metadata": {},
   "outputs": [],
   "source": [
    "# A dataclass object defined to store the loss and metric results of each epoch\n",
    "# REFERENCE: https://realpython.com/python-data-classes/\n",
    "@dataclass\n",
    "class Epoch:\n",
    "    epoch: int\n",
    "    training_loss: float\n",
    "    validation_loss: float\n",
    "    training_acc: float\n",
    "    validation_acc: float\n",
    "        \n",
    "    \n",
    "    def log(self) -> None:\n",
    "        print(f\"Epoch {self.epoch + 1}: Training Loss: {self.training_loss}\\tValidation Loss: {self.validation_loss} || Training F1: {self.training_acc}\\tValidation F1: {self.validation_acc}\\n----------------------------------------------------\")"
   ]
  },
  {
   "cell_type": "markdown",
   "id": "d4063a0f",
   "metadata": {},
   "source": [
    "Instructions for training script ***for each epoch***:\n",
    "\n",
    "1. Set the initial epoch train and validation loss and metric to zero and reset the metric function\n",
    "2. Set the model to training mode \n",
    "3. Load all batches in *train* dataloader\n",
    "4. For each batch, unpack the inputs and target, move them to the correct device and pass them to the model to get predictions\n",
    "5. Calculate loss and metric values for the prediction\n",
    "6. Backpropagate the loss\n",
    "7. Accumulate the epoch train loss and metric\n",
    "8. Repeat the previous steps with appropriate changes to evaluate the model on the *test* data \n",
    "9. Store the epoch results in a history list\n",
    "\n",
    " "
   ]
  },
  {
   "cell_type": "code",
   "execution_count": 79,
   "id": "69ac3983",
   "metadata": {
    "scrolled": true
   },
   "outputs": [
    {
     "name": "stdout",
     "output_type": "stream",
     "text": [
      "True\n"
     ]
    },
    {
     "ename": "RuntimeError",
     "evalue": "element 0 of tensors does not require grad and does not have a grad_fn",
     "output_type": "error",
     "traceback": [
      "\u001b[1;31m---------------------------------------------------------------------------\u001b[0m",
      "\u001b[1;31mRuntimeError\u001b[0m                              Traceback (most recent call last)",
      "Input \u001b[1;32mIn [79]\u001b[0m, in \u001b[0;36m<cell line: 4>\u001b[1;34m()\u001b[0m\n\u001b[0;32m     29\u001b[0m loss \u001b[38;5;241m=\u001b[39m critertion(inputs, target)\n\u001b[0;32m     30\u001b[0m \u001b[38;5;66;03m#f1 = \u001b[39;00m\n\u001b[0;32m     31\u001b[0m \n\u001b[0;32m     32\u001b[0m \u001b[38;5;66;03m# TODO: Backward propagataion\u001b[39;00m\n\u001b[1;32m---> 33\u001b[0m \u001b[43mloss\u001b[49m\u001b[38;5;241;43m.\u001b[39;49m\u001b[43mbackward\u001b[49m\u001b[43m(\u001b[49m\u001b[43m)\u001b[49m\n\u001b[0;32m     34\u001b[0m optim\u001b[38;5;241m.\u001b[39mstep()\n\u001b[0;32m     35\u001b[0m \u001b[38;5;66;03m# Accumulate train loss\u001b[39;00m\n",
      "File \u001b[1;32mc:\\python_projects\\nlp\\nlp-course-notebooks\\venv\\lib\\site-packages\\torch\\_tensor.py:396\u001b[0m, in \u001b[0;36mTensor.backward\u001b[1;34m(self, gradient, retain_graph, create_graph, inputs)\u001b[0m\n\u001b[0;32m    387\u001b[0m \u001b[38;5;28;01mif\u001b[39;00m has_torch_function_unary(\u001b[38;5;28mself\u001b[39m):\n\u001b[0;32m    388\u001b[0m     \u001b[38;5;28;01mreturn\u001b[39;00m handle_torch_function(\n\u001b[0;32m    389\u001b[0m         Tensor\u001b[38;5;241m.\u001b[39mbackward,\n\u001b[0;32m    390\u001b[0m         (\u001b[38;5;28mself\u001b[39m,),\n\u001b[1;32m   (...)\u001b[0m\n\u001b[0;32m    394\u001b[0m         create_graph\u001b[38;5;241m=\u001b[39mcreate_graph,\n\u001b[0;32m    395\u001b[0m         inputs\u001b[38;5;241m=\u001b[39minputs)\n\u001b[1;32m--> 396\u001b[0m \u001b[43mtorch\u001b[49m\u001b[38;5;241;43m.\u001b[39;49m\u001b[43mautograd\u001b[49m\u001b[38;5;241;43m.\u001b[39;49m\u001b[43mbackward\u001b[49m\u001b[43m(\u001b[49m\u001b[38;5;28;43mself\u001b[39;49m\u001b[43m,\u001b[49m\u001b[43m \u001b[49m\u001b[43mgradient\u001b[49m\u001b[43m,\u001b[49m\u001b[43m \u001b[49m\u001b[43mretain_graph\u001b[49m\u001b[43m,\u001b[49m\u001b[43m \u001b[49m\u001b[43mcreate_graph\u001b[49m\u001b[43m,\u001b[49m\u001b[43m \u001b[49m\u001b[43minputs\u001b[49m\u001b[38;5;241;43m=\u001b[39;49m\u001b[43minputs\u001b[49m\u001b[43m)\u001b[49m\n",
      "File \u001b[1;32mc:\\python_projects\\nlp\\nlp-course-notebooks\\venv\\lib\\site-packages\\torch\\autograd\\__init__.py:173\u001b[0m, in \u001b[0;36mbackward\u001b[1;34m(tensors, grad_tensors, retain_graph, create_graph, grad_variables, inputs)\u001b[0m\n\u001b[0;32m    168\u001b[0m     retain_graph \u001b[38;5;241m=\u001b[39m create_graph\n\u001b[0;32m    170\u001b[0m \u001b[38;5;66;03m# The reason we repeat same the comment below is that\u001b[39;00m\n\u001b[0;32m    171\u001b[0m \u001b[38;5;66;03m# some Python versions print out the first line of a multi-line function\u001b[39;00m\n\u001b[0;32m    172\u001b[0m \u001b[38;5;66;03m# calls in the traceback and some print out the last line\u001b[39;00m\n\u001b[1;32m--> 173\u001b[0m \u001b[43mVariable\u001b[49m\u001b[38;5;241;43m.\u001b[39;49m\u001b[43m_execution_engine\u001b[49m\u001b[38;5;241;43m.\u001b[39;49m\u001b[43mrun_backward\u001b[49m\u001b[43m(\u001b[49m\u001b[43m  \u001b[49m\u001b[38;5;66;43;03m# Calls into the C++ engine to run the backward pass\u001b[39;49;00m\n\u001b[0;32m    174\u001b[0m \u001b[43m    \u001b[49m\u001b[43mtensors\u001b[49m\u001b[43m,\u001b[49m\u001b[43m \u001b[49m\u001b[43mgrad_tensors_\u001b[49m\u001b[43m,\u001b[49m\u001b[43m \u001b[49m\u001b[43mretain_graph\u001b[49m\u001b[43m,\u001b[49m\u001b[43m \u001b[49m\u001b[43mcreate_graph\u001b[49m\u001b[43m,\u001b[49m\u001b[43m \u001b[49m\u001b[43minputs\u001b[49m\u001b[43m,\u001b[49m\n\u001b[0;32m    175\u001b[0m \u001b[43m    \u001b[49m\u001b[43mallow_unreachable\u001b[49m\u001b[38;5;241;43m=\u001b[39;49m\u001b[38;5;28;43;01mTrue\u001b[39;49;00m\u001b[43m,\u001b[49m\u001b[43m \u001b[49m\u001b[43maccumulate_grad\u001b[49m\u001b[38;5;241;43m=\u001b[39;49m\u001b[38;5;28;43;01mTrue\u001b[39;49;00m\u001b[43m)\u001b[49m\n",
      "\u001b[1;31mRuntimeError\u001b[0m: element 0 of tensors does not require grad and does not have a grad_fn"
     ]
    }
   ],
   "source": [
    "#history: list[Epoch] = []\n",
    "history = []\n",
    "\n",
    "for epoch in range(epochs):\n",
    "    # TODO: Define epoch train and test: loss and metrics\n",
    "    epoch_train_loss = 0\n",
    "    epoch_train_f1 = 0\n",
    "    epoch_val_loss = 0\n",
    "    epoch_val_f1 = 0\n",
    "    # TODO: Make sure to reset the metric function\n",
    "    #metric.reset()\n",
    "    # TODO: Set the model to training mode\n",
    "    model.train()\n",
    "    print(model.training)\n",
    "    # Iterate train batches\n",
    "    for batch in train_loader:\n",
    "        \n",
    "        # REMEMBER: you need to reset the optimizer in order to avoid incorrect accumulation of gradientrs \n",
    "        optim.zero_grad()\n",
    "        \n",
    "        # TODO: Unpack the batch and move it to the correct device\n",
    "        inputs, target = batch\n",
    "        inputs, target = inputs.to(device),target.to(device)\n",
    "\n",
    "        # TODO: get prediction from model\n",
    "        predictions = model(inputs)\n",
    "        \n",
    "        # TODO: Calculate loss and metric\n",
    "        loss = critertion(inputs, target)\n",
    "        #f1 = \n",
    "        \n",
    "        # TODO: Backward propagataion\n",
    "        loss.backward()\n",
    "        optim.step()\n",
    "        # Accumulate train loss\n",
    "        epoch_train_loss += loss.item()\n",
    "    \n",
    "    # Calculate epoch training metric\n",
    "    epoch_train_f1 = round(metric.compute().item(), 3)\n",
    "\n",
    "    \n",
    "    # TODO: set the model to test mode\n",
    "    model.eval()\n",
    "    # Reset the metric function\n",
    "    #metric.reset()\n",
    "    # Make sure PyTorch will run inference without tracking gradients for enhancing performance\n",
    "    with torch.no_grad():\n",
    "        # TODO: Load batches from `test_loader`\n",
    "        for  batch in test_loader:\n",
    "            \n",
    "            # TODO: Unpack the batch and move it to the correct device\n",
    "            inputs, target = batch\n",
    "            inputs, target = inputs.to(device),target.to(device)\n",
    "\n",
    "            # TODO: get prediction from model\n",
    "            predictions = model(inputs)\n",
    "            \n",
    "            # TODO: Calculate loss and metric values\n",
    "            loss = critertion(inputs, target)\n",
    "            #f1 = \n",
    "            \n",
    "            # TODO: Accumulate validation loss\n",
    "            epoch_val_loss += loss.item()\n",
    "            \n",
    "        # TODO: Calculate epoch validation metric\n",
    "        epoch_val_f1 = round(metric.compute().item(), 3)\n",
    "      \n",
    "\n",
    "    # Calculate epoch training loss\n",
    "    epoch_train_loss = round(epoch_train_loss / len(train_loader), 3)\n",
    "    # TODO: Calculate epoch validation loss\n",
    "    epoch_val_loss = round(epoch_val_loss / len(test_loader), 3)\n",
    "    \n",
    "    # TODO: Create `Epoch` instance with the results\n",
    "    epoch_result = Epoch(epoch=epoch, \n",
    "                         training_loss=epoch_train_loss, \n",
    "                         validation_loss=epoch_val_loss,\n",
    "                         training_acc=epoch_train_f1,\n",
    "                         validation_acc=epoch_val_f1,\n",
    "                        )\n",
    "    \n",
    "    # Add to history list\n",
    "    history.append(epoch_result)\n",
    "    # Log epoch output\n",
    "    epoch_result.log()"
   ]
  },
  {
   "cell_type": "markdown",
   "id": "6d26569b",
   "metadata": {},
   "source": [
    "# Visual Evaluation"
   ]
  },
  {
   "cell_type": "code",
   "execution_count": null,
   "id": "a0b187bf",
   "metadata": {
    "scrolled": false
   },
   "outputs": [],
   "source": [
    "sample = next(iter(test_loader))\n",
    "inputs, labels = sample\n",
    "\n",
    "\n",
    "fig, axes = plt.subplots(figsize=(20, 20), ncols=6, nrows=6)\n",
    "\n",
    "axes = np.array(axes).flatten()\n",
    "\n",
    "model.eval()\n",
    "for index in range(len(inputs)):\n",
    "    im = inputs[index]\n",
    "    label = labels[index].item()\n",
    "    \n",
    "    prediction = torch.softmax(model(im.to(device)), dim=-1)\n",
    "    prediction = torch.argmax(prediction).item()\n",
    "    \n",
    "    color = \"green\" if prediction == label else \"red\"\n",
    "    axes[index].set_title(f\"Predicted: {prediction}  Actual: {label}\", color=color)\n",
    "    \n",
    " \n",
    "    axes[index].imshow(im.reshape((28, 28)))\n",
    "    \n",
    "    \n",
    "fig.suptitle(\"Sample Predictions\", y=0.92, fontsize=15)\n",
    "fig.subplots_adjust(hspace=0.5)"
   ]
  },
  {
   "cell_type": "markdown",
   "id": "124e7393",
   "metadata": {},
   "source": [
    "# Extras"
   ]
  },
  {
   "cell_type": "markdown",
   "id": "a04671c3",
   "metadata": {},
   "source": [
    "1. Train the model on the Fashion MNIST dataset\n",
    "2. Create a deeper neural network\n",
    "3. Try a different metric function"
   ]
  },
  {
   "cell_type": "code",
   "execution_count": null,
   "id": "8a73623a",
   "metadata": {},
   "outputs": [],
   "source": []
  }
 ],
 "metadata": {
  "kernelspec": {
   "display_name": "Python 3 (ipykernel)",
   "language": "python",
   "name": "python3"
  },
  "language_info": {
   "codemirror_mode": {
    "name": "ipython",
    "version": 3
   },
   "file_extension": ".py",
   "mimetype": "text/x-python",
   "name": "python",
   "nbconvert_exporter": "python",
   "pygments_lexer": "ipython3",
   "version": "3.8.8"
  },
  "toc": {
   "base_numbering": 1,
   "nav_menu": {},
   "number_sections": true,
   "sideBar": true,
   "skip_h1_title": false,
   "title_cell": "Table of Contents",
   "title_sidebar": "Contents",
   "toc_cell": false,
   "toc_position": {},
   "toc_section_display": true,
   "toc_window_display": true
  },
  "vscode": {
   "interpreter": {
    "hash": "7ec8ca894ee27eb0429edfd9efb55f71ec59f0b9714a70caee63d0a988928375"
   }
  }
 },
 "nbformat": 4,
 "nbformat_minor": 5
}
