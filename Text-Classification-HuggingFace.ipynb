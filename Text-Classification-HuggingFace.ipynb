{
 "cells": [
  {
   "cell_type": "code",
   "execution_count": 1,
   "id": "53e75f31",
   "metadata": {},
   "outputs": [],
   "source": [
    "import os\n",
    "\n",
    "from functools import partial\n",
    "from typing import Callable\n",
    "\n",
    "import evaluate\n",
    "\n",
    "import numpy as np\n",
    "import pandas as pd\n",
    "\n",
    "from arabert.preprocess import ArabertPreprocessor\n",
    "from transformers import DataCollatorWithPadding, TrainingArguments, Trainer, pipeline\n",
    "from transformers import AutoTokenizer, AutoModelForSequenceClassification, AutoModel\n",
    "from datasets import Dataset, ClassLabel\n",
    "from evaluate import evaluator, combine"
   ]
  },
  {
   "cell_type": "markdown",
   "id": "5b917784",
   "metadata": {},
   "source": [
    "# Setup Data"
   ]
  },
  {
   "cell_type": "code",
   "execution_count": 2,
   "id": "eab8ae98",
   "metadata": {},
   "outputs": [],
   "source": [
    "dataset_path = \"https://nlp-slides.vercel.app/clean-tweets.tsv\"\n",
    "   \n",
    "dataset = pd.read_csv(filepath_or_buffer=dataset_path, sep=\"\\t\")"
   ]
  },
  {
   "cell_type": "code",
   "execution_count": 3,
   "id": "5f4a39c0",
   "metadata": {},
   "outputs": [
    {
     "data": {
      "text/html": [
       "<div>\n",
       "<style scoped>\n",
       "    .dataframe tbody tr th:only-of-type {\n",
       "        vertical-align: middle;\n",
       "    }\n",
       "\n",
       "    .dataframe tbody tr th {\n",
       "        vertical-align: top;\n",
       "    }\n",
       "\n",
       "    .dataframe thead th {\n",
       "        text-align: right;\n",
       "    }\n",
       "</style>\n",
       "<table border=\"1\" class=\"dataframe\">\n",
       "  <thead>\n",
       "    <tr style=\"text-align: right;\">\n",
       "      <th></th>\n",
       "      <th>Tweet</th>\n",
       "      <th>Country</th>\n",
       "      <th>Topic</th>\n",
       "      <th>Sentiment</th>\n",
       "      <th>Sentiment_Expression</th>\n",
       "      <th>Sentiment_Target</th>\n",
       "      <th>word_count</th>\n",
       "      <th>char_count</th>\n",
       "      <th>clean_text</th>\n",
       "      <th>clean_stemmed</th>\n",
       "    </tr>\n",
       "  </thead>\n",
       "  <tbody>\n",
       "    <tr>\n",
       "      <th>0</th>\n",
       "      <td>\"أنا أؤمن بأن الانسان ينطفئ جماله عند ابتعاد م...</td>\n",
       "      <td>lebanon</td>\n",
       "      <td>personal</td>\n",
       "      <td>negative</td>\n",
       "      <td>implicit</td>\n",
       "      <td>بريق العيون</td>\n",
       "      <td>23</td>\n",
       "      <td>132</td>\n",
       "      <td>اومن بان الانسان ينطفي جماله ابتعاد يحب بريق ا...</td>\n",
       "      <td>اوم بان انس نطف جمل بعد يحب برق عين خفي صبح ذب...</td>\n",
       "    </tr>\n",
       "    <tr>\n",
       "      <th>1</th>\n",
       "      <td>من الذاكره... @3FInQe . عندما اعتقد كريستيانو ...</td>\n",
       "      <td>jordan</td>\n",
       "      <td>sports</td>\n",
       "      <td>positive</td>\n",
       "      <td>explicit</td>\n",
       "      <td>افضل لاعب في العالم</td>\n",
       "      <td>23</td>\n",
       "      <td>141</td>\n",
       "      <td>الذاكره عندما اعتقد كريستيانو انه افضل لاعب ال...</td>\n",
       "      <td>ذكر عند عقد كريستيانو انه فضل لعب علم ككا يسي ...</td>\n",
       "    </tr>\n",
       "  </tbody>\n",
       "</table>\n",
       "</div>"
      ],
      "text/plain": [
       "                                               Tweet  Country     Topic  \\\n",
       "0  \"أنا أؤمن بأن الانسان ينطفئ جماله عند ابتعاد م...  lebanon  personal   \n",
       "1  من الذاكره... @3FInQe . عندما اعتقد كريستيانو ...   jordan    sports   \n",
       "\n",
       "  Sentiment Sentiment_Expression     Sentiment_Target  word_count  char_count  \\\n",
       "0  negative             implicit          بريق العيون          23         132   \n",
       "1  positive             explicit  افضل لاعب في العالم          23         141   \n",
       "\n",
       "                                          clean_text  \\\n",
       "0  اومن بان الانسان ينطفي جماله ابتعاد يحب بريق ا...   \n",
       "1  الذاكره عندما اعتقد كريستيانو انه افضل لاعب ال...   \n",
       "\n",
       "                                       clean_stemmed  \n",
       "0  اوم بان انس نطف جمل بعد يحب برق عين خفي صبح ذب...  \n",
       "1  ذكر عند عقد كريستيانو انه فضل لعب علم ككا يسي ...  "
      ]
     },
     "execution_count": 3,
     "metadata": {},
     "output_type": "execute_result"
    }
   ],
   "source": [
    "dataset.head(n=2)"
   ]
  },
  {
   "cell_type": "code",
   "execution_count": 4,
   "id": "55f4b012",
   "metadata": {},
   "outputs": [
    {
     "data": {
      "text/html": [
       "<div>\n",
       "<style scoped>\n",
       "    .dataframe tbody tr th:only-of-type {\n",
       "        vertical-align: middle;\n",
       "    }\n",
       "\n",
       "    .dataframe tbody tr th {\n",
       "        vertical-align: top;\n",
       "    }\n",
       "\n",
       "    .dataframe thead th {\n",
       "        text-align: right;\n",
       "    }\n",
       "</style>\n",
       "<table border=\"1\" class=\"dataframe\">\n",
       "  <thead>\n",
       "    <tr style=\"text-align: right;\">\n",
       "      <th></th>\n",
       "      <th>Tweet</th>\n",
       "      <th>Sentiment</th>\n",
       "    </tr>\n",
       "  </thead>\n",
       "  <tbody>\n",
       "    <tr>\n",
       "      <th>0</th>\n",
       "      <td>\"أنا أؤمن بأن الانسان ينطفئ جماله عند ابتعاد م...</td>\n",
       "      <td>negative</td>\n",
       "    </tr>\n",
       "    <tr>\n",
       "      <th>1</th>\n",
       "      <td>من الذاكره... @3FInQe . عندما اعتقد كريستيانو ...</td>\n",
       "      <td>positive</td>\n",
       "    </tr>\n",
       "    <tr>\n",
       "      <th>2</th>\n",
       "      <td>لا نخلو من ضغوطات الحياة. فنحن نعيش على أرض أع...</td>\n",
       "      <td>neutral</td>\n",
       "    </tr>\n",
       "  </tbody>\n",
       "</table>\n",
       "</div>"
      ],
      "text/plain": [
       "                                               Tweet Sentiment\n",
       "0  \"أنا أؤمن بأن الانسان ينطفئ جماله عند ابتعاد م...  negative\n",
       "1  من الذاكره... @3FInQe . عندما اعتقد كريستيانو ...  positive\n",
       "2  لا نخلو من ضغوطات الحياة. فنحن نعيش على أرض أع...   neutral"
      ]
     },
     "execution_count": 4,
     "metadata": {},
     "output_type": "execute_result"
    }
   ],
   "source": [
    "data = dataset[[\"Tweet\", \"Sentiment\"]]\n",
    "data.head(n=3)"
   ]
  },
  {
   "cell_type": "code",
   "execution_count": 5,
   "id": "58e10ffd",
   "metadata": {},
   "outputs": [],
   "source": [
    "data = data.rename({\"Tweet\": \"text\", \"Sentiment\": \"label\"}, axis=1)"
   ]
  },
  {
   "cell_type": "code",
   "execution_count": 6,
   "id": "547c250d",
   "metadata": {},
   "outputs": [],
   "source": [
    "data[\"label\"] = data[\"label\"].replace({\"negative\": 0, \"neutral\": 1, \"positive\": 2})"
   ]
  },
  {
   "cell_type": "code",
   "execution_count": 7,
   "id": "1ae5c255",
   "metadata": {},
   "outputs": [
    {
     "data": {
      "text/html": [
       "<div>\n",
       "<style scoped>\n",
       "    .dataframe tbody tr th:only-of-type {\n",
       "        vertical-align: middle;\n",
       "    }\n",
       "\n",
       "    .dataframe tbody tr th {\n",
       "        vertical-align: top;\n",
       "    }\n",
       "\n",
       "    .dataframe thead th {\n",
       "        text-align: right;\n",
       "    }\n",
       "</style>\n",
       "<table border=\"1\" class=\"dataframe\">\n",
       "  <thead>\n",
       "    <tr style=\"text-align: right;\">\n",
       "      <th></th>\n",
       "      <th>text</th>\n",
       "      <th>label</th>\n",
       "    </tr>\n",
       "  </thead>\n",
       "  <tbody>\n",
       "    <tr>\n",
       "      <th>0</th>\n",
       "      <td>\"أنا أؤمن بأن الانسان ينطفئ جماله عند ابتعاد م...</td>\n",
       "      <td>0</td>\n",
       "    </tr>\n",
       "    <tr>\n",
       "      <th>1</th>\n",
       "      <td>من الذاكره... @3FInQe . عندما اعتقد كريستيانو ...</td>\n",
       "      <td>2</td>\n",
       "    </tr>\n",
       "    <tr>\n",
       "      <th>2</th>\n",
       "      <td>لا نخلو من ضغوطات الحياة. فنحن نعيش على أرض أع...</td>\n",
       "      <td>1</td>\n",
       "    </tr>\n",
       "    <tr>\n",
       "      <th>3</th>\n",
       "      <td>#مصطلحات_لبنانيه_حيرت_البشريه بتوصل عالبيت ، ب...</td>\n",
       "      <td>0</td>\n",
       "    </tr>\n",
       "    <tr>\n",
       "      <th>4</th>\n",
       "      <td>نصمت !! لتسير حياتنا على مً يرام فالناّس لم تع...</td>\n",
       "      <td>0</td>\n",
       "    </tr>\n",
       "    <tr>\n",
       "      <th>...</th>\n",
       "      <td>...</td>\n",
       "      <td>...</td>\n",
       "    </tr>\n",
       "    <tr>\n",
       "      <th>3995</th>\n",
       "      <td>صلاح من لاعب في المقاولون العرب يحلم ان يلعب ل...</td>\n",
       "      <td>2</td>\n",
       "    </tr>\n",
       "    <tr>\n",
       "      <th>3996</th>\n",
       "      <td>الملك سلمان بن عبد العزيز: تطبيق الأنظمة بحزم ...</td>\n",
       "      <td>2</td>\n",
       "    </tr>\n",
       "    <tr>\n",
       "      <th>3997</th>\n",
       "      <td>@ZahraaIraq9 😂 كل ما ادخل حسابي الكه تغريداتج ...</td>\n",
       "      <td>0</td>\n",
       "    </tr>\n",
       "    <tr>\n",
       "      <th>3998</th>\n",
       "      <td>شو هالشعب نحنا اللي عايش بلا مي وكهربا والزبال...</td>\n",
       "      <td>0</td>\n",
       "    </tr>\n",
       "    <tr>\n",
       "      <th>3999</th>\n",
       "      <td>ترقبوا نقلاً مباشراً في نشرة أخبار الرياضية 8:...</td>\n",
       "      <td>1</td>\n",
       "    </tr>\n",
       "  </tbody>\n",
       "</table>\n",
       "<p>4000 rows × 2 columns</p>\n",
       "</div>"
      ],
      "text/plain": [
       "                                                   text  label\n",
       "0     \"أنا أؤمن بأن الانسان ينطفئ جماله عند ابتعاد م...      0\n",
       "1     من الذاكره... @3FInQe . عندما اعتقد كريستيانو ...      2\n",
       "2     لا نخلو من ضغوطات الحياة. فنحن نعيش على أرض أع...      1\n",
       "3     #مصطلحات_لبنانيه_حيرت_البشريه بتوصل عالبيت ، ب...      0\n",
       "4     نصمت !! لتسير حياتنا على مً يرام فالناّس لم تع...      0\n",
       "...                                                 ...    ...\n",
       "3995  صلاح من لاعب في المقاولون العرب يحلم ان يلعب ل...      2\n",
       "3996  الملك سلمان بن عبد العزيز: تطبيق الأنظمة بحزم ...      2\n",
       "3997  @ZahraaIraq9 😂 كل ما ادخل حسابي الكه تغريداتج ...      0\n",
       "3998  شو هالشعب نحنا اللي عايش بلا مي وكهربا والزبال...      0\n",
       "3999  ترقبوا نقلاً مباشراً في نشرة أخبار الرياضية 8:...      1\n",
       "\n",
       "[4000 rows x 2 columns]"
      ]
     },
     "execution_count": 7,
     "metadata": {},
     "output_type": "execute_result"
    }
   ],
   "source": [
    "data"
   ]
  },
  {
   "cell_type": "code",
   "execution_count": 8,
   "id": "e0bad5bd",
   "metadata": {},
   "outputs": [
    {
     "data": {
      "text/plain": [
       "0    1883\n",
       "2    1232\n",
       "1     885\n",
       "Name: label, dtype: int64"
      ]
     },
     "execution_count": 8,
     "metadata": {},
     "output_type": "execute_result"
    }
   ],
   "source": [
    "data[\"label\"].value_counts()"
   ]
  },
  {
   "cell_type": "markdown",
   "id": "2c715196",
   "metadata": {},
   "source": [
    "# Setup Model"
   ]
  },
  {
   "cell_type": "code",
   "execution_count": 9,
   "id": "d864a756",
   "metadata": {},
   "outputs": [],
   "source": [
    "model_name=\"aubmindlab/bert-large-arabertv02-twitter\""
   ]
  },
  {
   "cell_type": "markdown",
   "id": "56edb426",
   "metadata": {},
   "source": [
    "# Dataset"
   ]
  },
  {
   "cell_type": "markdown",
   "id": "ac860509",
   "metadata": {},
   "source": [
    "## Load Dataset"
   ]
  },
  {
   "cell_type": "code",
   "execution_count": 10,
   "id": "3d926e26",
   "metadata": {},
   "outputs": [],
   "source": [
    "dataset = Dataset.from_pandas(df=data)"
   ]
  },
  {
   "cell_type": "markdown",
   "id": "e3eac3e9",
   "metadata": {},
   "source": [
    "## Labelling"
   ]
  },
  {
   "cell_type": "code",
   "execution_count": 11,
   "id": "35ed519c",
   "metadata": {},
   "outputs": [],
   "source": [
    "classlabel = ClassLabel(num_classes=3, names=[\"negative\", \"neutral\", \"positive\"])"
   ]
  },
  {
   "cell_type": "code",
   "execution_count": 12,
   "id": "076f1cae",
   "metadata": {},
   "outputs": [
    {
     "data": {
      "application/vnd.jupyter.widget-view+json": {
       "model_id": "f4bd1b5245a04e3f8d7b83652ecb04a3",
       "version_major": 2,
       "version_minor": 0
      },
      "text/plain": [
       "Casting the dataset:   0%|          | 0/1 [00:00<?, ?ba/s]"
      ]
     },
     "metadata": {},
     "output_type": "display_data"
    }
   ],
   "source": [
    "dataset = dataset.cast_column(column=\"label\", feature=classlabel)"
   ]
  },
  {
   "cell_type": "code",
   "execution_count": 13,
   "id": "faf5ccd4",
   "metadata": {},
   "outputs": [
    {
     "data": {
      "text/plain": [
       "{'text': Value(dtype='string', id=None),\n",
       " 'label': ClassLabel(names=['negative', 'neutral', 'positive'], id=None)}"
      ]
     },
     "execution_count": 13,
     "metadata": {},
     "output_type": "execute_result"
    }
   ],
   "source": [
    "dataset.features"
   ]
  },
  {
   "cell_type": "markdown",
   "id": "d648e986",
   "metadata": {},
   "source": [
    "## Train Test Split"
   ]
  },
  {
   "cell_type": "markdown",
   "id": "f24ddfd5",
   "metadata": {},
   "source": [
    "## Preprocess Data for Model"
   ]
  },
  {
   "cell_type": "code",
   "execution_count": 14,
   "id": "dc2e4f2a",
   "metadata": {},
   "outputs": [],
   "source": [
    "arabert_prep = ArabertPreprocessor(model_name=model_name)"
   ]
  },
  {
   "cell_type": "code",
   "execution_count": 15,
   "id": "52cca3ce",
   "metadata": {},
   "outputs": [
    {
     "data": {
      "text/plain": [
       "'@ZahraaIraq9 😂 كل ما ادخل حسابي الكه تغريداتج عن حب العراق وانتي هسه اذا ينطوج جنسيه مال غير دوله و يجيج واتب كل را… https://t.co/MqZmtiTcil'"
      ]
     },
     "execution_count": 15,
     "metadata": {},
     "output_type": "execute_result"
    }
   ],
   "source": [
    "sample = dataset[3997]['text']\n",
    "sample"
   ]
  },
  {
   "cell_type": "code",
   "execution_count": 16,
   "id": "a315286c",
   "metadata": {},
   "outputs": [
    {
     "data": {
      "text/plain": [
       "'[مستخدم] 😂 كل ما ادخل حسابي الكه تغريداتج عن حب العراق وانتي هسه اذا ينطوج جنسيه مال غير دوله و يجيج واتب كل را … [رابط]'"
      ]
     },
     "execution_count": 16,
     "metadata": {},
     "output_type": "execute_result"
    }
   ],
   "source": [
    "arabert_prep.preprocess(sample)"
   ]
  },
  {
   "cell_type": "code",
   "execution_count": 17,
   "id": "1d17c950",
   "metadata": {},
   "outputs": [
    {
     "data": {
      "application/vnd.jupyter.widget-view+json": {
       "model_id": "9efdced27a7b42f4b5ae21c888941411",
       "version_major": 2,
       "version_minor": 0
      },
      "text/plain": [
       "  0%|          | 0/4000 [00:00<?, ?ex/s]"
      ]
     },
     "metadata": {},
     "output_type": "display_data"
    }
   ],
   "source": [
    "dataset = dataset.map(function=lambda x: {\"text\": arabert_prep.preprocess(x)}, input_columns=\"text\")"
   ]
  },
  {
   "cell_type": "code",
   "execution_count": 18,
   "id": "c5c6c500",
   "metadata": {},
   "outputs": [
    {
     "data": {
      "text/plain": [
       "'\" أنا أؤمن بأن الانسان ينطفئ جماله عند ابتعاد من يحب ، حتى بريق العيون يختفي فيصبح ذابلا منطفئا ، يتحول ربيعه الى خريف . \" . [مستخدم]'"
      ]
     },
     "execution_count": 18,
     "metadata": {},
     "output_type": "execute_result"
    }
   ],
   "source": [
    "dataset[0][\"text\"]"
   ]
  },
  {
   "cell_type": "markdown",
   "id": "67448f5f",
   "metadata": {},
   "source": [
    "## Train Test Split"
   ]
  },
  {
   "cell_type": "code",
   "execution_count": 19,
   "id": "b22adbdb",
   "metadata": {},
   "outputs": [],
   "source": [
    "dataset = dataset.train_test_split(test_size=0.2, stratify_by_column=\"label\")"
   ]
  },
  {
   "cell_type": "code",
   "execution_count": 20,
   "id": "0757f853",
   "metadata": {},
   "outputs": [
    {
     "data": {
      "text/plain": [
       "DatasetDict({\n",
       "    train: Dataset({\n",
       "        features: ['text', 'label'],\n",
       "        num_rows: 3200\n",
       "    })\n",
       "    test: Dataset({\n",
       "        features: ['text', 'label'],\n",
       "        num_rows: 800\n",
       "    })\n",
       "})"
      ]
     },
     "execution_count": 20,
     "metadata": {},
     "output_type": "execute_result"
    }
   ],
   "source": [
    "dataset"
   ]
  },
  {
   "cell_type": "markdown",
   "id": "9e63b6ad",
   "metadata": {},
   "source": [
    "## Tokenizer"
   ]
  },
  {
   "cell_type": "code",
   "execution_count": 21,
   "id": "ff60aea3",
   "metadata": {},
   "outputs": [],
   "source": [
    "tokenizer = AutoTokenizer.from_pretrained(pretrained_model_name_or_path=model_name)"
   ]
  },
  {
   "cell_type": "code",
   "execution_count": 22,
   "id": "7df9f160",
   "metadata": {},
   "outputs": [
    {
     "data": {
      "text/plain": [
       "PreTrainedTokenizerFast(name_or_path='aubmindlab/bert-large-arabertv02-twitter', vocab_size=64000, model_max_len=512, is_fast=True, padding_side='right', truncation_side='right', special_tokens={'unk_token': '[UNK]', 'sep_token': '[SEP]', 'pad_token': '[PAD]', 'cls_token': '[CLS]', 'mask_token': '[MASK]'})"
      ]
     },
     "execution_count": 22,
     "metadata": {},
     "output_type": "execute_result"
    }
   ],
   "source": [
    "tokenizer"
   ]
  },
  {
   "cell_type": "code",
   "execution_count": 23,
   "id": "2d172ecd",
   "metadata": {},
   "outputs": [
    {
     "data": {
      "application/vnd.jupyter.widget-view+json": {
       "model_id": "004af24a20ea449b823e73d604fc9c9e",
       "version_major": 2,
       "version_minor": 0
      },
      "text/plain": [
       "  0%|          | 0/3200 [00:00<?, ?ex/s]"
      ]
     },
     "metadata": {},
     "output_type": "display_data"
    },
    {
     "data": {
      "application/vnd.jupyter.widget-view+json": {
       "model_id": "33d9532e633f4f76b91e19d7525388fc",
       "version_major": 2,
       "version_minor": 0
      },
      "text/plain": [
       "  0%|          | 0/800 [00:00<?, ?ex/s]"
      ]
     },
     "metadata": {},
     "output_type": "display_data"
    }
   ],
   "source": [
    "dataset = dataset.map(function=lambda x: tokenizer(x, truncation=True, max_length=64), input_columns=\"text\")"
   ]
  },
  {
   "cell_type": "code",
   "execution_count": 24,
   "id": "e6577eb8",
   "metadata": {},
   "outputs": [
    {
     "data": {
      "text/plain": [
       "DatasetDict({\n",
       "    train: Dataset({\n",
       "        features: ['text', 'label', 'input_ids', 'token_type_ids', 'attention_mask'],\n",
       "        num_rows: 3200\n",
       "    })\n",
       "    test: Dataset({\n",
       "        features: ['text', 'label', 'input_ids', 'token_type_ids', 'attention_mask'],\n",
       "        num_rows: 800\n",
       "    })\n",
       "})"
      ]
     },
     "execution_count": 24,
     "metadata": {},
     "output_type": "execute_result"
    }
   ],
   "source": [
    "dataset"
   ]
  },
  {
   "cell_type": "markdown",
   "id": "34ff6925",
   "metadata": {},
   "source": [
    "## Model"
   ]
  },
  {
   "cell_type": "code",
   "execution_count": 25,
   "id": "bf9db50a",
   "metadata": {},
   "outputs": [
    {
     "name": "stderr",
     "output_type": "stream",
     "text": [
      "Some weights of the model checkpoint at aubmindlab/bert-large-arabertv02-twitter were not used when initializing BertForSequenceClassification: ['cls.predictions.transform.dense.weight', 'cls.predictions.transform.dense.bias', 'cls.predictions.transform.LayerNorm.weight', 'cls.predictions.bias', 'cls.predictions.decoder.bias', 'cls.predictions.decoder.weight', 'cls.predictions.transform.LayerNorm.bias']\n",
      "- This IS expected if you are initializing BertForSequenceClassification from the checkpoint of a model trained on another task or with another architecture (e.g. initializing a BertForSequenceClassification model from a BertForPreTraining model).\n",
      "- This IS NOT expected if you are initializing BertForSequenceClassification from the checkpoint of a model that you expect to be exactly identical (initializing a BertForSequenceClassification model from a BertForSequenceClassification model).\n",
      "Some weights of BertForSequenceClassification were not initialized from the model checkpoint at aubmindlab/bert-large-arabertv02-twitter and are newly initialized: ['bert.pooler.dense.bias', 'classifier.weight', 'classifier.bias', 'bert.pooler.dense.weight']\n",
      "You should probably TRAIN this model on a down-stream task to be able to use it for predictions and inference.\n"
     ]
    }
   ],
   "source": [
    "model = AutoModelForSequenceClassification.from_pretrained(\n",
    "    model_name, \n",
    "    num_labels=3\n",
    ")"
   ]
  },
  {
   "cell_type": "code",
   "execution_count": 26,
   "id": "e2c21ca3",
   "metadata": {},
   "outputs": [],
   "source": [
    "# Use DataCollatorWithPadding to pad tokens and prepare batches\n",
    "data_collator = DataCollatorWithPadding(tokenizer=tokenizer, max_length=64)"
   ]
  },
  {
   "cell_type": "markdown",
   "id": "f171baed",
   "metadata": {},
   "source": [
    "# Metrics"
   ]
  },
  {
   "cell_type": "code",
   "execution_count": 27,
   "id": "049ac9c6",
   "metadata": {},
   "outputs": [],
   "source": [
    "f1 = evaluate.load(\"f1\")"
   ]
  },
  {
   "cell_type": "code",
   "execution_count": 28,
   "id": "8b8e446b",
   "metadata": {},
   "outputs": [],
   "source": [
    "def compute_metrics(eval_pred: np.ndarray, metric: evaluate.Metric):\n",
    "    logits, labels = eval_pred\n",
    "    predictions = np.argmax(logits, axis=-1)\n",
    "    return metric.compute(predictions=predictions, references=labels, average=\"weighted\")\n",
    "\n",
    "compute_metrics_fn = partial(compute_metrics, metric=f1)"
   ]
  },
  {
   "cell_type": "markdown",
   "id": "12317eab",
   "metadata": {},
   "source": [
    "# Training"
   ]
  },
  {
   "cell_type": "markdown",
   "id": "261295af",
   "metadata": {},
   "source": [
    "## Training Args"
   ]
  },
  {
   "cell_type": "code",
   "execution_count": 29,
   "id": "5f79b309",
   "metadata": {},
   "outputs": [],
   "source": [
    "training_args = TrainingArguments(\n",
    "    output_dir=os.path.join(os.curdir, \"data\"),\n",
    "    overwrite_output_dir=True,\n",
    "    learning_rate=2e-5,\n",
    "    per_device_train_batch_size=8,\n",
    "    per_device_eval_batch_size=8,\n",
    "    num_train_epochs=10,\n",
    "    weight_decay=0.01,\n",
    "    eval_steps=50,\n",
    "    logging_strategy=\"steps\",\n",
    "    logging_steps=50, \n",
    "    evaluation_strategy=\"steps\",\n",
    "    metric_for_best_model=\"eval_f1\",\n",
    "    greater_is_better=True,\n",
    "    load_best_model_at_end=True,\n",
    "    save_steps=50,\n",
    "    save_total_limit=1\n",
    ")"
   ]
  },
  {
   "cell_type": "markdown",
   "id": "c5c3333c",
   "metadata": {},
   "source": [
    "## Trainer"
   ]
  },
  {
   "cell_type": "code",
   "execution_count": 30,
   "id": "f872ec6b",
   "metadata": {},
   "outputs": [],
   "source": [
    "trainer = Trainer(\n",
    "    model=model,\n",
    "    args=training_args,\n",
    "    train_dataset=dataset[\"train\"],\n",
    "    eval_dataset=dataset[\"test\"],\n",
    "    tokenizer=tokenizer,\n",
    "    data_collator=data_collator,\n",
    "    compute_metrics=compute_metrics_fn\n",
    ")"
   ]
  },
  {
   "cell_type": "markdown",
   "id": "0dafc07a",
   "metadata": {},
   "source": [
    "## Train Model"
   ]
  },
  {
   "cell_type": "code",
   "execution_count": 31,
   "id": "dfc39469",
   "metadata": {
    "scrolled": false
   },
   "outputs": [
    {
     "name": "stderr",
     "output_type": "stream",
     "text": [
      "The following columns in the training set don't have a corresponding argument in `BertForSequenceClassification.forward` and have been ignored: text. If text are not expected by `BertForSequenceClassification.forward`,  you can safely ignore this message.\n",
      "/home/yazansh/shai/nlp-course-notebooks/venv/lib/python3.10/site-packages/transformers/optimization.py:306: FutureWarning: This implementation of AdamW is deprecated and will be removed in a future version. Use the PyTorch implementation torch.optim.AdamW instead, or set `no_deprecation_warning=True` to disable this warning\n",
      "  warnings.warn(\n",
      "***** Running training *****\n",
      "  Num examples = 3200\n",
      "  Num Epochs = 10\n",
      "  Instantaneous batch size per device = 8\n",
      "  Total train batch size (w. parallel, distributed & accumulation) = 8\n",
      "  Gradient Accumulation steps = 1\n",
      "  Total optimization steps = 4000\n",
      "  Number of trainable parameters = 369426435\n",
      "You're using a BertTokenizerFast tokenizer. Please note that with a fast tokenizer, using the `__call__` method is faster than using a method to encode the text followed by a call to the `pad` method to get a padded encoding.\n",
      "/home/yazansh/shai/nlp-course-notebooks/venv/lib/python3.10/site-packages/transformers/tokenization_utils_base.py:2322: UserWarning: `max_length` is ignored when `padding`=`True` and there is no truncation strategy. To pad to max length, use `padding='max_length'`.\n",
      "  warnings.warn(\n"
     ]
    },
    {
     "data": {
      "text/html": [
       "\n",
       "    <div>\n",
       "      \n",
       "      <progress value='351' max='4000' style='width:300px; height:20px; vertical-align: middle;'></progress>\n",
       "      [ 351/4000 02:33 < 26:43, 2.28 it/s, Epoch 0.88/10]\n",
       "    </div>\n",
       "    <table border=\"1\" class=\"dataframe\">\n",
       "  <thead>\n",
       " <tr style=\"text-align: left;\">\n",
       "      <th>Step</th>\n",
       "      <th>Training Loss</th>\n",
       "      <th>Validation Loss</th>\n",
       "      <th>F1</th>\n",
       "    </tr>\n",
       "  </thead>\n",
       "  <tbody>\n",
       "    <tr>\n",
       "      <td>50</td>\n",
       "      <td>0.933000</td>\n",
       "      <td>0.805611</td>\n",
       "      <td>0.542343</td>\n",
       "    </tr>\n",
       "    <tr>\n",
       "      <td>100</td>\n",
       "      <td>0.708000</td>\n",
       "      <td>0.631505</td>\n",
       "      <td>0.746698</td>\n",
       "    </tr>\n",
       "    <tr>\n",
       "      <td>150</td>\n",
       "      <td>0.701100</td>\n",
       "      <td>0.612677</td>\n",
       "      <td>0.765455</td>\n",
       "    </tr>\n",
       "    <tr>\n",
       "      <td>200</td>\n",
       "      <td>0.552200</td>\n",
       "      <td>0.547639</td>\n",
       "      <td>0.786180</td>\n",
       "    </tr>\n",
       "    <tr>\n",
       "      <td>250</td>\n",
       "      <td>0.590200</td>\n",
       "      <td>0.499119</td>\n",
       "      <td>0.797481</td>\n",
       "    </tr>\n",
       "    <tr>\n",
       "      <td>300</td>\n",
       "      <td>0.614300</td>\n",
       "      <td>0.521964</td>\n",
       "      <td>0.796336</td>\n",
       "    </tr>\n",
       "    <tr>\n",
       "      <td>350</td>\n",
       "      <td>0.606700</td>\n",
       "      <td>0.585292</td>\n",
       "      <td>0.753902</td>\n",
       "    </tr>\n",
       "  </tbody>\n",
       "</table><p>"
      ],
      "text/plain": [
       "<IPython.core.display.HTML object>"
      ]
     },
     "metadata": {},
     "output_type": "display_data"
    },
    {
     "name": "stderr",
     "output_type": "stream",
     "text": [
      "The following columns in the evaluation set don't have a corresponding argument in `BertForSequenceClassification.forward` and have been ignored: text. If text are not expected by `BertForSequenceClassification.forward`,  you can safely ignore this message.\n",
      "***** Running Evaluation *****\n",
      "  Num examples = 800\n",
      "  Batch size = 8\n",
      "Saving model checkpoint to ./data/checkpoint-50\n",
      "Configuration saved in ./data/checkpoint-50/config.json\n",
      "Model weights saved in ./data/checkpoint-50/pytorch_model.bin\n",
      "tokenizer config file saved in ./data/checkpoint-50/tokenizer_config.json\n",
      "Special tokens file saved in ./data/checkpoint-50/special_tokens_map.json\n",
      "Deleting older checkpoint [data/checkpoint-200] due to args.save_total_limit\n",
      "Deleting older checkpoint [data/checkpoint-800] due to args.save_total_limit\n",
      "/home/yazansh/shai/nlp-course-notebooks/venv/lib/python3.10/site-packages/transformers/tokenization_utils_base.py:2322: UserWarning: `max_length` is ignored when `padding`=`True` and there is no truncation strategy. To pad to max length, use `padding='max_length'`.\n",
      "  warnings.warn(\n",
      "The following columns in the evaluation set don't have a corresponding argument in `BertForSequenceClassification.forward` and have been ignored: text. If text are not expected by `BertForSequenceClassification.forward`,  you can safely ignore this message.\n",
      "***** Running Evaluation *****\n",
      "  Num examples = 800\n",
      "  Batch size = 8\n",
      "Saving model checkpoint to ./data/checkpoint-100\n",
      "Configuration saved in ./data/checkpoint-100/config.json\n",
      "Model weights saved in ./data/checkpoint-100/pytorch_model.bin\n",
      "tokenizer config file saved in ./data/checkpoint-100/tokenizer_config.json\n",
      "Special tokens file saved in ./data/checkpoint-100/special_tokens_map.json\n",
      "Deleting older checkpoint [data/checkpoint-850] due to args.save_total_limit\n",
      "/home/yazansh/shai/nlp-course-notebooks/venv/lib/python3.10/site-packages/transformers/tokenization_utils_base.py:2322: UserWarning: `max_length` is ignored when `padding`=`True` and there is no truncation strategy. To pad to max length, use `padding='max_length'`.\n",
      "  warnings.warn(\n",
      "The following columns in the evaluation set don't have a corresponding argument in `BertForSequenceClassification.forward` and have been ignored: text. If text are not expected by `BertForSequenceClassification.forward`,  you can safely ignore this message.\n",
      "***** Running Evaluation *****\n",
      "  Num examples = 800\n",
      "  Batch size = 8\n",
      "Saving model checkpoint to ./data/checkpoint-150\n",
      "Configuration saved in ./data/checkpoint-150/config.json\n",
      "Model weights saved in ./data/checkpoint-150/pytorch_model.bin\n",
      "tokenizer config file saved in ./data/checkpoint-150/tokenizer_config.json\n",
      "Special tokens file saved in ./data/checkpoint-150/special_tokens_map.json\n",
      "Deleting older checkpoint [data/checkpoint-50] due to args.save_total_limit\n",
      "/home/yazansh/shai/nlp-course-notebooks/venv/lib/python3.10/site-packages/transformers/tokenization_utils_base.py:2322: UserWarning: `max_length` is ignored when `padding`=`True` and there is no truncation strategy. To pad to max length, use `padding='max_length'`.\n",
      "  warnings.warn(\n",
      "The following columns in the evaluation set don't have a corresponding argument in `BertForSequenceClassification.forward` and have been ignored: text. If text are not expected by `BertForSequenceClassification.forward`,  you can safely ignore this message.\n",
      "***** Running Evaluation *****\n",
      "  Num examples = 800\n",
      "  Batch size = 8\n",
      "Saving model checkpoint to ./data/checkpoint-200\n",
      "Configuration saved in ./data/checkpoint-200/config.json\n",
      "Model weights saved in ./data/checkpoint-200/pytorch_model.bin\n",
      "tokenizer config file saved in ./data/checkpoint-200/tokenizer_config.json\n",
      "Special tokens file saved in ./data/checkpoint-200/special_tokens_map.json\n",
      "Deleting older checkpoint [data/checkpoint-100] due to args.save_total_limit\n",
      "/home/yazansh/shai/nlp-course-notebooks/venv/lib/python3.10/site-packages/transformers/tokenization_utils_base.py:2322: UserWarning: `max_length` is ignored when `padding`=`True` and there is no truncation strategy. To pad to max length, use `padding='max_length'`.\n",
      "  warnings.warn(\n",
      "The following columns in the evaluation set don't have a corresponding argument in `BertForSequenceClassification.forward` and have been ignored: text. If text are not expected by `BertForSequenceClassification.forward`,  you can safely ignore this message.\n",
      "***** Running Evaluation *****\n",
      "  Num examples = 800\n",
      "  Batch size = 8\n",
      "Saving model checkpoint to ./data/checkpoint-250\n",
      "Configuration saved in ./data/checkpoint-250/config.json\n",
      "Model weights saved in ./data/checkpoint-250/pytorch_model.bin\n",
      "tokenizer config file saved in ./data/checkpoint-250/tokenizer_config.json\n",
      "Special tokens file saved in ./data/checkpoint-250/special_tokens_map.json\n",
      "Deleting older checkpoint [data/checkpoint-150] due to args.save_total_limit\n",
      "/home/yazansh/shai/nlp-course-notebooks/venv/lib/python3.10/site-packages/transformers/tokenization_utils_base.py:2322: UserWarning: `max_length` is ignored when `padding`=`True` and there is no truncation strategy. To pad to max length, use `padding='max_length'`.\n",
      "  warnings.warn(\n",
      "The following columns in the evaluation set don't have a corresponding argument in `BertForSequenceClassification.forward` and have been ignored: text. If text are not expected by `BertForSequenceClassification.forward`,  you can safely ignore this message.\n",
      "***** Running Evaluation *****\n",
      "  Num examples = 800\n",
      "  Batch size = 8\n",
      "Saving model checkpoint to ./data/checkpoint-300\n",
      "Configuration saved in ./data/checkpoint-300/config.json\n",
      "Model weights saved in ./data/checkpoint-300/pytorch_model.bin\n",
      "tokenizer config file saved in ./data/checkpoint-300/tokenizer_config.json\n",
      "Special tokens file saved in ./data/checkpoint-300/special_tokens_map.json\n",
      "Deleting older checkpoint [data/checkpoint-200] due to args.save_total_limit\n",
      "/home/yazansh/shai/nlp-course-notebooks/venv/lib/python3.10/site-packages/transformers/tokenization_utils_base.py:2322: UserWarning: `max_length` is ignored when `padding`=`True` and there is no truncation strategy. To pad to max length, use `padding='max_length'`.\n",
      "  warnings.warn(\n",
      "The following columns in the evaluation set don't have a corresponding argument in `BertForSequenceClassification.forward` and have been ignored: text. If text are not expected by `BertForSequenceClassification.forward`,  you can safely ignore this message.\n",
      "***** Running Evaluation *****\n",
      "  Num examples = 800\n",
      "  Batch size = 8\n",
      "Saving model checkpoint to ./data/checkpoint-350\n",
      "Configuration saved in ./data/checkpoint-350/config.json\n",
      "Model weights saved in ./data/checkpoint-350/pytorch_model.bin\n",
      "tokenizer config file saved in ./data/checkpoint-350/tokenizer_config.json\n",
      "Special tokens file saved in ./data/checkpoint-350/special_tokens_map.json\n",
      "\n",
      "KeyboardInterrupt\n",
      "\n"
     ]
    }
   ],
   "source": [
    "trainer.train()"
   ]
  },
  {
   "cell_type": "markdown",
   "id": "3e885442",
   "metadata": {},
   "source": [
    "## Evaluate Model"
   ]
  },
  {
   "cell_type": "code",
   "execution_count": null,
   "id": "fb5cf187",
   "metadata": {},
   "outputs": [],
   "source": []
  }
 ],
 "metadata": {
  "kernelspec": {
   "display_name": "Python 3 (ipykernel)",
   "language": "python",
   "name": "python3"
  },
  "language_info": {
   "codemirror_mode": {
    "name": "ipython",
    "version": 3
   },
   "file_extension": ".py",
   "mimetype": "text/x-python",
   "name": "python",
   "nbconvert_exporter": "python",
   "pygments_lexer": "ipython3",
   "version": "3.10.6"
  }
 },
 "nbformat": 4,
 "nbformat_minor": 5
}
