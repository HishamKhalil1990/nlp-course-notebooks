{
 "cells": [
  {
   "cell_type": "code",
   "execution_count": 8,
   "id": "9ea40c5f",
   "metadata": {},
   "outputs": [],
   "source": [
    "import os\n",
    "import json\n",
    "\n",
    "from dataclasses import dataclass\n",
    "from collections import Counter\n",
    "\n",
    "import gensim\n",
    "import nltk\n",
    "import torch\n",
    "import torchmetrics\n",
    "\n",
    "import numpy as np\n",
    "import pandas as pd\n",
    "import seaborn as sns\n",
    "\n",
    "from torch import nn\n",
    "from sklearn.model_selection import train_test_split\n",
    "from matplotlib import pyplot as plt"
   ]
  },
  {
   "cell_type": "markdown",
   "id": "3ffdaa66",
   "metadata": {},
   "source": [
    "# Setup"
   ]
  },
  {
   "cell_type": "markdown",
   "id": "57c9f284",
   "metadata": {},
   "source": [
    "- **Word level vocab can ge generated from the tokenization notebook**"
   ]
  },
  {
   "cell_type": "code",
   "execution_count": 10,
   "id": "f2edafab",
   "metadata": {},
   "outputs": [],
   "source": [
    "data_dir = os.path.join(os.curdir, \"data\")\n",
    "vocab_path = os.path.join(data_dir, \"word-level-vocab.json\")\n",
    "dataset_path = \"https://nlp-slides.vercel.app/clean-tweets.tsv\"\n",
    "\n",
    "with open(vocab_path, \"rt\") as f:\n",
    "    vocab = json.load(f)\n",
    "    \n",
    "dataset = pd.read_csv(filepath_or_buffer=dataset_path, sep=\"\\t\")"
   ]
  },
  {
   "cell_type": "code",
   "execution_count": 11,
   "id": "975f8462",
   "metadata": {},
   "outputs": [],
   "source": [
    "tweets = dataset[\"clean_text\"].tolist()"
   ]
  },
  {
   "cell_type": "code",
   "execution_count": 12,
   "id": "189bb3f3",
   "metadata": {},
   "outputs": [
    {
     "name": "stdout",
     "output_type": "stream",
     "text": [
      "Vocab Size = 961\n"
     ]
    }
   ],
   "source": [
    "OOV_TOKEN = \"[OOV]\"\n",
    "PAD_TOKEN = \"[PAD]\"\n",
    "\n",
    "OOV_INDEX = vocab.get(OOV_TOKEN)\n",
    "\n",
    "print(f\"Vocab Size = {len(vocab)}\")"
   ]
  },
  {
   "cell_type": "code",
   "execution_count": 13,
   "id": "e79f4714",
   "metadata": {},
   "outputs": [],
   "source": [
    "tokenized_tweets = [[vocab.get(token) for token in tweet.split(\" \") if token in vocab] for tweet in tweets]"
   ]
  },
  {
   "cell_type": "code",
   "execution_count": 14,
   "id": "9b066def",
   "metadata": {},
   "outputs": [
    {
     "data": {
      "text/plain": [
       "device(type='cuda')"
      ]
     },
     "execution_count": 14,
     "metadata": {},
     "output_type": "execute_result"
    }
   ],
   "source": [
    "device = torch.device('cuda' if torch.cuda.is_available() else 'cpu')\n",
    "device"
   ]
  },
  {
   "cell_type": "markdown",
   "id": "32002847",
   "metadata": {},
   "source": [
    "# Dataset"
   ]
  },
  {
   "cell_type": "markdown",
   "id": "0639c2a9",
   "metadata": {},
   "source": [
    "## filter dataset for empty and long sequences"
   ]
  },
  {
   "cell_type": "code",
   "execution_count": null,
   "id": "f7ada975",
   "metadata": {},
   "outputs": [],
   "source": [
    "# Tweets that are empty (all tokens appear less than the minimum frequency)\n",
    "len([len(tweet) for tweet in tokenized_tweets if len(tweet) == 0])"
   ]
  },
  {
   "cell_type": "code",
   "execution_count": 16,
   "id": "3b1fdd6b",
   "metadata": {},
   "outputs": [
    {
     "data": {
      "text/plain": [
       "27"
      ]
     },
     "execution_count": 16,
     "metadata": {},
     "output_type": "execute_result"
    }
   ],
   "source": [
    "# Max Tweet length\n",
    "max([len(tweet) for tweet in tokenized_tweets])"
   ]
  },
  {
   "cell_type": "code",
   "execution_count": 17,
   "id": "5996106c",
   "metadata": {},
   "outputs": [
    {
     "data": {
      "text/plain": [
       "13.0"
      ]
     },
     "execution_count": 17,
     "metadata": {},
     "output_type": "execute_result"
    }
   ],
   "source": [
    "# 99th percentile of tweets' lengths\n",
    "np.percentile([len(tweet) for tweet in  tokenized_tweets], q=99)"
   ]
  },
  {
   "cell_type": "code",
   "execution_count": 18,
   "id": "d6e8c014",
   "metadata": {},
   "outputs": [],
   "source": [
    "# Filtered Tweets indices by length\n",
    "MIN_LENGTH = 0\n",
    "MAX_LENGTH = np.percentile([len(tweet) for tweet in  tokenized_tweets], q=99)\n",
    "filtered_indices = [index for index, tweet in enumerate(tokenized_tweets) if len(tweet) < MAX_LENGTH and len(tweet) > MIN_LENGTH]"
   ]
  },
  {
   "cell_type": "code",
   "execution_count": 19,
   "id": "ef7ba7e8",
   "metadata": {},
   "outputs": [],
   "source": [
    "X = nn.utils.rnn.pad_sequence([torch.tensor(tweet) for tweet in tokenized_tweets],\n",
    "                              batch_first=True,\n",
    "                              padding_value=vocab.get(PAD_TOKEN))"
   ]
  },
  {
   "cell_type": "code",
   "execution_count": 20,
   "id": "baa3eada",
   "metadata": {},
   "outputs": [],
   "source": [
    "y = torch.tensor(dataset[\"Sentiment\"].replace({\"negative\": 0, \"neutral\": 1, \"positive\": 2}).to_numpy())"
   ]
  },
  {
   "cell_type": "code",
   "execution_count": 21,
   "id": "e0102eb5",
   "metadata": {},
   "outputs": [],
   "source": [
    "X, y = X[filtered_indices], y[filtered_indices]"
   ]
  },
  {
   "cell_type": "code",
   "execution_count": 22,
   "id": "79883725",
   "metadata": {},
   "outputs": [],
   "source": [
    "BATCH_SIZE = 16"
   ]
  },
  {
   "cell_type": "markdown",
   "id": "eba6d904",
   "metadata": {},
   "source": [
    "## split training and testing set"
   ]
  },
  {
   "cell_type": "code",
   "execution_count": 183,
   "id": "be1a28d3",
   "metadata": {},
   "outputs": [],
   "source": [
    "X_train, X_test, y_train, y_test = train_test_split(X, y, stratify=y, test_size=0.15)"
   ]
  },
  {
   "cell_type": "code",
   "execution_count": 197,
   "id": "ccfe2cd6",
   "metadata": {},
   "outputs": [
    {
     "data": {
      "image/png": "[encoded data removed]",
      "text/plain": [
       "<Figure size 864x720 with 2 Axes>"
      ]
     },
     "metadata": {},
     "output_type": "display_data"
    }
   ],
   "source": [
    "fig, (ax1, ax2) = plt.subplots(figsize=(12, 10), ncols=2)\n",
    "\n",
    "train_dist = np.unique(y_train, return_counts=True)\n",
    "test_dist = np.unique(y_test, return_counts=True)\n",
    "labels = [\"negative\", \"neutral\", \"positive\"]\n",
    "\n",
    "ax1.pie(x=train_dist[1], labels=labels)\n",
    "ax2.pie(x=test_dist[1], labels=labels)\n",
    "\n",
    "ax1.set_title(\"Training set label distribution\")\n",
    "ax2.set_title(\"Testing set label distribution\")\n",
    "\n",
    "plt.show()"
   ]
  },
  {
   "cell_type": "markdown",
   "id": "56d1b4d4",
   "metadata": {},
   "source": [
    "## prepare PyTorch datasets and dataloaders"
   ]
  },
  {
   "cell_type": "code",
   "execution_count": 198,
   "id": "66a3462c",
   "metadata": {},
   "outputs": [],
   "source": [
    "train_dataset = torch.utils.data.TensorDataset(X_train, y_train)\n",
    "test_dataset = torch.utils.data.TensorDataset(X_test, y_test)\n",
    "\n",
    "train_dataloader = torch.utils.data.DataLoader(dataset=train_dataset, batch_size=BATCH_SIZE, shuffle=True)\n",
    "test_dataloader = torch.utils.data.DataLoader(dataset=test_dataset, batch_size=BATCH_SIZE, shuffle=True)"
   ]
  },
  {
   "cell_type": "markdown",
   "id": "d7facdb1",
   "metadata": {},
   "source": [
    "# Model"
   ]
  },
  {
   "cell_type": "code",
   "execution_count": 199,
   "id": "3b79bc86",
   "metadata": {},
   "outputs": [],
   "source": [
    "class SentimentAnalyzer(nn.Module):\n",
    "    def __init__(\n",
    "        self, \n",
    "        vocab_size: int,\n",
    "        latent_dim: int,\n",
    "        embedding_dim:int,\n",
    "        dropout: float = 0.3,\n",
    "        padding_idx: int = 0\n",
    "    ):\n",
    "        super().__init__()\n",
    "        self.vocab_size = vocab_size\n",
    "        self.embedding_dim = embedding_dim\n",
    "        self.padding_idx = padding_idx\n",
    "        self.latent_dim = latent_dim\n",
    "        \n",
    "        self.embedding = nn.Embedding(num_embeddings=self.vocab_size, \n",
    "                                      embedding_dim=self.embedding_dim, \n",
    "                                      padding_idx=self.padding_idx, \n",
    "                                      max_norm=1.0)\n",
    "        \n",
    "        self.rnn = nn.LSTM(\n",
    "            input_size=self.embedding_dim,\n",
    "            hidden_size=self.latent_dim,\n",
    "            batch_first=True,\n",
    "            num_layers=1,\n",
    "            bidirectional=True\n",
    "        )\n",
    "        \n",
    "        \n",
    "        self.fc1 = nn.Linear(in_features=self.latent_dim * 2, out_features=3)\n",
    "        self.dropout = nn.Dropout(p=dropout) \n",
    "\n",
    "        \n",
    "    \n",
    "    def forward(self, x):\n",
    "        # x = (batch_size, sequence_length) \n",
    "        \n",
    "        embeddings = self.embedding(x)       \n",
    "        embeddings = self.dropout(embeddings)\n",
    "        # embeddings = (batch_size, sequence_length, embedding_dim)\n",
    "        \n",
    "        hidden_states, (last_hidden_state, last_cell_state) = self.rnn(embeddings)\n",
    "        \n",
    "        output = torch.concat([last_hidden_state[-1,:,:], last_hidden_state[-2,:,:]], dim=-1) \n",
    "        # output = (batch_size, latent_dim * 2)\n",
    "        output = self.dropout(output)\n",
    "        \n",
    "        output = self.fc1(output)      \n",
    "        \n",
    "        return output\n",
    "        \n",
    "    "
   ]
  },
  {
   "cell_type": "code",
   "execution_count": 200,
   "id": "52980f66",
   "metadata": {},
   "outputs": [],
   "source": [
    "EMBEDDING_DIM = 16\n",
    "LATENT_DIM = 8\n",
    "DROPOUT = 0.25"
   ]
  },
  {
   "cell_type": "code",
   "execution_count": 201,
   "id": "46c9ccc1",
   "metadata": {},
   "outputs": [],
   "source": [
    "model = SentimentAnalyzer(\n",
    "    vocab_size=len(vocab),\n",
    "    latent_dim=LATENT_DIM,\n",
    "    embedding_dim=EMBEDDING_DIM,\n",
    "    dropout=DROPOUT\n",
    ").to(device)"
   ]
  },
  {
   "cell_type": "markdown",
   "id": "6d13fafb",
   "metadata": {},
   "source": [
    "# Training"
   ]
  },
  {
   "cell_type": "code",
   "execution_count": 202,
   "id": "762f0555",
   "metadata": {},
   "outputs": [],
   "source": [
    "EPOCHS = 30\n",
    "LR = 5e-4\n",
    "\n",
    "optim = torch.optim.Adam(params=model.parameters(), lr=LR)\n",
    "criterion = nn.CrossEntropyLoss()\n",
    "\n",
    "train_metric = torchmetrics.F1Score(num_classes=3).to(device)\n",
    "val_metric = torchmetrics.F1Score(num_classes=3).to(device)"
   ]
  },
  {
   "cell_type": "code",
   "execution_count": 203,
   "id": "2475afff",
   "metadata": {},
   "outputs": [],
   "source": [
    "# A dataclass object defined to store the loss and metric results of each epoch\n",
    "# REFERENCE: https://realpython.com/python-data-classes/\n",
    "@dataclass\n",
    "class Epoch:\n",
    "    epoch: int\n",
    "    training_loss: float\n",
    "    validation_loss: float\n",
    "    training_acc: float\n",
    "    validation_acc: float\n",
    "        \n",
    "    \n",
    "    def log(self) -> None:\n",
    "        print(f\"Epoch {self.epoch + 1}: Training Loss: {self.training_loss}\\tValidation Loss: {self.validation_loss} || Training F1: {self.training_acc}\\tValidation F1: {self.validation_acc}\\n----------------------------------------------------\")"
   ]
  },
  {
   "cell_type": "code",
   "execution_count": 204,
   "id": "cd0d5918",
   "metadata": {},
   "outputs": [
    {
     "name": "stdout",
     "output_type": "stream",
     "text": [
      "Epoch 1: Training Loss: 1.062\tValidation Loss: 1.047 || Training F1: 0.46\tValidation F1: 0.473\n",
      "----------------------------------------------------\n",
      "Epoch 2: Training Loss: 1.049\tValidation Loss: 1.043 || Training F1: 0.473\tValidation F1: 0.473\n",
      "----------------------------------------------------\n",
      "Epoch 3: Training Loss: 1.038\tValidation Loss: 1.036 || Training F1: 0.475\tValidation F1: 0.473\n",
      "----------------------------------------------------\n",
      "Epoch 4: Training Loss: 1.025\tValidation Loss: 1.013 || Training F1: 0.489\tValidation F1: 0.488\n",
      "----------------------------------------------------\n",
      "Epoch 5: Training Loss: 0.976\tValidation Loss: 0.963 || Training F1: 0.544\tValidation F1: 0.546\n",
      "----------------------------------------------------\n",
      "Epoch 6: Training Loss: 0.925\tValidation Loss: 0.934 || Training F1: 0.578\tValidation F1: 0.573\n",
      "----------------------------------------------------\n",
      "Epoch 7: Training Loss: 0.893\tValidation Loss: 0.913 || Training F1: 0.603\tValidation F1: 0.583\n",
      "----------------------------------------------------\n",
      "Epoch 8: Training Loss: 0.866\tValidation Loss: 0.895 || Training F1: 0.617\tValidation F1: 0.592\n",
      "----------------------------------------------------\n",
      "Epoch 9: Training Loss: 0.836\tValidation Loss: 0.885 || Training F1: 0.627\tValidation F1: 0.595\n",
      "----------------------------------------------------\n",
      "Epoch 10: Training Loss: 0.81\tValidation Loss: 0.871 || Training F1: 0.655\tValidation F1: 0.607\n",
      "----------------------------------------------------\n",
      "Epoch 11: Training Loss: 0.795\tValidation Loss: 0.867 || Training F1: 0.66\tValidation F1: 0.622\n",
      "----------------------------------------------------\n",
      "Epoch 12: Training Loss: 0.784\tValidation Loss: 0.852 || Training F1: 0.669\tValidation F1: 0.639\n",
      "----------------------------------------------------\n",
      "Epoch 13: Training Loss: 0.753\tValidation Loss: 0.843 || Training F1: 0.68\tValidation F1: 0.65\n",
      "----------------------------------------------------\n",
      "Epoch 14: Training Loss: 0.743\tValidation Loss: 0.836 || Training F1: 0.696\tValidation F1: 0.65\n",
      "----------------------------------------------------\n",
      "Epoch 15: Training Loss: 0.752\tValidation Loss: 0.836 || Training F1: 0.697\tValidation F1: 0.646\n",
      "----------------------------------------------------\n",
      "Epoch 16: Training Loss: 0.711\tValidation Loss: 0.826 || Training F1: 0.714\tValidation F1: 0.663\n",
      "----------------------------------------------------\n",
      "Epoch 17: Training Loss: 0.706\tValidation Loss: 0.822 || Training F1: 0.714\tValidation F1: 0.665\n",
      "----------------------------------------------------\n",
      "Epoch 18: Training Loss: 0.701\tValidation Loss: 0.827 || Training F1: 0.714\tValidation F1: 0.66\n",
      "----------------------------------------------------\n",
      "Epoch 19: Training Loss: 0.685\tValidation Loss: 0.824 || Training F1: 0.732\tValidation F1: 0.68\n",
      "----------------------------------------------------\n",
      "Epoch 20: Training Loss: 0.672\tValidation Loss: 0.824 || Training F1: 0.733\tValidation F1: 0.68\n",
      "----------------------------------------------------\n",
      "Epoch 21: Training Loss: 0.672\tValidation Loss: 0.823 || Training F1: 0.732\tValidation F1: 0.667\n",
      "----------------------------------------------------\n",
      "Epoch 22: Training Loss: 0.653\tValidation Loss: 0.834 || Training F1: 0.739\tValidation F1: 0.675\n",
      "----------------------------------------------------\n",
      "Epoch 23: Training Loss: 0.647\tValidation Loss: 0.837 || Training F1: 0.746\tValidation F1: 0.673\n",
      "----------------------------------------------------\n",
      "Epoch 24: Training Loss: 0.63\tValidation Loss: 0.834 || Training F1: 0.751\tValidation F1: 0.684\n",
      "----------------------------------------------------\n",
      "Epoch 25: Training Loss: 0.627\tValidation Loss: 0.835 || Training F1: 0.758\tValidation F1: 0.668\n",
      "----------------------------------------------------\n",
      "Epoch 26: Training Loss: 0.623\tValidation Loss: 0.835 || Training F1: 0.758\tValidation F1: 0.66\n",
      "----------------------------------------------------\n",
      "Epoch 27: Training Loss: 0.629\tValidation Loss: 0.834 || Training F1: 0.751\tValidation F1: 0.667\n",
      "----------------------------------------------------\n",
      "Epoch 28: Training Loss: 0.631\tValidation Loss: 0.834 || Training F1: 0.752\tValidation F1: 0.665\n",
      "----------------------------------------------------\n",
      "Epoch 29: Training Loss: 0.606\tValidation Loss: 0.843 || Training F1: 0.761\tValidation F1: 0.667\n",
      "----------------------------------------------------\n",
      "Epoch 30: Training Loss: 0.609\tValidation Loss: 0.848 || Training F1: 0.761\tValidation F1: 0.667\n",
      "----------------------------------------------------\n"
     ]
    }
   ],
   "source": [
    "history: list[Epoch] = []\n",
    "\n",
    "for epoch in range(EPOCHS):\n",
    "    # Define epoch train and test: loss and metrics\n",
    "    # Make sure to reset the metric function\n",
    "    epoch_train_loss = 0\n",
    "    epoch_val_loss = 0\n",
    "    \n",
    "    train_metric.reset()\n",
    "    val_metric.reset()\n",
    "    \n",
    "    # TODO: Set the model to training mode\n",
    "    model.train()\n",
    "    # Iterate train batches\n",
    "    for batch in train_dataloader:\n",
    "        \n",
    "        # REMEMBER: you need to reset the optimizer in order to avoid incorrect accumulation of gradientrs \n",
    "        optim.zero_grad()\n",
    "        \n",
    "        # Unpack the batch and move it to the correct device\n",
    "        inputs, target = batch\n",
    "        inputs, target = inputs.to(device), target.to(device)\n",
    "\n",
    "        # get prediction from model\n",
    "        predictions = model(inputs)\n",
    "        \n",
    "        # Calculate loss and metric\n",
    "        \n",
    "        loss = criterion(predictions, target)\n",
    "        train_metric(predictions, target)\n",
    "        \n",
    "        # Backward propagataion\n",
    "        loss.backward()\n",
    "        optim.step()\n",
    "        \n",
    "        # Accumulate train loss\n",
    "        epoch_train_loss += loss.item()\n",
    "    \n",
    "    # Calculate epoch training metric\n",
    "    epoch_train_f1 = round(train_metric.compute().item(), 3)\n",
    "\n",
    "    \n",
    "    # TODO: set the model to test mode\n",
    "    model.eval()\n",
    "    # Reset the metric function\n",
    "    # Make sure PyTorch will run inference without tracking gradients for enhancing performance\n",
    "    with torch.no_grad():\n",
    "        # Load batches from `test_loader`\n",
    "        for batch in test_dataloader:\n",
    "            \n",
    "            # Unpack the batch and move it to the correct device\n",
    "            inputs, target = batch\n",
    "            inputs, target = inputs.to(device), target.to(device)\n",
    "\n",
    "            # get prediction from model\n",
    "            predictions = model(inputs)\n",
    "            # Calculate loss and metric values\n",
    "            loss = criterion(predictions, target)\n",
    "            val_metric(predictions, target)\n",
    "            \n",
    "            # Accumulate validation loss\n",
    "            epoch_val_loss += loss.item()\n",
    "            \n",
    "        # Calculate epoch validation metric\n",
    "        epoch_val_f1 = round(val_metric.compute().item(), 3)\n",
    "      \n",
    "\n",
    "    # Calculate epoch training loss\n",
    "    epoch_train_loss = round(epoch_train_loss / len(train_dataloader), 3)\n",
    "    # Calculate epoch validation loss\n",
    "    epoch_val_loss = round(epoch_val_loss / len(test_dataloader), 3)\n",
    "    \n",
    "    # Create `Epoch` instance with the results\n",
    "    epoch_result = Epoch(epoch=epoch, \n",
    "                         training_loss=epoch_train_loss, \n",
    "                         validation_loss=epoch_val_loss,\n",
    "                         training_acc=epoch_train_f1,\n",
    "                         validation_acc=epoch_val_f1,\n",
    "                        )\n",
    "    \n",
    "    # Add to history list\n",
    "    history.append(epoch_result)\n",
    "    # Log epoch output\n",
    "    epoch_result.log()"
   ]
  },
  {
   "cell_type": "code",
   "execution_count": 205,
   "id": "c01a6d5e",
   "metadata": {},
   "outputs": [
    {
     "data": {
      "image/png": "[encoded data removed]",
      "text/plain": [
       "<Figure size 1080x864 with 2 Axes>"
      ]
     },
     "metadata": {
      "needs_background": "light"
     },
     "output_type": "display_data"
    }
   ],
   "source": [
    "train_loss = list(map(lambda x: x.training_loss ,history))\n",
    "val_loss = list(map(lambda x: x.validation_loss ,history))\n",
    "train_acc = list(map(lambda x: x.training_acc, history))\n",
    "val_acc = list(map(lambda x: x.validation_acc, history))\n",
    "\n",
    "\n",
    "fig, (ax1, ax2) = plt.subplots(figsize=(15, 12), ncols=2)\n",
    "\n",
    "ax1.plot(range(EPOCHS), train_loss, label=\"Training\")\n",
    "ax1.plot(range(EPOCHS), val_loss, label=\"Validation\")\n",
    "\n",
    "ax2.plot(range(EPOCHS), train_acc, label=\"Training\")\n",
    "ax2.plot(range(EPOCHS), val_acc, label=\"Validation\")\n",
    "\n",
    "ax1.set_title(\"Loss\", fontdict=dict(size=15), pad=15)\n",
    "ax2.set_title(\"F1\", fontdict=dict(size=15), pad=15)\n",
    "\n",
    "ax1.set_xticks(range(EPOCHS))\n",
    "ax2.set_xticks(range(EPOCHS))\n",
    "\n",
    "ax1.set_xlabel(\"Epoch\")\n",
    "ax2.set_xlabel(\"Epoch\")\n",
    "\n",
    "plt.legend()\n",
    "plt.show()"
   ]
  },
  {
   "cell_type": "markdown",
   "id": "e0874a0e",
   "metadata": {},
   "source": [
    "# Summary"
   ]
  },
  {
   "cell_type": "markdown",
   "id": "66182855",
   "metadata": {},
   "source": [
    "As seen in the training history plot, the models suffers from overfitting, this can be due to the model complexity or the inseprability of the data."
   ]
  },
  {
   "cell_type": "markdown",
   "id": "087eff7e",
   "metadata": {},
   "source": [
    "# Exercises"
   ]
  },
  {
   "cell_type": "markdown",
   "id": "7343377a",
   "metadata": {},
   "source": [
    "- Use pretrained embeddings (eg: AraVec)\n",
    "- Try different parameters (eg: number of layers, latent dimension, ..etc)\n",
    "- Train a statistical ML model (eg: naive bayes, KNN, ..etc)"
   ]
  },
  {
   "cell_type": "code",
   "execution_count": null,
   "id": "99de839b",
   "metadata": {},
   "outputs": [],
   "source": []
  }
 ],
 "metadata": {
  "kernelspec": {
   "display_name": "Python 3 (ipykernel)",
   "language": "python",
   "name": "python3"
  },
  "language_info": {
   "codemirror_mode": {
    "name": "ipython",
    "version": 3
   },
   "file_extension": ".py",
   "mimetype": "text/x-python",
   "name": "python",
   "nbconvert_exporter": "python",
   "pygments_lexer": "ipython3",
   "version": "3.10.6"
  }
 },
 "nbformat": 4,
 "nbformat_minor": 5
}
