{
 "cells": [
  {
   "cell_type": "code",
   "execution_count": 1,
   "id": "bece53d5",
   "metadata": {},
   "outputs": [],
   "source": [
    "import os\n",
    "import re\n",
    "import requests\n",
    "import zipfile\n",
    "from pathlib import Path\n",
    "\n",
    "import nltk\n",
    "\n",
    "import numpy as np\n",
    "import seaborn as sns\n",
    "import pandas as pd\n",
    "\n",
    "from matplotlib import pyplot as plt\n",
    "from nltk.corpus import stopwords\n",
    "from nltk.stem.isri import ISRIStemmer\n",
    "from maha.cleaners.functions import remove, normalize\n",
    "from maha.expressions.general import EXPRESSION_EMOJIS\n",
    "\n",
    "from collections import Counter\n",
    "from typing import Callable\n",
    "\n",
    "\n",
    "\n",
    "%matplotlib inline"
   ]
  },
  {
   "cell_type": "code",
   "execution_count": 2,
   "id": "3bdb1709",
   "metadata": {
    "scrolled": true
   },
   "outputs": [
    {
     "name": "stderr",
     "output_type": "stream",
     "text": [
      "[nltk_data] Downloading collection 'popular'\n",
      "[nltk_data]    | \n",
      "[nltk_data]    | Downloading package cmudict to\n",
<<<<<<< HEAD
      "[nltk_data]    |     C:\\Users\\Hisham\\AppData\\Roaming\\nltk_data...\n",
      "[nltk_data]    |   Package cmudict is already up-to-date!\n",
      "[nltk_data]    | Downloading package gazetteers to\n",
      "[nltk_data]    |     C:\\Users\\Hisham\\AppData\\Roaming\\nltk_data...\n",
      "[nltk_data]    |   Package gazetteers is already up-to-date!\n",
      "[nltk_data]    | Downloading package genesis to\n",
      "[nltk_data]    |     C:\\Users\\Hisham\\AppData\\Roaming\\nltk_data...\n",
      "[nltk_data]    |   Package genesis is already up-to-date!\n",
      "[nltk_data]    | Downloading package gutenberg to\n",
      "[nltk_data]    |     C:\\Users\\Hisham\\AppData\\Roaming\\nltk_data...\n",
      "[nltk_data]    |   Package gutenberg is already up-to-date!\n",
      "[nltk_data]    | Downloading package inaugural to\n",
      "[nltk_data]    |     C:\\Users\\Hisham\\AppData\\Roaming\\nltk_data...\n",
      "[nltk_data]    |   Package inaugural is already up-to-date!\n",
      "[nltk_data]    | Downloading package movie_reviews to\n",
      "[nltk_data]    |     C:\\Users\\Hisham\\AppData\\Roaming\\nltk_data...\n",
      "[nltk_data]    |   Package movie_reviews is already up-to-date!\n",
      "[nltk_data]    | Downloading package names to\n",
      "[nltk_data]    |     C:\\Users\\Hisham\\AppData\\Roaming\\nltk_data...\n",
      "[nltk_data]    |   Package names is already up-to-date!\n",
      "[nltk_data]    | Downloading package shakespeare to\n",
      "[nltk_data]    |     C:\\Users\\Hisham\\AppData\\Roaming\\nltk_data...\n",
      "[nltk_data]    |   Package shakespeare is already up-to-date!\n",
      "[nltk_data]    | Downloading package stopwords to\n",
      "[nltk_data]    |     C:\\Users\\Hisham\\AppData\\Roaming\\nltk_data...\n",
      "[nltk_data]    |   Package stopwords is already up-to-date!\n",
      "[nltk_data]    | Downloading package treebank to\n",
      "[nltk_data]    |     C:\\Users\\Hisham\\AppData\\Roaming\\nltk_data...\n",
      "[nltk_data]    |   Package treebank is already up-to-date!\n",
      "[nltk_data]    | Downloading package twitter_samples to\n",
      "[nltk_data]    |     C:\\Users\\Hisham\\AppData\\Roaming\\nltk_data...\n",
      "[nltk_data]    |   Package twitter_samples is already up-to-date!\n",
      "[nltk_data]    | Downloading package omw to\n",
      "[nltk_data]    |     C:\\Users\\Hisham\\AppData\\Roaming\\nltk_data...\n",
      "[nltk_data]    |   Package omw is already up-to-date!\n",
      "[nltk_data]    | Downloading package omw-1.4 to\n",
      "[nltk_data]    |     C:\\Users\\Hisham\\AppData\\Roaming\\nltk_data...\n",
      "[nltk_data]    |   Package omw-1.4 is already up-to-date!\n",
      "[nltk_data]    | Downloading package wordnet to\n",
      "[nltk_data]    |     C:\\Users\\Hisham\\AppData\\Roaming\\nltk_data...\n",
      "[nltk_data]    |   Package wordnet is already up-to-date!\n",
      "[nltk_data]    | Downloading package wordnet2021 to\n",
      "[nltk_data]    |     C:\\Users\\Hisham\\AppData\\Roaming\\nltk_data...\n",
      "[nltk_data]    |   Package wordnet2021 is already up-to-date!\n",
      "[nltk_data]    | Downloading package wordnet31 to\n",
      "[nltk_data]    |     C:\\Users\\Hisham\\AppData\\Roaming\\nltk_data...\n",
      "[nltk_data]    |   Package wordnet31 is already up-to-date!\n",
      "[nltk_data]    | Downloading package wordnet_ic to\n",
      "[nltk_data]    |     C:\\Users\\Hisham\\AppData\\Roaming\\nltk_data...\n",
      "[nltk_data]    |   Package wordnet_ic is already up-to-date!\n",
      "[nltk_data]    | Downloading package words to\n",
      "[nltk_data]    |     C:\\Users\\Hisham\\AppData\\Roaming\\nltk_data...\n",
      "[nltk_data]    |   Package words is already up-to-date!\n",
      "[nltk_data]    | Downloading package maxent_ne_chunker to\n",
      "[nltk_data]    |     C:\\Users\\Hisham\\AppData\\Roaming\\nltk_data...\n",
      "[nltk_data]    |   Package maxent_ne_chunker is already up-to-date!\n",
      "[nltk_data]    | Downloading package punkt to\n",
      "[nltk_data]    |     C:\\Users\\Hisham\\AppData\\Roaming\\nltk_data...\n",
      "[nltk_data]    |   Package punkt is already up-to-date!\n",
      "[nltk_data]    | Downloading package snowball_data to\n",
      "[nltk_data]    |     C:\\Users\\Hisham\\AppData\\Roaming\\nltk_data...\n",
      "[nltk_data]    |   Package snowball_data is already up-to-date!\n",
      "[nltk_data]    | Downloading package averaged_perceptron_tagger to\n",
      "[nltk_data]    |     C:\\Users\\Hisham\\AppData\\Roaming\\nltk_data...\n",
=======
      "[nltk_data]    |     /home/yazansh/nltk_data...\n",
      "[nltk_data]    |   Package cmudict is already up-to-date!\n",
      "[nltk_data]    | Downloading package gazetteers to\n",
      "[nltk_data]    |     /home/yazansh/nltk_data...\n",
      "[nltk_data]    |   Package gazetteers is already up-to-date!\n",
      "[nltk_data]    | Downloading package genesis to\n",
      "[nltk_data]    |     /home/yazansh/nltk_data...\n",
      "[nltk_data]    |   Package genesis is already up-to-date!\n",
      "[nltk_data]    | Downloading package gutenberg to\n",
      "[nltk_data]    |     /home/yazansh/nltk_data...\n",
      "[nltk_data]    |   Package gutenberg is already up-to-date!\n",
      "[nltk_data]    | Downloading package inaugural to\n",
      "[nltk_data]    |     /home/yazansh/nltk_data...\n",
      "[nltk_data]    |   Package inaugural is already up-to-date!\n",
      "[nltk_data]    | Downloading package movie_reviews to\n",
      "[nltk_data]    |     /home/yazansh/nltk_data...\n",
      "[nltk_data]    |   Package movie_reviews is already up-to-date!\n",
      "[nltk_data]    | Downloading package names to\n",
      "[nltk_data]    |     /home/yazansh/nltk_data...\n",
      "[nltk_data]    |   Package names is already up-to-date!\n",
      "[nltk_data]    | Downloading package shakespeare to\n",
      "[nltk_data]    |     /home/yazansh/nltk_data...\n",
      "[nltk_data]    |   Package shakespeare is already up-to-date!\n",
      "[nltk_data]    | Downloading package stopwords to\n",
      "[nltk_data]    |     /home/yazansh/nltk_data...\n",
      "[nltk_data]    |   Package stopwords is already up-to-date!\n",
      "[nltk_data]    | Downloading package treebank to\n",
      "[nltk_data]    |     /home/yazansh/nltk_data...\n",
      "[nltk_data]    |   Package treebank is already up-to-date!\n",
      "[nltk_data]    | Downloading package twitter_samples to\n",
      "[nltk_data]    |     /home/yazansh/nltk_data...\n",
      "[nltk_data]    |   Package twitter_samples is already up-to-date!\n",
      "[nltk_data]    | Downloading package omw to /home/yazansh/nltk_data...\n",
      "[nltk_data]    |   Package omw is already up-to-date!\n",
      "[nltk_data]    | Downloading package omw-1.4 to\n",
      "[nltk_data]    |     /home/yazansh/nltk_data...\n",
      "[nltk_data]    |   Package omw-1.4 is already up-to-date!\n",
      "[nltk_data]    | Downloading package wordnet to\n",
      "[nltk_data]    |     /home/yazansh/nltk_data...\n",
      "[nltk_data]    |   Package wordnet is already up-to-date!\n",
      "[nltk_data]    | Downloading package wordnet2021 to\n",
      "[nltk_data]    |     /home/yazansh/nltk_data...\n",
      "[nltk_data]    |   Package wordnet2021 is already up-to-date!\n",
      "[nltk_data]    | Downloading package wordnet31 to\n",
      "[nltk_data]    |     /home/yazansh/nltk_data...\n",
      "[nltk_data]    |   Package wordnet31 is already up-to-date!\n",
      "[nltk_data]    | Downloading package wordnet_ic to\n",
      "[nltk_data]    |     /home/yazansh/nltk_data...\n",
      "[nltk_data]    |   Package wordnet_ic is already up-to-date!\n",
      "[nltk_data]    | Downloading package words to\n",
      "[nltk_data]    |     /home/yazansh/nltk_data...\n",
      "[nltk_data]    |   Package words is already up-to-date!\n",
      "[nltk_data]    | Downloading package maxent_ne_chunker to\n",
      "[nltk_data]    |     /home/yazansh/nltk_data...\n",
      "[nltk_data]    |   Package maxent_ne_chunker is already up-to-date!\n",
      "[nltk_data]    | Downloading package punkt to\n",
      "[nltk_data]    |     /home/yazansh/nltk_data...\n",
      "[nltk_data]    |   Package punkt is already up-to-date!\n",
      "[nltk_data]    | Downloading package snowball_data to\n",
      "[nltk_data]    |     /home/yazansh/nltk_data...\n",
      "[nltk_data]    |   Package snowball_data is already up-to-date!\n",
      "[nltk_data]    | Downloading package averaged_perceptron_tagger to\n",
      "[nltk_data]    |     /home/yazansh/nltk_data...\n",
>>>>>>> 26a22f2fafa42e8c71380cb331885e1d47272417
      "[nltk_data]    |   Package averaged_perceptron_tagger is already up-\n",
      "[nltk_data]    |       to-date!\n",
      "[nltk_data]    | \n",
      "[nltk_data]  Done downloading collection popular\n"
     ]
    },
    {
     "data": {
      "text/plain": [
       "True"
      ]
     },
     "execution_count": 2,
     "metadata": {},
     "output_type": "execute_result"
    }
   ],
   "source": [
    "nltk.download(\"popular\")"
   ]
  },
  {
   "cell_type": "markdown",
   "id": "b608d0aa",
   "metadata": {},
   "source": [
    "# Introduction\n",
    "\n",
    "The goal of this notebook is to *practice text preprocessing*\n",
    "\n",
    "\n",
    "You're part of a team in Twitter that's assigned to create a sentiment analysis model for tweets in Arabic, your task is to prepare the data for training a model to classify wether the tweet has *positive* or *negative* sentiment\n",
    "\n",
    "## Components of Preprocessing\n",
    "\n",
    "### Text Cleaning\n",
    "\n",
    "We need to remove or keep parts of the tweet so that the remaining text is **relevant** to the task at hand \n",
    "\n",
    "#### What are the possbile parts to remove or keep?\n",
    "\n",
    "1. Hashtags\n",
    "2. Mentions\n",
    "3. Emojis\n",
    "4. URLs\n",
    "5. Numbers\n",
    "6. English characters\n",
    "7. Stop words\n",
    "8. Diactrics\n",
    "9. Punctiation marks\n",
    "10. Others\n",
    "\n",
    "### Stemming / Lemmatisation\n",
    "\n",
    "\n",
    "\n",
    "### Steps\n",
    "In this notebook we should:\n",
    "\n",
    "1. Read the raw data\n",
    "2. Explore the dataset\n",
    "3. Text Cleaning\n",
    "4. Stemming / Lemmatisation\n",
    "\n",
    "## The Dataset\n",
    "\n",
    "The dataset for this project is ArSenTD-Lev, a collection of 4,000 labeled tweets in the Levantine dialect, along side the tweet text:\n",
    "\n",
    "- Country\n",
    "- Topic (personal, politics, religion, sports, entertainment, others)\n",
    "- Sentiment (very_negative, negative, neutral, positive, very_positive)\n",
    "- Sentiment_Expression : implicit, explicit, or none (when neutral)\n",
    "- Sentiment_Target: The part of the text of which the sentiment was derived\n",
    "\n",
    "The original dataset is found on the [original website](http://oma-project.com/ArSenL/ArSenTD_Lev_Intro)\n",
    "\n",
    "and with another copy of the dataset found on the [course website](https://shai-nlp-course.netlify.app/ArSenTD-LEV.tsv)"
   ]
  },
  {
   "cell_type": "markdown",
   "id": "d586041b",
   "metadata": {},
   "source": [
    "# Setup"
   ]
  },
  {
   "cell_type": "code",
   "execution_count": 3,
   "id": "641ad339",
   "metadata": {},
   "outputs": [],
   "source": [
    "data_dir = os.path.join(os.curdir, \"data\")\n",
    "Path(data_dir).mkdir(exist_ok=True)\n",
    "tweets_dir = os.path.join(data_dir, \"arsentd-lev\")\n",
    "Path(tweets_dir).mkdir(exist_ok=True)\n",
    "archive_path = os.path.join(data_dir, \"arsentd-lev.zip\")"
   ]
  },
  {
   "cell_type": "markdown",
   "id": "469c5257",
   "metadata": {},
   "source": [
    "## Download Raw Data\n",
    "\n"
   ]
  },
  {
   "cell_type": "code",
   "execution_count": 4,
   "id": "2b14f913",
   "metadata": {},
   "outputs": [
    {
     "data": {
      "text/plain": [
       "['ArSenTD-LEV.tsv', 'README.txt']"
      ]
     },
     "execution_count": 4,
     "metadata": {},
     "output_type": "execute_result"
    }
   ],
   "source": [
    "link = \"http://oma-project.com/ArSenL/ArSenTD-LEV.zip\"\n",
    "\n",
    "response = requests.get(link)\n",
    "\n",
    "with open(archive_path, \"wb+\") as f:\n",
    "    f.write(response.content)\n",
    "    \n",
    "with zipfile.ZipFile(archive_path, 'r') as zip_f:\n",
    "    zip_f.extractall(tweets_dir)\n",
    "\n",
    "\n",
    "os.listdir(tweets_dir)"
   ]
  },
  {
   "cell_type": "code",
   "execution_count": 5,
   "id": "a953b1de",
   "metadata": {},
   "outputs": [],
   "source": [
    "raw_filepath = os.path.join(tweets_dir, \"ArSenTD-LEV.tsv\")"
   ]
  },
  {
   "cell_type": "code",
   "execution_count": 6,
   "id": "eaabe2ac",
   "metadata": {},
   "outputs": [],
   "source": [
    "raw = pd.read_csv(filepath_or_buffer=raw_filepath, sep=\"\\t\", encoding=\"utf_8\")"
   ]
  },
  {
   "cell_type": "code",
   "execution_count": 7,
   "id": "e0a05c85",
   "metadata": {},
   "outputs": [
    {
     "data": {
      "text/html": [
       "<div>\n",
       "<style scoped>\n",
       "    .dataframe tbody tr th:only-of-type {\n",
       "        vertical-align: middle;\n",
       "    }\n",
       "\n",
       "    .dataframe tbody tr th {\n",
       "        vertical-align: top;\n",
       "    }\n",
       "\n",
       "    .dataframe thead th {\n",
       "        text-align: right;\n",
       "    }\n",
       "</style>\n",
       "<table border=\"1\" class=\"dataframe\">\n",
       "  <thead>\n",
       "    <tr style=\"text-align: right;\">\n",
       "      <th></th>\n",
       "      <th>Tweet</th>\n",
       "      <th>Country</th>\n",
       "      <th>Topic</th>\n",
       "      <th>Sentiment</th>\n",
       "      <th>Sentiment_Expression</th>\n",
       "      <th>Sentiment_Target</th>\n",
       "    </tr>\n",
       "  </thead>\n",
       "  <tbody>\n",
       "    <tr>\n",
       "      <th>0</th>\n",
       "      <td>\"أنا أؤمن بأن الانسان ينطفئ جماله عند ابتعاد م...</td>\n",
       "      <td>lebanon</td>\n",
       "      <td>personal</td>\n",
       "      <td>negative</td>\n",
       "      <td>implicit</td>\n",
       "      <td>بريق العيون</td>\n",
       "    </tr>\n",
       "    <tr>\n",
       "      <th>1</th>\n",
       "      <td>من الذاكره... @3FInQe . عندما اعتقد كريستيانو ...</td>\n",
       "      <td>jordan</td>\n",
       "      <td>sports</td>\n",
       "      <td>positive</td>\n",
       "      <td>explicit</td>\n",
       "      <td>افضل لاعب في العالم</td>\n",
       "    </tr>\n",
       "    <tr>\n",
       "      <th>2</th>\n",
       "      <td>لا نخلو من ضغوطات الحياة. فنحن نعيش على أرض أع...</td>\n",
       "      <td>palestine</td>\n",
       "      <td>personal</td>\n",
       "      <td>neutral</td>\n",
       "      <td>none</td>\n",
       "      <td>none</td>\n",
       "    </tr>\n",
       "    <tr>\n",
       "      <th>3</th>\n",
       "      <td>#مصطلحات_لبنانيه_حيرت_البشريه بتوصل عالبيت ، ب...</td>\n",
       "      <td>lebanon</td>\n",
       "      <td>personal</td>\n",
       "      <td>negative</td>\n",
       "      <td>explicit</td>\n",
       "      <td>مصطلحات_لبنانيه</td>\n",
       "    </tr>\n",
       "    <tr>\n",
       "      <th>4</th>\n",
       "      <td>نصمت !! لتسير حياتنا على مً يرام فالناّس لم تع...</td>\n",
       "      <td>palestine</td>\n",
       "      <td>personal</td>\n",
       "      <td>negative</td>\n",
       "      <td>explicit</td>\n",
       "      <td>س لم تعد كما ك</td>\n",
       "    </tr>\n",
       "  </tbody>\n",
       "</table>\n",
       "</div>"
      ],
      "text/plain": [
       "                                               Tweet    Country     Topic  \\\n",
       "0  \"أنا أؤمن بأن الانسان ينطفئ جماله عند ابتعاد م...    lebanon  personal   \n",
       "1  من الذاكره... @3FInQe . عندما اعتقد كريستيانو ...     jordan    sports   \n",
       "2  لا نخلو من ضغوطات الحياة. فنحن نعيش على أرض أع...  palestine  personal   \n",
       "3  #مصطلحات_لبنانيه_حيرت_البشريه بتوصل عالبيت ، ب...    lebanon  personal   \n",
       "4  نصمت !! لتسير حياتنا على مً يرام فالناّس لم تع...  palestine  personal   \n",
       "\n",
       "  Sentiment Sentiment_Expression     Sentiment_Target  \n",
       "0  negative             implicit          بريق العيون  \n",
       "1  positive             explicit  افضل لاعب في العالم  \n",
       "2   neutral                 none                 none  \n",
       "3  negative             explicit      مصطلحات_لبنانيه  \n",
       "4  negative             explicit       س لم تعد كما ك  "
      ]
     },
     "execution_count": 7,
     "metadata": {},
     "output_type": "execute_result"
    }
   ],
   "source": [
    "raw.head()"
   ]
  },
  {
   "cell_type": "markdown",
   "id": "584efb98",
   "metadata": {},
   "source": [
    "# Explaratory Data Analysis (EDA)"
   ]
  },
  {
   "cell_type": "code",
   "execution_count": 8,
   "id": "e6e22cb7",
   "metadata": {},
   "outputs": [],
   "source": [
    "data = raw.copy(deep=True)"
   ]
  },
  {
   "cell_type": "code",
   "execution_count": 9,
   "id": "a32c87f8",
   "metadata": {},
   "outputs": [],
   "source": [
    "data[\"Sentiment\"] = data[\"Sentiment\"].replace(\n",
    "    {\"very_negative\": \"negative\", \"very_positive\": \"positive\"}\n",
    ")"
   ]
  },
  {
   "cell_type": "code",
   "execution_count": 10,
   "id": "2b3701d9",
   "metadata": {},
   "outputs": [],
   "source": [
    "sentiment_count = data.groupby(by=\"Sentiment\", as_index=False).count()[[\"Sentiment\", \"Tweet\"]]"
   ]
  },
  {
   "cell_type": "code",
   "execution_count": 11,
   "id": "0bc73c37",
   "metadata": {},
   "outputs": [
    {
     "name": "stderr",
     "output_type": "stream",
     "text": [
<<<<<<< HEAD
      "C:\\Users\\Hisham\\AppData\\Local\\Temp\\ipykernel_14948\\3624011578.py:8: UserWarning: Matplotlib is currently using module://matplotlib_inline.backend_inline, which is a non-GUI backend, so cannot show the figure.\n",
=======
      "/tmp/ipykernel_35387/3624011578.py:8: UserWarning: Matplotlib is currently using module://matplotlib_inline.backend_inline, which is a non-GUI backend, so cannot show the figure.\n",
>>>>>>> 26a22f2fafa42e8c71380cb331885e1d47272417
      "  fig.show()\n"
     ]
    },
    {
     "data": {
      "image/png": "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\n",
      "text/plain": [
       "<Figure size 1080x864 with 1 Axes>"
      ]
     },
     "metadata": {},
     "output_type": "display_data"
    }
   ],
   "source": [
    "fig, ax = plt.subplots(figsize=(15, 12))\n",
    "\n",
    "ax.pie(x=sentiment_count[\"Tweet\"].to_list(), \n",
    "       labels=sentiment_count[\"Sentiment\"].to_list(),\n",
    "       autopct='%1.1f%%'\n",
    "      )\n",
    "\n",
    "fig.show()"
   ]
  },
  {
   "cell_type": "code",
   "execution_count": 12,
   "id": "d3dbe187",
   "metadata": {},
   "outputs": [],
   "source": [
    "data[\"word_count\"] = data[\"Tweet\"].apply(lambda x: len(x.split(\" \")))"
   ]
  },
  {
   "cell_type": "code",
   "execution_count": 13,
   "id": "ddaf6f81",
   "metadata": {},
   "outputs": [
    {
     "data": {
      "text/plain": [
       "count    4000.00000\n",
       "mean       22.69825\n",
       "std         3.28495\n",
       "min         7.00000\n",
       "25%        21.00000\n",
       "50%        23.00000\n",
       "75%        25.00000\n",
       "max        35.00000\n",
       "Name: word_count, dtype: float64"
      ]
     },
     "execution_count": 13,
     "metadata": {},
     "output_type": "execute_result"
    }
   ],
   "source": [
    "data[\"word_count\"].describe()"
   ]
  },
  {
   "cell_type": "code",
   "execution_count": 14,
   "id": "4070fb30",
   "metadata": {},
   "outputs": [
    {
     "data": {
      "text/plain": [
       "count    4000.000000\n",
       "mean      131.364250\n",
       "std        14.314636\n",
       "min        42.000000\n",
       "25%       128.000000\n",
       "50%       138.000000\n",
       "75%       140.000000\n",
       "max       147.000000\n",
       "Name: char_count, dtype: float64"
      ]
     },
     "execution_count": 14,
     "metadata": {},
     "output_type": "execute_result"
    }
   ],
   "source": [
    "data[\"char_count\"] = data[\"Tweet\"].apply(len)\n",
    "data[\"char_count\"].describe()"
   ]
  },
  {
   "cell_type": "markdown",
   "id": "6f3e48f9",
   "metadata": {},
   "source": [
    "## Vocabulary\n",
    "\n",
    "Vocabulary: the set of unique vocabulary in the corpus\n",
    "and optionally the count of each vocab"
   ]
  },
  {
   "cell_type": "code",
   "execution_count": 15,
   "id": "0ae00581",
   "metadata": {},
   "outputs": [],
   "source": [
    "all_words = [word for tweet in data[\"Tweet\"] for word in tweet.split(\" \")]"
   ]
  },
  {
   "cell_type": "code",
   "execution_count": 16,
   "id": "417f237e",
   "metadata": {},
   "outputs": [],
   "source": [
    "vocab = Counter(all_words)"
   ]
  },
  {
   "cell_type": "markdown",
   "id": "34c442c5",
   "metadata": {},
   "source": [
    "Explore the most and least common words in the vocab"
   ]
  },
  {
   "cell_type": "code",
   "execution_count": 17,
   "id": "fbe62748",
   "metadata": {},
   "outputs": [
    {
     "name": "stdout",
     "output_type": "stream",
     "text": [
      "Least Common\n"
     ]
    },
    {
     "data": {
      "text/plain": [
       "[('الريحة', 1),\n",
       " ('نقلاً', 1),\n",
       " ('مباشراً', 1),\n",
       " ('نشرة', 1),\n",
       " ('الرياضية', 1),\n",
       " ('8:30', 1),\n",
       " ('\"العرب\"', 1),\n",
       " ('حمود', 1),\n",
       " ('📍', 1),\n",
       " ('https://t.co/oUstA9G7dM', 1)]"
      ]
     },
     "execution_count": 17,
     "metadata": {},
     "output_type": "execute_result"
    }
   ],
   "source": [
    "print(\"Least Common\")\n",
    "vocab.most_common()[-10:]"
   ]
  },
  {
   "cell_type": "code",
   "execution_count": 18,
   "id": "7bb04f57",
   "metadata": {},
   "outputs": [
    {
     "name": "stdout",
     "output_type": "stream",
     "text": [
      "Most Common\n"
     ]
    },
    {
     "data": {
      "text/plain": [
       "[('من', 1906),\n",
       " ('في', 1610),\n",
       " ('.', 1105),\n",
       " ('و', 963),\n",
       " ('على', 913),\n",
       " ('الله', 787),\n",
       " ('ما', 769),\n",
       " ('لا', 656),\n",
       " ('،', 589),\n",
       " ('كل', 493)]"
      ]
     },
     "execution_count": 18,
     "metadata": {},
     "output_type": "execute_result"
    }
   ],
   "source": [
    "print(\"Most Common\")\n",
    "vocab.most_common(n=10)"
   ]
  },
  {
   "cell_type": "code",
   "execution_count": 19,
   "id": "6da16b27",
   "metadata": {},
   "outputs": [],
   "source": [
    "counts = list(vocab.values())"
   ]
  },
  {
   "cell_type": "code",
   "execution_count": 20,
   "id": "94ad5def",
   "metadata": {
    "scrolled": false
   },
   "outputs": [
    {
     "data": {
      "image/png": "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\n",
      "text/plain": [
       "<Figure size 1080x864 with 1 Axes>"
      ]
     },
     "metadata": {
      "needs_background": "light"
     },
     "output_type": "display_data"
    }
   ],
   "source": [
    "fig, ax = plt.subplots(figsize=(15, 12))\n",
    "\n",
    "sns.boxplot(y=counts, ax=ax)\n",
    "ax.set_title(\"Word Count\", fontdict=dict(size=15), pad=15)\n",
    "\n",
    "plt.show()"
   ]
  },
  {
   "cell_type": "code",
   "execution_count": 21,
   "id": "f2e2de60",
   "metadata": {},
   "outputs": [],
   "source": [
    "stop_words = stopwords.words(\"arabic\")\n",
    "all_words_pruned = [word for tweet in data[\"Tweet\"] for word in tweet.split(\" \") if word not in stop_words]"
   ]
  },
  {
   "cell_type": "code",
   "execution_count": 22,
   "id": "30671a7f",
   "metadata": {},
   "outputs": [],
   "source": [
    "pruned_vocab = Counter(all_words_pruned) "
   ]
  },
  {
   "cell_type": "code",
   "execution_count": 23,
   "id": "2f6bb2fc",
   "metadata": {},
   "outputs": [
    {
     "data": {
      "image/png": "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\n",
      "text/plain": [
       "<Figure size 1080x864 with 1 Axes>"
      ]
     },
     "metadata": {
      "needs_background": "light"
     },
     "output_type": "display_data"
    }
   ],
   "source": [
    "counts = list(pruned_vocab.values())\n",
    "\n",
    "fig, ax = plt.subplots(figsize=(15, 12))\n",
    "\n",
    "sns.boxplot(y=counts, ax=ax)\n",
    "ax.set_title(\"Word Count\", fontdict=dict(size=15), pad=15)\n",
    "\n",
    "plt.show()"
   ]
  },
  {
   "cell_type": "markdown",
   "id": "33fa6170",
   "metadata": {},
   "source": [
    "> Removing stop words still produces a box plot with this many outliers indicates that more cleaning is necessary"
   ]
  },
  {
   "cell_type": "markdown",
   "id": "35ce6e90",
   "metadata": {},
   "source": [
    "# Text Cleaning"
   ]
  },
  {
   "cell_type": "code",
   "execution_count": 24,
   "id": "037a57b2",
   "metadata": {},
   "outputs": [
    {
     "data": {
      "text/plain": [
       "'هدف لا نراه كل يوم . #LEITOT . @oki_q8e شوف ابن اختي شوف 🤗 https://t.co/ZmVMl4sOqA'"
      ]
     },
     "execution_count": 24,
     "metadata": {},
     "output_type": "execute_result"
    }
   ],
   "source": [
    "sample = data.iloc[102][\"Tweet\"]\n",
    "sample"
   ]
  },
  {
   "cell_type": "code",
   "execution_count": 25,
   "id": "d5360971",
   "metadata": {},
   "outputs": [],
   "source": [
    "def test_clean_fn(fn: Callable, sample: str) -> str:\n",
    "    print(sample, fn(sample), sep=\"\\n\")"
   ]
  },
  {
   "cell_type": "markdown",
   "id": "17cc9fa5",
   "metadata": {},
   "source": [
    "## Stop Words"
   ]
  },
  {
   "cell_type": "code",
   "execution_count": 26,
   "id": "bb53be6d",
   "metadata": {},
   "outputs": [
    {
     "name": "stdout",
     "output_type": "stream",
     "text": [
      "هدف لا نراه كل يوم . #LEITOT . @oki_q8e شوف ابن اختي شوف 🤗 https://t.co/ZmVMl4sOqA\n",
      "هدف نراه يوم . #LEITOT . @oki_q8e شوف ابن اختي شوف 🤗 https://t.co/ZmVMl4sOqA\n"
     ]
    }
   ],
   "source": [
    "stop_words = stopwords.words(\"arabic\")\n",
    "\n",
    "def remove_stop_words(text: str) -> str:\n",
    "    return \" \".join([word for word in text.split(\" \") if word not in stop_words])\n",
    "\n",
    "\n",
    "test_clean_fn(remove_stop_words, sample)"
   ]
  },
  {
   "cell_type": "markdown",
   "id": "ac725abc",
   "metadata": {},
   "source": [
    "## Remove Hashtags\n",
    "\n",
    "[Regex to remove hashtag](https://regexr.com/3gkpo)"
   ]
  },
  {
   "cell_type": "code",
   "execution_count": 27,
   "id": "5db71424",
   "metadata": {},
   "outputs": [
    {
     "name": "stdout",
     "output_type": "stream",
     "text": [
      "هدف لا نراه كل يوم . #LEITOT . @oki_q8e شوف ابن اختي شوف 🤗 https://t.co/ZmVMl4sOqA\n",
      "هدف لا نراه كل يوم .  . @oki_q8e شوف ابن اختي شوف 🤗 https://t.co/ZmVMl4sOqA\n"
     ]
    }
   ],
   "source": [
    "hashtag_re = re.compile(pattern=\"#[\\w\\d]+\")\n",
    "\n",
    "def remove_hashtag(text: str) -> str:\n",
    "    return hashtag_re.sub(repl=\"\", string=text)\n",
    "\n",
    "test_clean_fn(remove_hashtag, sample)"
   ]
  },
  {
   "cell_type": "markdown",
   "id": "a11b66ae",
   "metadata": {},
   "source": [
    "## Remove Mention"
   ]
  },
  {
   "cell_type": "code",
   "execution_count": 28,
   "id": "43febc0d",
   "metadata": {},
   "outputs": [
    {
     "name": "stdout",
     "output_type": "stream",
     "text": [
      "هدف لا نراه كل يوم . #LEITOT . @oki_q8e شوف ابن اختي شوف 🤗 https://t.co/ZmVMl4sOqA\n",
      "هدف لا نراه كل يوم . #LEITOT .  شوف ابن اختي شوف 🤗 https://t.co/ZmVMl4sOqA\n"
     ]
    }
   ],
   "source": [
    "mention_re = re.compile(\"\\B@\\w+\")\n",
    "def remove_mention(text: str) -> str:\n",
    "    # TODO: Look for a suitable way to remove mentions from a text\n",
    "    # TIP: Look for a regex expression\n",
    "    return mention_re.sub(repl=\"\", string=text)\n",
    "    \n",
    "test_clean_fn(remove_mention, sample)"
   ]
  },
  {
   "cell_type": "markdown",
   "id": "c2511c98",
   "metadata": {},
   "source": [
    "## Remove Punctuation Marks"
   ]
  },
  {
   "cell_type": "code",
   "execution_count": 29,
   "id": "498f76de",
   "metadata": {},
   "outputs": [
    {
     "name": "stdout",
     "output_type": "stream",
     "text": [
      "هدف لا نراه كل يوم . #LEITOT . @oki_q8e شوف ابن اختي شوف 🤗 https://t.co/ZmVMl4sOqA\n",
<<<<<<< HEAD
      "هدف لا نراه كل يوم  LEITOT  oki_q8e شوف ابن اختي شوف  httpstcoZmVMl4sOqA\n"
=======
      "هدف لا نراه كل يوم  LEITOT  okiq8e شوف ابن اختي شوف 🤗 httpstcoZmVMl4sOqA\n"
>>>>>>> 26a22f2fafa42e8c71380cb331885e1d47272417
     ]
    }
   ],
   "source": [
    "punc_re = re.compile(r\"\"\"[!\"#$%&\\'()*+,-./:;<=>?@[\\\\\\]^_`{|}~،؟…«“\\\":\\\"…”]\"\"\")\n",
    "def remove_punctation(text: str) -> str:\n",
    "    # TODO: Look for a suitable way to remove punctiation marks from a text\n",
    "    # TIP: Look for a regex expression\n",
<<<<<<< HEAD
    "    return re.sub(pattern=r'[^\\w\\s]', repl=\"\", string=text)\n",
=======
    "    return punc_re.sub(repl=\"\", string=text)\n",
>>>>>>> 26a22f2fafa42e8c71380cb331885e1d47272417
    "    \n",
    "test_clean_fn(remove_punctation, sample)"
   ]
  },
  {
   "cell_type": "markdown",
   "id": "a44c7d43",
   "metadata": {},
   "source": [
    "## Remove HTTP URLs"
   ]
  },
  {
   "cell_type": "code",
   "execution_count": 30,
   "id": "5041cb1c",
   "metadata": {},
   "outputs": [
    {
     "name": "stdout",
     "output_type": "stream",
     "text": [
      "هدف لا نراه كل يوم . #LEITOT . @oki_q8e شوف ابن اختي شوف 🤗 https://t.co/ZmVMl4sOqA\n",
      "هدف لا نراه كل يوم . #LEITOT . @oki_q8e شوف ابن اختي شوف 🤗 \n"
     ]
    }
   ],
   "source": [
    "url_re = re.compile(r\"https?:\\/\\/(www\\.)?[-a-zA-Z0-9@:%._\\+~#=]{1,256}\\.[a-zA-Z0-9()]{1,6}\\b([-a-zA-Z0-9()@:%_\\+.~#?&//=]*)\")\n",
    "def remove_urls(text: str) -> str:\n",
    "    # TODO: Look for a suitable way to remove urls from a text\n",
    "    # TIP: Look for a regex expression\n",
<<<<<<< HEAD
    "    return re.sub(pattern=r'http\\S+', repl=\"\", string=text)\n",
=======
    "    return url_re.sub(repl=\"\", string=text)\n",
>>>>>>> 26a22f2fafa42e8c71380cb331885e1d47272417
    "    \n",
    "test_clean_fn(remove_urls, sample)"
   ]
  },
  {
   "cell_type": "markdown",
   "id": "2c443447",
   "metadata": {},
   "source": [
    "## Remove Diactrics"
   ]
  },
  {
   "cell_type": "code",
   "execution_count": 31,
   "id": "6e93bf9f",
   "metadata": {},
   "outputs": [
    {
     "name": "stdout",
     "output_type": "stream",
     "text": [
      "\"أنا أؤمن بأن الانسان ينطفئ جماله عند ابتعاد من يحب ، حتى بريق العيون يختفي فيصبح ذابلاً منطفئًا، يتحول ربيعه الى خريف.\". @gbraniiat\n",
      "\"أنا أؤمن بأن الانسان ينطفئ جماله عند ابتعاد من يحب ، حتى بريق العيون يختفي فيصبح ذابلا منطفئا، يتحول ربيعه الى خريف.\". @gbraniiat\n"
     ]
    }
   ],
   "source": [
    "diactircs_re = re.compile(\"[\\u064B-\\u0652]\")\n",
    "\n",
    "def remove_diactrics(text: str) -> str:\n",
    "    # TODO: Implement this function using the diactrics_re\n",
<<<<<<< HEAD
    "    return re.sub(pattern=diactircs_re, repl=\"\", string=text)\n",
=======
    "    return diactircs_re.sub(repl=\"\", string=text)\n",
>>>>>>> 26a22f2fafa42e8c71380cb331885e1d47272417
    "    \n",
    "test_clean_fn(remove_diactrics, data.iloc[0][\"Tweet\"])"
   ]
  },
  {
   "cell_type": "markdown",
   "id": "6be2e6bc",
   "metadata": {},
   "source": [
    "## Remove Numbers"
   ]
  },
  {
   "cell_type": "code",
   "execution_count": 32,
   "id": "f7b0da0d",
   "metadata": {},
   "outputs": [
    {
     "name": "stdout",
     "output_type": "stream",
     "text": [
      "@GundiOmer @WahidBarzane 6- برامج واجندات لسب جميع صحابة رسول الله صل الله عليه وسلم 7- تدمير منطقة الشرق الاوسط و… https://t.co/Mey9HB1979\n",
      "@GundiOmer @WahidBarzane - برامج واجندات لسب جميع صحابة رسول الله صل الله عليه وسلم - تدمير منطقة الشرق الاوسط و… https://t.co/MeyHB\n"
     ]
    }
   ],
   "source": [
    "numbers_re = re.compile(\"\\d\")\n",
    "def remove_numbers(text: str) -> str:\n",
    "    # TODO: Implement remove numbers\n",
<<<<<<< HEAD
    "    return re.sub(pattern=r'[0-9]', repl=\"\", string=text)\n",
=======
    "    return numbers_re.sub(repl=\"\", string=text)\n",
>>>>>>> 26a22f2fafa42e8c71380cb331885e1d47272417
    "    \n",
    "test_clean_fn(remove_numbers, data.iloc[65][\"Tweet\"])"
   ]
  },
  {
   "cell_type": "markdown",
   "id": "20fb67c0",
   "metadata": {},
   "source": [
    "## Remove English Characters"
   ]
  },
  {
   "cell_type": "code",
   "execution_count": 33,
   "id": "df919311",
   "metadata": {},
   "outputs": [
    {
     "name": "stdout",
     "output_type": "stream",
     "text": [
      "من الذاكره... @3FInQe . عندما اعتقد كريستيانو انه ثاني افضل لاعب في العالم بعد كاكا و ميسي ثالثاً ثم حدث العكس 😂😂😂😂😂😂 https://t.co/n3EZ0pX0X7\n",
      "من الذاكره... @3 . عندما اعتقد كريستيانو انه ثاني افضل لاعب في العالم بعد كاكا و ميسي ثالثاً ثم حدث العكس 😂😂😂😂😂😂 ://./3007\n"
     ]
    }
   ],
   "source": [
    "english_chars_re = re.compile(\"[A-Za-z]\")\n",
    "def remove_english_characters(text: str) -> str:\n",
    "    # TODO: Implement remove english characters\n",
<<<<<<< HEAD
    "    return re.sub(pattern=r'[A-Za-z]', repl=\"\", string=text)\n",
    "\n",
    "test_clean_fn(remove_english_characters, data.iloc[1][\"Tweet\"])"
   ]
  },
  {
   "cell_type": "code",
   "execution_count": 34,
   "id": "37e50bde",
   "metadata": {},
   "outputs": [
    {
     "name": "stdout",
     "output_type": "stream",
     "text": [
      "most common pruned_vocab\n"
     ]
    },
    {
     "data": {
      "text/plain": [
       "[('.', 1105),\n",
       " ('الله', 787),\n",
       " ('،', 589),\n",
       " ('..', 460),\n",
       " ('ان', 321),\n",
       " ('الى', 222),\n",
       " ('بن', 195),\n",
       " (':', 188),\n",
       " ('لبنان', 186),\n",
       " ('-', 185),\n",
       " ('...', 176),\n",
       " ('اللهم', 156),\n",
       " ('او', 147),\n",
       " ('انت', 137),\n",
       " ('اللي', 132),\n",
       " ('انا', 127),\n",
       " ('مش', 126),\n",
       " ('الحريري', 124),\n",
       " ('اليوم', 116),\n",
       " ('السعودية', 109),\n",
       " ('الي', 107),\n",
       " ('عم', 107),\n",
       " ('كانت', 106),\n",
       " ('والله', 105),\n",
       " ('عندما', 99),\n",
       " ('؟', 99),\n",
       " ('!', 98),\n",
       " ('يوم', 97),\n",
       " ('يكون', 95),\n",
       " ('اذا', 94),\n",
       " ('قال', 94),\n",
       " ('كنت', 92),\n",
       " ('حزب', 91),\n",
       " ('الا', 90),\n",
       " ('محمد', 90),\n",
       " ('شي', 88),\n",
       " ('شو', 84),\n",
       " ('سلمان', 84),\n",
       " ('الناس', 82),\n",
       " ('انو', 81),\n",
       " ('يعني', 80),\n",
       " ('سعد', 80),\n",
       " ('الرئيس', 77),\n",
       " ('انه', 76),\n",
       " ('\"', 76),\n",
       " ('رئيس', 76),\n",
       " ('اي', 75),\n",
       " ('العالم', 74),\n",
       " ('تكون', 74),\n",
       " ('الحياة', 73),\n",
       " ('شيء', 72),\n",
       " ('خير', 68),\n",
       " ('السلام', 67),\n",
       " ('العراق', 67),\n",
       " ('حدا', 64),\n",
       " ('رح', 64),\n",
       " ('#لبنان', 62),\n",
       " ('يلي', 61),\n",
       " ('ا…', 59),\n",
       " ('اني', 59),\n",
       " ('(', 59),\n",
       " ('ال…', 58),\n",
       " ('وكل', 58),\n",
       " ('شخص', 55),\n",
       " ('رب', 55),\n",
       " ('ضد', 54),\n",
       " ('كلام', 53),\n",
       " ('حكومة', 53),\n",
       " ('يارب', 52),\n",
       " ('مو', 52),\n",
       " ('قلبي', 52),\n",
       " ('سوريا', 52),\n",
       " ('خلال', 51),\n",
       " ('دولة', 51),\n",
       " ('بكل', 50),\n",
       " ('#السعودية', 49),\n",
       " ('علي', 49),\n",
       " ('//', 49),\n",
       " ('فريق', 48),\n",
       " ('عدم', 48),\n",
       " ('يقول', 47),\n",
       " (')', 46),\n",
       " ('الشعب', 45),\n",
       " ('اول', 44),\n",
       " ('لله', 44),\n",
       " ('فقط', 44),\n",
       " ('بلا', 43),\n",
       " ('المنتخب', 43),\n",
       " ('الخير', 43),\n",
       " ('القلب', 42),\n",
       " ('احد', 42),\n",
       " ('هيك', 42),\n",
       " ('اليمن', 42),\n",
       " (',', 41),\n",
       " ('عبد', 41),\n",
       " ('الكل', 41),\n",
       " ('يمكن', 41),\n",
       " ('ال', 41),\n",
       " ('وان', 41),\n",
       " ('علينا', 40),\n",
       " ('ربي', 40),\n",
       " ('مرة', 40),\n",
       " ('الدنيا', 40),\n",
       " ('السوري', 39),\n",
       " (':.', 39),\n",
       " ('منتخب', 39),\n",
       " ('دول', 39),\n",
       " ('السعودي', 38),\n",
       " ('عمل', 38),\n",
       " ('وعلى', 38),\n",
       " ('وانا', 38),\n",
       " ('وزير', 38),\n",
       " ('الف', 37),\n",
       " ('مبروك', 37),\n",
       " ('الكلام', 37),\n",
       " ('أكبر', 37),\n",
       " ('تم', 37),\n",
       " ('بالله', 37),\n",
       " ('العربية', 37),\n",
       " ('كتير', 36),\n",
       " ('لكل', 36),\n",
       " ('ايران', 36),\n",
       " ('سنة', 36),\n",
       " ('ابو', 36),\n",
       " ('الفساد', 35),\n",
       " ('قلبك', 35),\n",
       " ('الحب', 35),\n",
       " ('الان', 35),\n",
       " ('متل', 35),\n",
       " ('....', 34),\n",
       " ('عليهم', 34),\n",
       " ('الحسين', 34),\n",
       " ('ابن', 34),\n",
       " ('الملك', 34),\n",
       " ('😂', 34),\n",
       " ('!!', 33),\n",
       " ('الحكومة', 33),\n",
       " ('العربي', 33),\n",
       " ('السماء', 33),\n",
       " ('الشيخ', 33),\n",
       " ('ناس', 33),\n",
       " ('البلد', 33),\n",
       " ('نفسي', 33),\n",
       " ('انتي', 33),\n",
       " ('ممكن', 33),\n",
       " ('العرب', 33),\n",
       " ('بأن', 32),\n",
       " ('مين', 32),\n",
       " ('منك', 32),\n",
       " ('لأن', 32)]"
      ]
     },
     "execution_count": 34,
     "metadata": {},
     "output_type": "execute_result"
    }
   ],
   "source": [
    "print(\"most common pruned_vocab\")\n",
    "pruned_vocab.most_common(n=150)"
   ]
  },
  {
   "cell_type": "code",
   "execution_count": 35,
   "id": "7abb4694",
   "metadata": {},
   "outputs": [
    {
     "name": "stdout",
     "output_type": "stream",
     "text": [
      "least common pruned_vocab\n"
     ]
    },
    {
     "data": {
      "text/plain": [
       "[('https://t.co/wMEr6H1z3j', 1),\n",
       " ('فعلآ', 1),\n",
       " ('القدوم', 1),\n",
       " ('مقيد', 1),\n",
       " ('بتأكيد', 1),\n",
       " ('العبة', 1),\n",
       " ('وصوله', 1),\n",
       " ('لاتدع', 1),\n",
       " ('الظل', 1),\n",
       " ('ينير', 1),\n",
       " ('بعلمهم', 1),\n",
       " ('وعملهم', 1),\n",
       " ('أضف', 1),\n",
       " ('لرصيدك', 1),\n",
       " ('سيرتك', 1),\n",
       " ('تُقرأُ', 1),\n",
       " ('فتُنقل', 1),\n",
       " ('فتؤثر', 1),\n",
       " ('فتؤجر', 1),\n",
       " ('الجاهل', 1),\n",
       " ('بيقرأ', 1),\n",
       " ('الاحداث.', 1),\n",
       " ('غشيم', 1),\n",
       " ('هللئ', 1),\n",
       " ('بلّش', 1),\n",
       " ('الجنرال.', 1),\n",
       " ('جناح', 1),\n",
       " ('يعملون', 1),\n",
       " ('حساب…', 1),\n",
       " ('https://t.co/m67XQvrAsU', 1),\n",
       " ('مبقتش', 1),\n",
       " ('أفرق', 1),\n",
       " ('بيبعتهالي', 1),\n",
       " ('بيحطها', 1),\n",
       " ('طريقي', 1),\n",
       " ('أستاهل', 1),\n",
       " ('وجلساتنا', 1),\n",
       " ('6\"منحتهم', 1),\n",
       " ('نعمك', 1),\n",
       " ('عرفوا', 1),\n",
       " ('علمهم', 1),\n",
       " ('فاستحقوا', 1),\n",
       " ('غضبك', 1),\n",
       " ('يضلون', 1),\n",
       " ('ويحاولون', 1),\n",
       " ('يغيروا', 1),\n",
       " ('الحكيم', 1),\n",
       " ('لإبنه:', 1),\n",
       " ('الاعضاء', 1),\n",
       " ('العبادة.', 1),\n",
       " ('تذكريني', 1),\n",
       " ('سويت', 1),\n",
       " ('فرحتي', 1),\n",
       " ('اخت', 1),\n",
       " ('قضيتها', 1),\n",
       " ('وحيدة', 1),\n",
       " ('واعاني', 1),\n",
       " ('اضطهاد', 1),\n",
       " ('واولاد…', 1),\n",
       " ('https://t.co/gpcRlhSgE2', 1),\n",
       " ('@free4ever_', 1),\n",
       " ('اكوش', 1),\n",
       " ('ضاميهم', 1),\n",
       " ('علينة', 1),\n",
       " ('الربع,لو', 1),\n",
       " ('سعدي', 1),\n",
       " ('الحلي', 1),\n",
       " ('بوقتهم', 1),\n",
       " ('اسمة', 1),\n",
       " ('الصحابي', 1),\n",
       " ('الحلي.', 1),\n",
       " ('انجشة', 1),\n",
       " ('بنون', 1),\n",
       " ('4…', 1),\n",
       " ('https://t.co/SHRGgWKmOf', 1),\n",
       " ('@FerasAllaou', 1),\n",
       " ('٧٠٠٠', 1),\n",
       " ('١٨٥٠', 1),\n",
       " ('الطبيعية', 1),\n",
       " ('الرواتب', 1),\n",
       " ('وإدارة', 1),\n",
       " ('#كوردستان.', 1),\n",
       " ('\"يجب', 1),\n",
       " ('يدار', 1),\n",
       " ('https://t.co/vdRfU0Xt9U', 1),\n",
       " ('Lala', 1),\n",
       " ('Basha', 1),\n",
       " ('Mosque', 1),\n",
       " ('لتحفيظ', 1),\n",
       " ('بتاريخ', 1),\n",
       " ('10/14', 1),\n",
       " ('الظ…', 1),\n",
       " ('https://t.co/WmMgkBIEVb', 1),\n",
       " ('تبا', 1),\n",
       " ('لوجوههم', 1),\n",
       " ('الحزينة😡😡', 1),\n",
       " ('نفسيات', 1),\n",
       " ('شيني', 1),\n",
       " ('الدبدوب', 1),\n",
       " ('خيررر', 1),\n",
       " ('شصاير', 1),\n",
       " ('عزا', 1),\n",
       " ('منتظريها', 1),\n",
       " ('سنين.', 1),\n",
       " ('#BlackSuitِ', 1),\n",
       " ('وخرج', 1),\n",
       " ('وتسيدها', 1),\n",
       " ('قادر…', 1),\n",
       " ('https://t.co/8d5mSB82Ks', 1),\n",
       " ('غائم', 1),\n",
       " ('جزئيا', 1),\n",
       " ('انخفاض', 1),\n",
       " ('بسيط', 1),\n",
       " ('بدرجات', 1),\n",
       " ('الحرارة', 1),\n",
       " ('فستتساقط', 1),\n",
       " ('أمطار', 1),\n",
       " ('متفرقة', 1),\n",
       " ('الليل..', 1),\n",
       " ('https://t.co/ZLESQgMYyy', 1),\n",
       " ('المقاولون', 1),\n",
       " ('يحلم', 1),\n",
       " ('للاهلي', 1),\n",
       " ('،الى', 1),\n",
       " ('مروراً', 1),\n",
       " ('بتشلسي', 1),\n",
       " ('العزيز:', 1),\n",
       " ('الأنظمة', 1),\n",
       " ('بحزم', 1),\n",
       " ('تطاول', 1),\n",
       " ('اختلسه', 1),\n",
       " ('أساء', 1),\n",
       " ('والنفوذ', 1),\n",
       " ('وكهربا', 1),\n",
       " ('والزبالة', 1),\n",
       " ('والمجارير', 1),\n",
       " ('فايتي', 1),\n",
       " ('بيتو', 1),\n",
       " ('بيختلف', 1),\n",
       " ('وجارو', 1),\n",
       " ('الريحة', 1),\n",
       " ('نقلاً', 1),\n",
       " ('مباشراً', 1),\n",
       " ('نشرة', 1),\n",
       " ('الرياضية', 1),\n",
       " ('8:30', 1),\n",
       " ('\"العرب\"', 1),\n",
       " ('حمود', 1),\n",
       " ('📍', 1),\n",
       " ('https://t.co/oUstA9G7dM', 1)]"
      ]
     },
     "execution_count": 35,
     "metadata": {},
     "output_type": "execute_result"
    }
   ],
   "source": [
    "print(\"least common pruned_vocab\")\n",
    "pruned_vocab.most_common()[-150:]"
   ]
  },
  {
   "cell_type": "code",
   "execution_count": 36,
   "id": "8ae25974",
   "metadata": {},
   "outputs": [],
   "source": [
    "# rare_words = pruned_vocab.most_common()[-150:]\n",
    "# to_keep = [\"الحزينة\",\"مقيد\",\"ينير\",\"غشيم\",\"غضبك\",\"يضلون\",\"وحيدة\",\"اضطهاد\"]\n",
    "# rare_words = [word_tuple[0] for word_tuple in rare_words if word_tuple[0] not in to_keep]\n",
    "# for loc,tweet in enumerate(data[\"Tweet\"]):\n",
    "#   words = tweet.split(\" \")\n",
    "#   for word in words:\n",
    "#     if word in rare_words:\n",
    "#       print(loc)"
=======
    "    return english_chars_re.sub(repl=\"\", string=text)"
>>>>>>> 26a22f2fafa42e8c71380cb331885e1d47272417
   ]
  },
  {
   "cell_type": "markdown",
   "id": "52b04cf9",
   "metadata": {},
   "source": [
    "## Remove Most and Least Common Words"
   ]
  },
  {
   "cell_type": "code",
<<<<<<< HEAD
   "execution_count": 37,
=======
   "execution_count": 34,
   "id": "bbdfd3ba",
   "metadata": {},
   "outputs": [],
   "source": [
    "stop_words_pruned = [remove_stop_words(tweet) for tweet in data[\"Tweet\"]]\n",
    "\n",
    "pruned_all_words = [word for tweet in stop_words_pruned for word in tweet.split(\" \")]\n",
    "\n",
    "pruned_vocab = Counter(pruned_all_words)\n"
   ]
  },
  {
   "cell_type": "code",
   "execution_count": 35,
>>>>>>> 26a22f2fafa42e8c71380cb331885e1d47272417
   "id": "3fc270aa",
   "metadata": {},
   "outputs": [
    {
     "name": "stdout",
     "output_type": "stream",
     "text": [
      "اذا كان سعد الحريري حر فعلآ كان عليه القدوم الى لبنان انه مقيد الحركة بتأكيد العبة في وصوله الى ابو ظبي وهذه الصورة مع بن زايد ما هي الدليل\n",
      "اذا كان سعد الحريري حر كان عليه الى لبنان انه مقيد الحركة في الى ابو ظبي وهذه الصورة مع بن زايد ما هي الدليل\n",
      "الف الف مبروك للمنتخب السوري كسب احترام الجميع لعب بروح والعزيمه شكرا على كل شي قدمتوه على مدار التصفيات النهايه برغم الظروف #استراليا_سوريا\n",
      "مبروك للمنتخب كسب احترام الجميع لعب بروح والعزيمه شكرا على كل قدمتوه على مدار التصفيات النهايه برغم الظروف #استراليا_سوريا\n"
     ]
    }
   ],
   "source": [
    "## TODO: define a list of least occurent words\n",
<<<<<<< HEAD
    "rare_words = pruned_vocab.most_common()[-150:]\n",
    "to_keep = [\"الحزينة\",\"مقيد\",\"ينير\",\"غشيم\",\"غضبك\",\"يضلون\",\"وحيدة\",\"اضطهاد\"]\n",
    "rare_words = [word_tuple[0] for word_tuple in rare_words if word_tuple[0] not in to_keep]\n",
    "# print(rare_words,len(rare_words),sep=\"\\n\")\n",
    "to_keep = [\"خير\",\"السلام\",\"مبروك\",\"الفساد\"]\n",
    "common_words = pruned_vocab.most_common(n=150)\n",
    "common_words = [word_tuple[0] for word_tuple in common_words if word_tuple[0] not in to_keep]\n",
    "# print(common_words,len(common_words),sep=\"\\n\")\n",
    "def remove_rare_words(text: str) -> str:\n",
    "    # TODO: Implement\n",
=======
    "rare_words = []\n",
    "common_words = [word for word, count in pruned_vocab.items() if count > 100]\n",
    "\n",
    "def remove_rare_words(text: str) -> str:\n",
>>>>>>> 26a22f2fafa42e8c71380cb331885e1d47272417
    "    return \" \".join([word for word in text.split(\" \") if word not in rare_words])\n",
    "    \n",
    "test_clean_fn(remove_rare_words, data.iloc[3954][\"Tweet\"])\n",
    "def remove_common_words(text: str) -> str:\n",
    "    # TODO: Implement\n",
<<<<<<< HEAD
    "    return \" \".join([word for word in text.split(\" \") if word not in common_words])\n",
    "\n",
    "test_clean_fn(remove_common_words, data.iloc[8][\"Tweet\"])"
=======
    "    return \" \".join([word for word in text.split(\" \") if word not in common_words])"
>>>>>>> 26a22f2fafa42e8c71380cb331885e1d47272417
   ]
  },
  {
   "cell_type": "markdown",
   "id": "6e60e610",
   "metadata": {},
   "source": [
    "## Add Space Around Emojis"
   ]
  },
  {
   "cell_type": "markdown",
   "id": "950d14c6",
   "metadata": {},
   "source": [
    "## Remove Duplicate Characters as in (هههههههههههههه)"
   ]
  },
  {
   "cell_type": "code",
<<<<<<< HEAD
   "execution_count": 40,
   "id": "7945e26f",
=======
   "execution_count": 36,
   "id": "3f660fe8",
>>>>>>> 26a22f2fafa42e8c71380cb331885e1d47272417
   "metadata": {},
   "outputs": [
    {
     "name": "stdout",
     "output_type": "stream",
     "text": [
<<<<<<< HEAD
      "قال الرجل هههههههههههه ثم اكل توت و قللل ؟\n",
      "قال الرجل ثم اكل توت و قللل ؟\n"
=======
      "طبعا😂✋🏻🌹🌹🌹\n",
      "طبعا 😂  ✋  🏻  🌹  🌹  🌹 \n"
>>>>>>> 26a22f2fafa42e8c71380cb331885e1d47272417
     ]
    }
   ],
   "source": [
<<<<<<< HEAD
    "def remove_duplictae_char(text:str) -> str:\n",
    "  return \" \".join([word for word in text.split(\" \") if len(set(word)) > 1 or len(word) == 1])\n",
    "\n",
    "test_clean_fn(remove_duplictae_char,\"قال الرجل هههههههههههه ثم اكل توت و قللل ؟\")"
=======
    "emojis_regex = re.compile(EXPRESSION_EMOJIS.pattern) \n",
    "\n",
    "\n",
    "def space_around_emojis(text: str) -> str:\n",
    "    chars = [' ' + char + ' ' if emojis_regex.match(char) else char for char in text]\n",
    "    return ''.join(chars)\n",
    "    \n",
    "test_clean_fn(space_around_emojis, \"طبعا😂✋🏻🌹🌹🌹\")"
   ]
  },
  {
   "cell_type": "markdown",
   "id": "bf6680a5",
   "metadata": {},
   "source": [
    "## Remove Multiple Whitespace"
>>>>>>> 26a22f2fafa42e8c71380cb331885e1d47272417
   ]
  },
  {
   "cell_type": "code",
<<<<<<< HEAD
   "execution_count": 41,
=======
   "execution_count": 37,
>>>>>>> 26a22f2fafa42e8c71380cb331885e1d47272417
   "id": "13b739ff",
   "metadata": {},
   "outputs": [],
   "source": [
    "multiple_space_re = re.compile(\"\\s{2,}\")\n",
    "def remove_multiple_whitespace(text: str) -> str:\n",
    "    return multiple_space_re.sub(repl=\" \", string=text)"
   ]
  },
  {
   "cell_type": "markdown",
   "id": "96c69538",
   "metadata": {},
   "source": [
    "## Clean All"
   ]
  },
  {
   "cell_type": "code",
<<<<<<< HEAD
   "execution_count": 42,
=======
   "execution_count": 38,
>>>>>>> 26a22f2fafa42e8c71380cb331885e1d47272417
   "id": "b6f7548a",
   "metadata": {},
   "outputs": [],
   "source": [
    "def clean_all(text: str) -> str:\n",
    "    text = space_around_emojis(text)\n",
    "    text = remove_urls(text)\n",
    "    text = remove_hashtag(text)\n",
    "    text = remove_mention(text)\n",
    "    text = remove_punctation(text)\n",
    "    text = remove_numbers(text)\n",
    "    text = remove_diactrics(text)\n",
    "    text = remove_english_characters(text)\n",
    "    text = remove_stop_words(text)\n",
    "    text = remove_common_words(text)\n",
    "    text = remove_rare_words(text)\n",
    "    text = remove_multiple_whitespace(text)\n",
    "    ## To remove trailing and leading whitespaces\n",
    "    text = text.strip()\n",
    "    \n",
    "    text = remove(text=text, all_harakat=True, tatweel=True, punctuations=True)\n",
    "    text = normalize(text=text, all=True)\n",
    "    \n",
    "    \n",
    "    return text"
   ]
  },
  {
   "cell_type": "code",
<<<<<<< HEAD
   "execution_count": 43,
=======
   "execution_count": 39,
>>>>>>> 26a22f2fafa42e8c71380cb331885e1d47272417
   "id": "82540862",
   "metadata": {},
   "outputs": [],
   "source": [
    "data[\"clean_text\"] = data[\"Tweet\"].apply(clean_all)"
   ]
  },
  {
   "cell_type": "markdown",
   "id": "b2035557",
   "metadata": {},
   "source": [
    "# Text Normalisation"
   ]
  },
  {
   "cell_type": "code",
<<<<<<< HEAD
   "execution_count": 44,
=======
   "execution_count": 40,
>>>>>>> 26a22f2fafa42e8c71380cb331885e1d47272417
   "id": "2c09b747",
   "metadata": {},
   "outputs": [],
   "source": [
    "# https://www.nltk.org/_modules/nltk/stem/isri.html\n",
    "\n",
    "stemmer = ISRIStemmer()"
   ]
  },
  {
   "cell_type": "code",
<<<<<<< HEAD
   "execution_count": 45,
=======
   "execution_count": 41,
>>>>>>> 26a22f2fafa42e8c71380cb331885e1d47272417
   "id": "ec36101c",
   "metadata": {},
   "outputs": [
    {
     "data": {
      "text/plain": [
       "'ذهب'"
      ]
     },
<<<<<<< HEAD
     "execution_count": 45,
=======
     "execution_count": 41,
>>>>>>> 26a22f2fafa42e8c71380cb331885e1d47272417
     "metadata": {},
     "output_type": "execute_result"
    }
   ],
   "source": [
    "stemmer.stem(\"يذهبون\")"
   ]
  },
  {
   "cell_type": "code",
<<<<<<< HEAD
   "execution_count": 46,
=======
   "execution_count": 42,
>>>>>>> 26a22f2fafa42e8c71380cb331885e1d47272417
   "id": "628c379a",
   "metadata": {},
   "outputs": [],
   "source": [
    "stemmed_data = []\n",
    "for sample in data[\"clean_text\"]:\n",
    "    words = sample.split(\" \")\n",
    "    stemmed_words = [stemmer.stem(word) for word in words]\n",
    "    stemmed_data.append(\" \".join(stemmed_words))\n",
    "\n"
   ]
  },
  {
   "cell_type": "code",
<<<<<<< HEAD
   "execution_count": 47,
=======
   "execution_count": 43,
>>>>>>> 26a22f2fafa42e8c71380cb331885e1d47272417
   "id": "bfe99bcd",
   "metadata": {},
   "outputs": [
    {
     "name": "stdout",
     "output_type": "stream",
     "text": [
<<<<<<< HEAD
      "أؤمن الانسان ينطفئ جماله ابتعاد يحب بريق العيون يختفي فيصبح ذابلا منطفئا يتحول ربيعه خريف  اؤم انس طفئ جمل بعد يحب برق عين خفي صبح ذبل طفئ تحل ربع خرف \n"
=======
      "اومن بان الانسان ينطفي جماله ابتعاد يحب بريق العيون يختفي فيصبح ذابلا منطفيا يتحول ربيعه خريف اوم بان انس نطف جمل بعد يحب برق عين خفي صبح ذبل نطف تحل ربع خرف\n"
>>>>>>> 26a22f2fafa42e8c71380cb331885e1d47272417
     ]
    }
   ],
   "source": [
    "print(data[\"clean_text\"][0], stemmed_data[0])"
   ]
  },
  {
   "cell_type": "code",
<<<<<<< HEAD
   "execution_count": 48,
   "id": "ed8a9ca4",
=======
   "execution_count": 44,
   "id": "4217cb66",
>>>>>>> 26a22f2fafa42e8c71380cb331885e1d47272417
   "metadata": {},
   "outputs": [],
   "source": [
    "data[\"clean_stemmed\"] = stemmed_data"
   ]
  },
  {
   "cell_type": "markdown",
   "id": "323a9ac5",
   "metadata": {},
   "source": [
    "# Post Processsing Exploration"
   ]
  },
  {
   "cell_type": "code",
<<<<<<< HEAD
   "execution_count": 49,
   "id": "c53832c2",
=======
   "execution_count": 45,
   "id": "103d0412",
>>>>>>> 26a22f2fafa42e8c71380cb331885e1d47272417
   "metadata": {},
   "outputs": [
    {
     "data": {
      "image/png": "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\n",
      "text/plain": [
       "<Figure size 1080x864 with 1 Axes>"
      ]
     },
     "metadata": {
      "needs_background": "light"
     },
     "output_type": "display_data"
    }
   ],
   "source": [
    "# TODO: Plot a box plot of the remaining unique tokens\n",
<<<<<<< HEAD
    "cleaned_stemmed_words = [word for stemmed_text in data[\"clean_stemmed\"] for word in stemmed_text.split(\" \")]\n",
    "stemmed_vocabs = Counter(cleaned_stemmed_words)\n",
    "stemmed_counts = list(stemmed_vocabs.values())\n",
    "fig, ax = plt.subplots(figsize=(15, 12))\n",
    "\n",
    "sns.boxplot(y=stemmed_counts, ax=ax)\n",
    "ax.set_title(\"Word Count\", fontdict=dict(size=15), pad=15)\n",
    "\n",
    "plt.show()"
=======
    "all_words = [word for tweet in stemmed_data for word in tweet.split(\" \")]\n",
    "\n",
    "vocab = Counter(all_words)\n",
    "\n",
    "counts = list(vocab.values())"
   ]
  },
  {
   "cell_type": "code",
   "execution_count": 46,
   "id": "a25ff44b",
   "metadata": {},
   "outputs": [
    {
     "data": {
      "image/png": "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\n",
      "text/plain": [
       "<Figure size 1080x864 with 1 Axes>"
      ]
     },
     "metadata": {
      "needs_background": "light"
     },
     "output_type": "display_data"
    }
   ],
   "source": [
    "fig, ax = plt.subplots(figsize=(15, 12))\n",
    "\n",
    "sns.boxplot(y=counts, ax=ax)\n",
    "ax.set_title(\"Word Count\", fontdict=dict(size=15), pad=15)\n",
    "\n",
    "plt.show()"
   ]
  },
  {
   "cell_type": "code",
   "execution_count": 47,
   "id": "00c054b8",
   "metadata": {},
   "outputs": [
    {
     "data": {
      "text/plain": [
       "[('قدم', 394),\n",
       " ('علم', 381),\n",
       " ('سعد', 377),\n",
       " ('سلم', 373),\n",
       " ('قلب', 318),\n",
       " ('حكم', 296),\n",
       " ('جمع', 272),\n",
       " ('عمل', 272),\n",
       " ('😂', 267),\n",
       " ('كلم', 245)]"
      ]
     },
     "execution_count": 47,
     "metadata": {},
     "output_type": "execute_result"
    }
   ],
   "source": [
    "vocab.most_common(n=10)"
   ]
  },
  {
   "cell_type": "code",
   "execution_count": 48,
   "id": "f66f3c99",
   "metadata": {},
   "outputs": [
    {
     "data": {
      "text/plain": [
       "6420"
      ]
     },
     "execution_count": 48,
     "metadata": {},
     "output_type": "execute_result"
    }
   ],
   "source": [
    "len(vocab)"
>>>>>>> 26a22f2fafa42e8c71380cb331885e1d47272417
   ]
  },
  {
   "cell_type": "markdown",
   "id": "afe39c4e",
   "metadata": {},
   "source": [
    "# Save New Data"
   ]
  },
  {
   "cell_type": "code",
   "execution_count": 49,
   "id": "64bb3fdb",
   "metadata": {},
   "outputs": [],
   "source": [
    "data_dir = os.path.join(os.curdir, \"data\")\n",
    "filepath = os.path.join(data_dir, \"clean-tweets.tsv\")\n",
    "\n",
    "data.to_csv(path_or_buf=filepath, sep=\"\\t\", index=False)"
   ]
  },
  {
   "cell_type": "code",
   "execution_count": null,
   "id": "323be7fd",
   "metadata": {},
   "outputs": [],
   "source": []
  }
 ],
 "metadata": {
  "kernelspec": {
   "display_name": "Python 3 (ipykernel)",
   "language": "python",
   "name": "python3"
  },
  "language_info": {
   "codemirror_mode": {
    "name": "ipython",
    "version": 3
   },
   "file_extension": ".py",
   "mimetype": "text/x-python",
   "name": "python",
   "nbconvert_exporter": "python",
   "pygments_lexer": "ipython3",
   "version": "3.8.8"
  }
 },
 "nbformat": 4,
 "nbformat_minor": 5
}
