{
 "cells": [
  {
   "cell_type": "code",
   "execution_count": 4,
   "id": "bece53d5",
   "metadata": {},
   "outputs": [],
   "source": [
    "import os\n",
    "import re\n",
    "import requests\n",
    "import zipfile\n",
    "from pathlib import Path\n",
    "\n",
    "\n",
    "from matplotlib import pyplot as plt\n",
    "\n",
    "import nltk\n",
    "\n",
    "\n",
    "from nltk.corpus import stopwords\n",
    "from nltk.stem.isri import ISRIStemmer\n",
    "import numpy as np\n",
    "import seaborn as sns\n",
    "import pandas as pd\n",
    "from collections import Counter\n",
    "from typing import Callable\n",
    "\n",
    "%matplotlib inline"
   ]
  },
  {
   "cell_type": "code",
   "execution_count": 5,
   "id": "3bdb1709",
   "metadata": {
    "scrolled": true
   },
   "outputs": [
    {
     "name": "stderr",
     "output_type": "stream",
     "text": [
      "[nltk_data] Downloading collection 'popular'\n",
      "[nltk_data]    | \n",
      "[nltk_data]    | Downloading package cmudict to\n",
      "[nltk_data]    |     C:\\Users\\Hisham\\AppData\\Roaming\\nltk_data...\n",
      "[nltk_data]    |   Package cmudict is already up-to-date!\n",
      "[nltk_data]    | Downloading package gazetteers to\n",
      "[nltk_data]    |     C:\\Users\\Hisham\\AppData\\Roaming\\nltk_data...\n",
      "[nltk_data]    |   Package gazetteers is already up-to-date!\n",
      "[nltk_data]    | Downloading package genesis to\n",
      "[nltk_data]    |     C:\\Users\\Hisham\\AppData\\Roaming\\nltk_data...\n",
      "[nltk_data]    |   Package genesis is already up-to-date!\n",
      "[nltk_data]    | Downloading package gutenberg to\n",
      "[nltk_data]    |     C:\\Users\\Hisham\\AppData\\Roaming\\nltk_data...\n",
      "[nltk_data]    |   Package gutenberg is already up-to-date!\n",
      "[nltk_data]    | Downloading package inaugural to\n",
      "[nltk_data]    |     C:\\Users\\Hisham\\AppData\\Roaming\\nltk_data...\n",
      "[nltk_data]    |   Package inaugural is already up-to-date!\n",
      "[nltk_data]    | Downloading package movie_reviews to\n",
      "[nltk_data]    |     C:\\Users\\Hisham\\AppData\\Roaming\\nltk_data...\n",
      "[nltk_data]    |   Package movie_reviews is already up-to-date!\n",
      "[nltk_data]    | Downloading package names to\n",
      "[nltk_data]    |     C:\\Users\\Hisham\\AppData\\Roaming\\nltk_data...\n",
      "[nltk_data]    |   Package names is already up-to-date!\n",
      "[nltk_data]    | Downloading package shakespeare to\n",
      "[nltk_data]    |     C:\\Users\\Hisham\\AppData\\Roaming\\nltk_data...\n",
      "[nltk_data]    |   Package shakespeare is already up-to-date!\n",
      "[nltk_data]    | Downloading package stopwords to\n",
      "[nltk_data]    |     C:\\Users\\Hisham\\AppData\\Roaming\\nltk_data...\n",
      "[nltk_data]    |   Package stopwords is already up-to-date!\n",
      "[nltk_data]    | Downloading package treebank to\n",
      "[nltk_data]    |     C:\\Users\\Hisham\\AppData\\Roaming\\nltk_data...\n",
      "[nltk_data]    |   Package treebank is already up-to-date!\n",
      "[nltk_data]    | Downloading package twitter_samples to\n",
      "[nltk_data]    |     C:\\Users\\Hisham\\AppData\\Roaming\\nltk_data...\n",
      "[nltk_data]    |   Package twitter_samples is already up-to-date!\n",
      "[nltk_data]    | Downloading package omw to\n",
      "[nltk_data]    |     C:\\Users\\Hisham\\AppData\\Roaming\\nltk_data...\n",
      "[nltk_data]    |   Package omw is already up-to-date!\n",
      "[nltk_data]    | Downloading package omw-1.4 to\n",
      "[nltk_data]    |     C:\\Users\\Hisham\\AppData\\Roaming\\nltk_data...\n",
      "[nltk_data]    |   Package omw-1.4 is already up-to-date!\n",
      "[nltk_data]    | Downloading package wordnet to\n",
      "[nltk_data]    |     C:\\Users\\Hisham\\AppData\\Roaming\\nltk_data...\n",
      "[nltk_data]    |   Package wordnet is already up-to-date!\n",
      "[nltk_data]    | Downloading package wordnet2021 to\n",
      "[nltk_data]    |     C:\\Users\\Hisham\\AppData\\Roaming\\nltk_data...\n",
      "[nltk_data]    |   Package wordnet2021 is already up-to-date!\n",
      "[nltk_data]    | Downloading package wordnet31 to\n",
      "[nltk_data]    |     C:\\Users\\Hisham\\AppData\\Roaming\\nltk_data...\n",
      "[nltk_data]    |   Package wordnet31 is already up-to-date!\n",
      "[nltk_data]    | Downloading package wordnet_ic to\n",
      "[nltk_data]    |     C:\\Users\\Hisham\\AppData\\Roaming\\nltk_data...\n",
      "[nltk_data]    |   Package wordnet_ic is already up-to-date!\n",
      "[nltk_data]    | Downloading package words to\n",
      "[nltk_data]    |     C:\\Users\\Hisham\\AppData\\Roaming\\nltk_data...\n",
      "[nltk_data]    |   Package words is already up-to-date!\n",
      "[nltk_data]    | Downloading package maxent_ne_chunker to\n",
      "[nltk_data]    |     C:\\Users\\Hisham\\AppData\\Roaming\\nltk_data...\n",
      "[nltk_data]    |   Package maxent_ne_chunker is already up-to-date!\n",
      "[nltk_data]    | Downloading package punkt to\n",
      "[nltk_data]    |     C:\\Users\\Hisham\\AppData\\Roaming\\nltk_data...\n",
      "[nltk_data]    |   Package punkt is already up-to-date!\n",
      "[nltk_data]    | Downloading package snowball_data to\n",
      "[nltk_data]    |     C:\\Users\\Hisham\\AppData\\Roaming\\nltk_data...\n",
      "[nltk_data]    |   Package snowball_data is already up-to-date!\n",
      "[nltk_data]    | Downloading package averaged_perceptron_tagger to\n",
      "[nltk_data]    |     C:\\Users\\Hisham\\AppData\\Roaming\\nltk_data...\n",
      "[nltk_data]    |   Package averaged_perceptron_tagger is already up-\n",
      "[nltk_data]    |       to-date!\n",
      "[nltk_data]    | \n",
      "[nltk_data]  Done downloading collection popular\n"
     ]
    },
    {
     "data": {
      "text/plain": [
       "True"
      ]
     },
     "execution_count": 5,
     "metadata": {},
     "output_type": "execute_result"
    }
   ],
   "source": [
    "nltk.download(\"popular\")"
   ]
  },
  {
   "cell_type": "markdown",
   "id": "b608d0aa",
   "metadata": {},
   "source": [
    "# Introduction\n",
    "\n",
    "The goal of this notebook is to *practice text preprocessing*\n",
    "\n",
    "\n",
    "You're part of a team in Twitter that's assigned to create a sentiment analysis model for tweets in Arabic, your task is to prepare the data for training a model to classify wether the tweet has *positive* or *negative* sentiment\n",
    "\n",
    "## Components of Preprocessing\n",
    "\n",
    "### Text Cleaning\n",
    "\n",
    "We need to remove or keep parts of the tweet so that the remaining text is **relevant** to the task at hand \n",
    "\n",
    "#### What are the possbile parts to remove or keep?\n",
    "\n",
    "1. Hashtags\n",
    "2. Mentions\n",
    "3. Emojis\n",
    "4. URLs\n",
    "5. Numbers\n",
    "6. English characters\n",
    "7. Stop words\n",
    "8. Diactrics\n",
    "9. Punctiation marks\n",
    "10. Others\n",
    "\n",
    "### Stemming / Lemmatisation\n",
    "\n",
    "\n",
    "\n",
    "### Steps\n",
    "In this notebook we should:\n",
    "\n",
    "1. Read the raw data\n",
    "2. Explore the dataset\n",
    "3. Text Cleaning\n",
    "4. Stemming / Lemmatisation\n",
    "\n",
    "## The Dataset\n",
    "\n",
    "The dataset for this project is ArSenTD-Lev, a collection of 4,000 labeled tweets in the Levantine dialect, along side the tweet text:\n",
    "\n",
    "- Country\n",
    "- Topic (personal, politics, religion, sports, entertainment, others)\n",
    "- Sentiment (very_negative, negative, neutral, positive, very_positive)\n",
    "- Sentiment_Expression : implicit, explicit, or none (when neutral)\n",
    "- Sentiment_Target: The part of the text of which the sentiment was derived\n",
    "\n",
    "The original dataset is found on the [original website](http://oma-project.com/ArSenL/ArSenTD_Lev_Intro)\n",
    "\n",
    "and with another copy of the dataset found on the [course website](https://shai-nlp-course.netlify.app/ArSenTD-LEV.tsv)"
   ]
  },
  {
   "cell_type": "markdown",
   "id": "d586041b",
   "metadata": {},
   "source": [
    "# Setup"
   ]
  },
  {
   "cell_type": "code",
   "execution_count": 6,
   "id": "641ad339",
   "metadata": {},
   "outputs": [],
   "source": [
    "data_dir = os.path.join(os.curdir, \"data\")\n",
    "Path(data_dir).mkdir(exist_ok=True)\n",
    "tweets_dir = os.path.join(data_dir, \"arsentd-lev\")\n",
    "Path(tweets_dir).mkdir(exist_ok=True)\n",
    "archive_path = os.path.join(data_dir, \"arsentd-lev.zip\")"
   ]
  },
  {
   "cell_type": "markdown",
   "id": "469c5257",
   "metadata": {},
   "source": [
    "## Download Raw Data\n",
    "\n"
   ]
  },
  {
   "cell_type": "code",
   "execution_count": 7,
   "id": "2b14f913",
   "metadata": {},
   "outputs": [
    {
     "data": {
      "text/plain": [
       "['ArSenTD-LEV.tsv', 'README.txt']"
      ]
     },
     "execution_count": 7,
     "metadata": {},
     "output_type": "execute_result"
    }
   ],
   "source": [
    "link = \"http://oma-project.com/ArSenL/ArSenTD-LEV.zip\"\n",
    "\n",
    "response = requests.get(link)\n",
    "\n",
    "with open(archive_path, \"wb+\") as f:\n",
    "    f.write(response.content)\n",
    "    \n",
    "with zipfile.ZipFile(archive_path, 'r') as zip_f:\n",
    "    zip_f.extractall(tweets_dir)\n",
    "\n",
    "\n",
    "os.listdir(tweets_dir)"
   ]
  },
  {
   "cell_type": "code",
   "execution_count": 8,
   "id": "a953b1de",
   "metadata": {},
   "outputs": [],
   "source": [
    "raw_filepath = os.path.join(tweets_dir, \"ArSenTD-LEV.tsv\")"
   ]
  },
  {
   "cell_type": "code",
   "execution_count": 9,
   "id": "eaabe2ac",
   "metadata": {},
   "outputs": [],
   "source": [
    "raw = pd.read_csv(filepath_or_buffer=raw_filepath, sep=\"\\t\", encoding=\"utf_8\")"
   ]
  },
  {
   "cell_type": "code",
   "execution_count": 10,
   "id": "e0a05c85",
   "metadata": {},
   "outputs": [
    {
     "data": {
      "text/html": [
       "<div>\n",
       "<style scoped>\n",
       "    .dataframe tbody tr th:only-of-type {\n",
       "        vertical-align: middle;\n",
       "    }\n",
       "\n",
       "    .dataframe tbody tr th {\n",
       "        vertical-align: top;\n",
       "    }\n",
       "\n",
       "    .dataframe thead th {\n",
       "        text-align: right;\n",
       "    }\n",
       "</style>\n",
       "<table border=\"1\" class=\"dataframe\">\n",
       "  <thead>\n",
       "    <tr style=\"text-align: right;\">\n",
       "      <th></th>\n",
       "      <th>Tweet</th>\n",
       "      <th>Country</th>\n",
       "      <th>Topic</th>\n",
       "      <th>Sentiment</th>\n",
       "      <th>Sentiment_Expression</th>\n",
       "      <th>Sentiment_Target</th>\n",
       "    </tr>\n",
       "  </thead>\n",
       "  <tbody>\n",
       "    <tr>\n",
       "      <th>0</th>\n",
       "      <td>\"أنا أؤمن بأن الانسان ينطفئ جماله عند ابتعاد م...</td>\n",
       "      <td>lebanon</td>\n",
       "      <td>personal</td>\n",
       "      <td>negative</td>\n",
       "      <td>implicit</td>\n",
       "      <td>بريق العيون</td>\n",
       "    </tr>\n",
       "    <tr>\n",
       "      <th>1</th>\n",
       "      <td>من الذاكره... @3FInQe . عندما اعتقد كريستيانو ...</td>\n",
       "      <td>jordan</td>\n",
       "      <td>sports</td>\n",
       "      <td>positive</td>\n",
       "      <td>explicit</td>\n",
       "      <td>افضل لاعب في العالم</td>\n",
       "    </tr>\n",
       "    <tr>\n",
       "      <th>2</th>\n",
       "      <td>لا نخلو من ضغوطات الحياة. فنحن نعيش على أرض أع...</td>\n",
       "      <td>palestine</td>\n",
       "      <td>personal</td>\n",
       "      <td>neutral</td>\n",
       "      <td>none</td>\n",
       "      <td>none</td>\n",
       "    </tr>\n",
       "    <tr>\n",
       "      <th>3</th>\n",
       "      <td>#مصطلحات_لبنانيه_حيرت_البشريه بتوصل عالبيت ، ب...</td>\n",
       "      <td>lebanon</td>\n",
       "      <td>personal</td>\n",
       "      <td>negative</td>\n",
       "      <td>explicit</td>\n",
       "      <td>مصطلحات_لبنانيه</td>\n",
       "    </tr>\n",
       "    <tr>\n",
       "      <th>4</th>\n",
       "      <td>نصمت !! لتسير حياتنا على مً يرام فالناّس لم تع...</td>\n",
       "      <td>palestine</td>\n",
       "      <td>personal</td>\n",
       "      <td>negative</td>\n",
       "      <td>explicit</td>\n",
       "      <td>س لم تعد كما ك</td>\n",
       "    </tr>\n",
       "  </tbody>\n",
       "</table>\n",
       "</div>"
      ],
      "text/plain": [
       "                                               Tweet    Country     Topic  \\\n",
       "0  \"أنا أؤمن بأن الانسان ينطفئ جماله عند ابتعاد م...    lebanon  personal   \n",
       "1  من الذاكره... @3FInQe . عندما اعتقد كريستيانو ...     jordan    sports   \n",
       "2  لا نخلو من ضغوطات الحياة. فنحن نعيش على أرض أع...  palestine  personal   \n",
       "3  #مصطلحات_لبنانيه_حيرت_البشريه بتوصل عالبيت ، ب...    lebanon  personal   \n",
       "4  نصمت !! لتسير حياتنا على مً يرام فالناّس لم تع...  palestine  personal   \n",
       "\n",
       "  Sentiment Sentiment_Expression     Sentiment_Target  \n",
       "0  negative             implicit          بريق العيون  \n",
       "1  positive             explicit  افضل لاعب في العالم  \n",
       "2   neutral                 none                 none  \n",
       "3  negative             explicit      مصطلحات_لبنانيه  \n",
       "4  negative             explicit       س لم تعد كما ك  "
      ]
     },
     "execution_count": 10,
     "metadata": {},
     "output_type": "execute_result"
    }
   ],
   "source": [
    "raw.head()"
   ]
  },
  {
   "cell_type": "markdown",
   "id": "584efb98",
   "metadata": {},
   "source": [
    "# Explaratory Data Analysis (EDA)"
   ]
  },
  {
   "cell_type": "code",
   "execution_count": 11,
   "id": "e6e22cb7",
   "metadata": {},
   "outputs": [],
   "source": [
    "data = raw.copy(deep=True)"
   ]
  },
  {
   "cell_type": "code",
   "execution_count": null,
   "id": "a32c87f8",
   "metadata": {},
   "outputs": [],
   "source": [
    "data[\"Sentiment\"] = data[\"Sentiment\"].replace(\n",
    "    {\"very_negative\": \"negative\", \"very_positive\": \"positive\"}\n",
    ")"
   ]
  },
  {
   "cell_type": "code",
   "execution_count": 10,
   "id": "2b3701d9",
   "metadata": {},
   "outputs": [],
   "source": [
    "sentiment_count = data.groupby(by=\"Sentiment\", as_index=False).count()[[\"Sentiment\", \"Tweet\"]]"
   ]
  },
  {
   "cell_type": "code",
   "execution_count": 11,
   "id": "0bc73c37",
   "metadata": {},
   "outputs": [
    {
     "name": "stderr",
     "output_type": "stream",
     "text": [
      "/tmp/ipykernel_18575/3624011578.py:8: UserWarning: Matplotlib is currently using module://matplotlib_inline.backend_inline, which is a non-GUI backend, so cannot show the figure.\n",
      "  fig.show()\n"
     ]
    },
    {
     "data": {
      "image/png": "[encoded data removed]",
      "text/plain": [
       "<Figure size 1080x864 with 1 Axes>"
      ]
     },
     "metadata": {},
     "output_type": "display_data"
    }
   ],
   "source": [
    "fig, ax = plt.subplots(figsize=(15, 12))\n",
    "\n",
    "ax.pie(x=sentiment_count[\"Tweet\"].to_list(), \n",
    "       labels=sentiment_count[\"Sentiment\"].to_list(),\n",
    "       autopct='%1.1f%%'\n",
    "      )\n",
    "\n",
    "fig.show()"
   ]
  },
  {
   "cell_type": "markdown",
   "id": "3fdddb04",
   "metadata": {},
   "source": [
    "### Common EDA Patterns Text\n",
    "\n",
    "- Check for word count\n",
    "- Check for character count"
   ]
  },
  {
   "cell_type": "code",
   "execution_count": 12,
   "id": "d3dbe187",
   "metadata": {},
   "outputs": [],
   "source": [
    "data[\"word_count\"] = data[\"Tweet\"].apply(lambda x: len(x.split(\" \")))"
   ]
  },
  {
   "cell_type": "code",
   "execution_count": 13,
   "id": "ddaf6f81",
   "metadata": {},
   "outputs": [
    {
     "data": {
      "text/plain": [
       "count    4000.00000\n",
       "mean       22.69825\n",
       "std         3.28495\n",
       "min         7.00000\n",
       "25%        21.00000\n",
       "50%        23.00000\n",
       "75%        25.00000\n",
       "max        35.00000\n",
       "Name: word_count, dtype: float64"
      ]
     },
     "execution_count": 13,
     "metadata": {},
     "output_type": "execute_result"
    }
   ],
   "source": [
    "data[\"word_count\"].describe()"
   ]
  },
  {
   "cell_type": "code",
   "execution_count": 14,
   "id": "4070fb30",
   "metadata": {},
   "outputs": [
    {
     "data": {
      "text/plain": [
       "count    4000.000000\n",
       "mean      131.364250\n",
       "std        14.314636\n",
       "min        42.000000\n",
       "25%       128.000000\n",
       "50%       138.000000\n",
       "75%       140.000000\n",
       "max       147.000000\n",
       "Name: char_count, dtype: float64"
      ]
     },
     "execution_count": 14,
     "metadata": {},
     "output_type": "execute_result"
    }
   ],
   "source": [
    "data[\"char_count\"] = data[\"Tweet\"].apply(len)\n",
    "data[\"char_count\"].describe()"
   ]
  },
  {
   "cell_type": "markdown",
   "id": "6f3e48f9",
   "metadata": {},
   "source": [
    "## Vocabulary\n",
    "\n",
    "Vocabulary: the set of unique vocabulary in the corpus\n",
    "and optionally the count of each vocab"
   ]
  },
  {
   "cell_type": "code",
   "execution_count": 15,
   "id": "0ae00581",
   "metadata": {},
   "outputs": [],
   "source": [
    "all_words = [word for tweet in data[\"Tweet\"] for word in tweet.split(\" \")]"
   ]
  },
  {
   "cell_type": "code",
   "execution_count": 16,
   "id": "417f237e",
   "metadata": {},
   "outputs": [],
   "source": [
    "vocab = Counter(all_words)"
   ]
  },
  {
   "cell_type": "markdown",
   "id": "34c442c5",
   "metadata": {},
   "source": [
    "Explore the most and least common words in the vocab"
   ]
  },
  {
   "cell_type": "code",
   "execution_count": 17,
   "id": "fbe62748",
   "metadata": {},
   "outputs": [
    {
     "name": "stdout",
     "output_type": "stream",
     "text": [
      "Least Common\n"
     ]
    },
    {
     "data": {
      "text/plain": [
       "[('الريحة', 1),\n",
       " ('نقلاً', 1),\n",
       " ('مباشراً', 1),\n",
       " ('نشرة', 1),\n",
       " ('الرياضية', 1),\n",
       " ('8:30', 1),\n",
       " ('\"العرب\"', 1),\n",
       " ('حمود', 1),\n",
       " ('📍', 1),\n",
       " ('https://t.co/oUstA9G7dM', 1)]"
      ]
     },
     "execution_count": 17,
     "metadata": {},
     "output_type": "execute_result"
    }
   ],
   "source": [
    "print(\"Least Common\")\n",
    "vocab.most_common()[-10:]"
   ]
  },
  {
   "cell_type": "code",
   "execution_count": 18,
   "id": "7bb04f57",
   "metadata": {},
   "outputs": [
    {
     "name": "stdout",
     "output_type": "stream",
     "text": [
      "Most Common\n"
     ]
    },
    {
     "data": {
      "text/plain": [
       "[('من', 1906),\n",
       " ('في', 1610),\n",
       " ('.', 1105),\n",
       " ('و', 963),\n",
       " ('على', 913),\n",
       " ('الله', 787),\n",
       " ('ما', 769),\n",
       " ('لا', 656),\n",
       " ('،', 589),\n",
       " ('كل', 493)]"
      ]
     },
     "execution_count": 18,
     "metadata": {},
     "output_type": "execute_result"
    }
   ],
   "source": [
    "print(\"Most Common\")\n",
    "vocab.most_common(n=10)"
   ]
  },
  {
   "cell_type": "code",
   "execution_count": 19,
   "id": "6da16b27",
   "metadata": {},
   "outputs": [],
   "source": [
    "counts = list(vocab.values())"
   ]
  },
  {
   "cell_type": "code",
   "execution_count": 20,
   "id": "94ad5def",
   "metadata": {
    "scrolled": false
   },
   "outputs": [
    {
     "data": {
      "image/png": "[encoded data removed]",
      "text/plain": [
       "<Figure size 1080x864 with 1 Axes>"
      ]
     },
     "metadata": {
      "needs_background": "light"
     },
     "output_type": "display_data"
    }
   ],
   "source": [
    "fig, ax = plt.subplots(figsize=(15, 12))\n",
    "\n",
    "sns.boxplot(y=counts, ax=ax)\n",
    "ax.set_title(\"Word Count\", fontdict=dict(size=15), pad=15)\n",
    "\n",
    "plt.show()"
   ]
  },
  {
   "cell_type": "code",
   "execution_count": 21,
   "id": "f2e2de60",
   "metadata": {},
   "outputs": [],
   "source": [
    "stop_words = stopwords.words(\"arabic\")\n",
    "all_words_pruned = [word for tweet in data[\"Tweet\"] for word in tweet.split(\" \") if word not in stop_words]"
   ]
  },
  {
   "cell_type": "code",
   "execution_count": 22,
   "id": "30671a7f",
   "metadata": {},
   "outputs": [],
   "source": [
    "pruned_vocab = Counter(all_words_pruned) "
   ]
  },
  {
   "cell_type": "code",
   "execution_count": 23,
   "id": "2f6bb2fc",
   "metadata": {},
   "outputs": [
    {
     "data": {
      "image/png": "[encoded data removed]",
      "text/plain": [
       "<Figure size 1080x864 with 1 Axes>"
      ]
     },
     "metadata": {
      "needs_background": "light"
     },
     "output_type": "display_data"
    }
   ],
   "source": [
    "counts = list(pruned_vocab.values())\n",
    "\n",
    "fig, ax = plt.subplots(figsize=(15, 12))\n",
    "\n",
    "sns.boxplot(y=counts, ax=ax)\n",
    "ax.set_title(\"Word Count\", fontdict=dict(size=15), pad=15)\n",
    "\n",
    "plt.show()"
   ]
  },
  {
   "cell_type": "markdown",
   "id": "33fa6170",
   "metadata": {},
   "source": [
    "> Removing stop words still produces a box plot with this many outliers indicates that more cleaning is necessary"
   ]
  },
  {
   "cell_type": "markdown",
   "id": "35ce6e90",
   "metadata": {},
   "source": [
    "# Text Cleaning"
   ]
  },
  {
   "cell_type": "code",
   "execution_count": 24,
   "id": "037a57b2",
   "metadata": {},
   "outputs": [
    {
     "data": {
      "text/plain": [
       "'هدف لا نراه كل يوم . #LEITOT . @oki_q8e شوف ابن اختي شوف 🤗 https://t.co/ZmVMl4sOqA'"
      ]
     },
     "execution_count": 24,
     "metadata": {},
     "output_type": "execute_result"
    }
   ],
   "source": [
    "sample = data.iloc[102][\"Tweet\"]\n",
    "sample"
   ]
  },
  {
   "cell_type": "code",
   "execution_count": 25,
   "id": "d5360971",
   "metadata": {},
   "outputs": [],
   "source": [
    "def test_clean_fn(fn: Callable, sample: str) -> str:\n",
    "    print(sample, fn(sample), sep=\"\\n\")"
   ]
  },
  {
   "cell_type": "markdown",
   "id": "17cc9fa5",
   "metadata": {},
   "source": [
    "## Stop Words"
   ]
  },
  {
   "cell_type": "code",
   "execution_count": 26,
   "id": "bb53be6d",
   "metadata": {},
   "outputs": [
    {
     "name": "stdout",
     "output_type": "stream",
     "text": [
      "هدف لا نراه كل يوم . #LEITOT . @oki_q8e شوف ابن اختي شوف 🤗 https://t.co/ZmVMl4sOqA\n",
      "هدف لا نراه يوم . #LEITOT . @oki_q8e شوف ابن اختي شوف 🤗 https://t.co/ZmVMl4sOqA\n"
     ]
    }
   ],
   "source": [
    "to_keep = [\"لا\"]\n",
    "stop_words = [word for word in stopwords.words(\"arabic\") if word not in to_keep] \n",
    "\n",
    "def remove_stop_words(text: str) -> str:\n",
    "    return \" \".join([word for word in text.split(\" \") if word not in stop_words])\n",
    "\n",
    "\n",
    "test_clean_fn(remove_stop_words, sample)"
   ]
  },
  {
   "cell_type": "markdown",
   "id": "ac725abc",
   "metadata": {},
   "source": [
    "## Remove Hashtags\n",
    "\n",
    "[Regex to remove hashtag](https://regexr.com/3gkpo)"
   ]
  },
  {
   "cell_type": "code",
   "execution_count": 27,
   "id": "5db71424",
   "metadata": {},
   "outputs": [
    {
     "name": "stdout",
     "output_type": "stream",
     "text": [
      "هدف لا نراه كل يوم . #LEITOT . @oki_q8e شوف ابن اختي شوف 🤗 https://t.co/ZmVMl4sOqA\n",
      "هدف لا نراه كل يوم .  . @oki_q8e شوف ابن اختي شوف 🤗 https://t.co/ZmVMl4sOqA\n"
     ]
    }
   ],
   "source": [
    "hashtag_re = re.compile(pattern=\"#[A-Za-z0-9_ا-ي]+\")\n",
    "\n",
    "def remove_hashtag(text: str) -> str:\n",
    "    return hashtag_re.sub(repl=\"\", string=text)\n",
    "\n",
    "test_clean_fn(remove_hashtag, sample)"
   ]
  },
  {
   "cell_type": "markdown",
   "id": "a11b66ae",
   "metadata": {},
   "source": [
    "## Remove Mention"
   ]
  },
  {
   "cell_type": "code",
   "execution_count": 28,
   "id": "43febc0d",
   "metadata": {},
   "outputs": [
    {
     "name": "stdout",
     "output_type": "stream",
     "text": [
      "هدف لا نراه كل يوم . #LEITOT . @oki_q8e شوف ابن اختي شوف 🤗 https://t.co/ZmVMl4sOqA\n",
      "هدف لا نراه كل يوم . #LEITOT .  شوف ابن اختي شوف 🤗 https://t.co/ZmVMl4sOqA\n"
     ]
    }
   ],
   "source": [
    "def remove_mention(text: str) -> str:\n",
    "    # TODO: Look for a suitable way to remove mentions from a text\n",
    "    # TIP: Look for a regex expression\n",
    "    return re.sub(pattern=r\"@[^\\s]+\", repl=\"\", string=text)\n",
    "    \n",
    "test_clean_fn(remove_mention, sample)"
   ]
  },
  {
   "cell_type": "markdown",
   "id": "c2511c98",
   "metadata": {},
   "source": [
    "## Remove Punctuation Marks"
   ]
  },
  {
   "cell_type": "code",
   "execution_count": null,
   "id": "498f76de",
   "metadata": {},
   "outputs": [],
   "source": [
    "def remove_punctation(text: str) -> str:\n",
    "    # TODO: Look for a suitable way to remove punctiation marks from a text\n",
    "    # TIP: Look for a regex expression\n",
    "    return re.sub(pattern=r'[^\\w\\s]', repl=\"\", string=text)\n",
    "    \n",
    "test_clean_fn(remove_punctation, sample)"
   ]
  },
  {
   "cell_type": "markdown",
   "id": "a44c7d43",
   "metadata": {},
   "source": [
    "## Remove HTTP URLs"
   ]
  },
  {
   "cell_type": "code",
   "execution_count": null,
   "id": "5041cb1c",
   "metadata": {},
   "outputs": [],
   "source": [
    "def remove_urls(text: str) -> str:\n",
    "    # TODO: Look for a suitable way to remove urls from a text\n",
    "    # TIP: Look for a regex expression\n",
    "    return re.sub(pattern=r'http\\S+', repl=\"\", string=text)\n",
    "    \n",
    "test_clean_fn(remove_urls, sample)"
   ]
  },
  {
   "cell_type": "markdown",
   "id": "2c443447",
   "metadata": {},
   "source": [
    "## Remove Diactrics"
   ]
  },
  {
   "cell_type": "code",
   "execution_count": null,
   "id": "6e93bf9f",
   "metadata": {},
   "outputs": [],
   "source": [
    "diactircs_re = re.compile(\"[\\u064B-\\u0652]\")\n",
    "\n",
    "def remove_diactrics(text: str) -> str:\n",
    "    # TODO: Implement this function using the diactrics_re\n",
    "    return re.sub(pattern=diactircs_re, repl=\"\", string=text)\n",
    "    \n",
    "test_clean_fn(remove_diactrics, data.iloc[0][\"Tweet\"])"
   ]
  },
  {
   "cell_type": "markdown",
   "id": "6be2e6bc",
   "metadata": {},
   "source": [
    "## Remove Numbers"
   ]
  },
  {
   "cell_type": "code",
   "execution_count": null,
   "id": "f7b0da0d",
   "metadata": {},
   "outputs": [],
   "source": [
    "def remove_numbers(text: str) -> str:\n",
    "    # TODO: Implement remove numbers\n",
    "    return re.sub(pattern=r'[0-9]', repl=\"\", string=text)\n",
    "    \n",
    "test_clean_fn(remove_numbers, data.iloc[65][\"Tweet\"])"
   ]
  },
  {
   "cell_type": "markdown",
   "id": "20fb67c0",
   "metadata": {},
   "source": [
    "## Remove English Characters"
   ]
  },
  {
   "cell_type": "code",
   "execution_count": null,
   "id": "df919311",
   "metadata": {},
   "outputs": [],
   "source": [
    "def remove_english_characters(text: str) -> str:\n",
    "    # TODO: Implement remove english characters\n",
    "    return re.sub(pattern=r'[A-Za-z]', repl=\"\", string=text)"
   ]
  },
  {
   "cell_type": "markdown",
   "id": "52b04cf9",
   "metadata": {},
   "source": [
    "## Remove Most and Least Common Words"
   ]
  },
  {
   "cell_type": "code",
   "execution_count": null,
   "id": "3fc270aa",
   "metadata": {},
   "outputs": [],
   "source": [
    "## TODO: define a list of least occurent words\n",
    "rare_words = []\n",
    "common_words = []\n",
    "\n",
    "def remove_rare_words(text: str) -> str:\n",
    "    # TODO: Implement\n",
    "    ...\n",
    "    \n",
    "def remove_common_words(text: str) -> str:\n",
    "    # TODO: Implement\n",
    "    ..."
   ]
  },
  {
   "cell_type": "markdown",
   "id": "bac34018",
   "metadata": {},
   "source": [
    "## Reduce Multiple Whitespace "
   ]
  },
  {
   "cell_type": "code",
   "execution_count": null,
   "id": "13b739ff",
   "metadata": {},
   "outputs": [],
   "source": [
    "multiple_space_re = re.compile(\"\\s{2,}\")\n",
    "def remove_multiple_whitespace(text: str) -> str:\n",
    "    return multiple_space_re.sub(repl=\" \", string=text)"
   ]
  },
  {
   "cell_type": "markdown",
   "id": "96c69538",
   "metadata": {},
   "source": [
    "## Clean All"
   ]
  },
  {
   "cell_type": "code",
   "execution_count": null,
   "id": "b6f7548a",
   "metadata": {},
   "outputs": [],
   "source": [
    "def clean_all(text: str) -> str:\n",
    "    text = remove_urls(text)\n",
    "    text = remove_hashtag(text)\n",
    "    text = remove_mention(text)\n",
    "    text = remove_punctation(text)\n",
    "    text = remove_numbers(text)\n",
    "    text = remove_diactrics(text)\n",
    "    text = remove_english_characters(text)\n",
    "    text = remove_stop_words(text)\n",
    "    text = remove_common_words(text)\n",
    "    text = remove_rare_words(text)\n",
    "    text = remove_multiple_whitespace(text)\n",
    "    return text"
   ]
  },
  {
   "cell_type": "code",
   "execution_count": null,
   "id": "82540862",
   "metadata": {},
   "outputs": [],
   "source": [
    "data[\"clean_text\"] = data[\"Tweet\"].apply(clean_all)"
   ]
  },
  {
   "cell_type": "markdown",
   "id": "b2035557",
   "metadata": {},
   "source": [
    "# Text Normalisation"
   ]
  },
  {
   "cell_type": "code",
   "execution_count": null,
   "id": "2c09b747",
   "metadata": {},
   "outputs": [],
   "source": [
    "# https://www.nltk.org/_modules/nltk/stem/isri.html\n",
    "\n",
    "stemmer = ISRIStemmer()"
   ]
  },
  {
   "cell_type": "code",
   "execution_count": null,
   "id": "ec36101c",
   "metadata": {},
   "outputs": [],
   "source": [
    "stemmer.stem(\"يذهبون\")"
   ]
  },
  {
   "cell_type": "code",
   "execution_count": null,
   "id": "628c379a",
   "metadata": {},
   "outputs": [],
   "source": [
    "stemmed_data = []\n",
    "for sample in data[\"clean_text\"]:\n",
    "    words = sample.split(\" \")\n",
    "    stemmed_words = [stemmer.stem(word) for word in words]\n",
    "    stemmed_data.append(\" \".join(stemmed_words))\n",
    "\n"
   ]
  },
  {
   "cell_type": "code",
   "execution_count": null,
   "id": "bfe99bcd",
   "metadata": {},
   "outputs": [],
   "source": [
    "print(data[\"clean_text\"][0], stemmed_data[0])"
   ]
  },
  {
   "cell_type": "code",
   "execution_count": null,
   "id": "ed8a9ca4",
   "metadata": {},
   "outputs": [],
   "source": [
    "data[\"clean_stemmed\"] = stemmed_data"
   ]
  },
  {
   "cell_type": "markdown",
   "id": "323a9ac5",
   "metadata": {},
   "source": [
    "# Post Processsing Exploration"
   ]
  },
  {
   "cell_type": "code",
   "execution_count": null,
   "id": "c53832c2",
   "metadata": {},
   "outputs": [],
   "source": [
    "# TODO: Plot a box plot of the remaining unique tokens\n",
    "cleaned_stemmed_words = [word for stemmed_text in data[\"clean_stemmed\"] for word in stemmed_text.split(\" \")]\n",
    "stemmed_vocabs = Counter(cleaned_stemmed_words)\n",
    "stemmed_counts = list(stemmed_vocabs.values())\n",
    "fig, ax = plt.subplots(figsize=(15, 12))\n",
    "\n",
    "sns.boxplot(y=stemmed_counts, ax=ax)\n",
    "ax.set_title(\"Word Count\", fontdict=dict(size=15), pad=15)\n",
    "\n",
    "plt.show()"
   ]
  },
  {
   "cell_type": "markdown",
   "id": "afe39c4e",
   "metadata": {},
   "source": [
    "# Save New Data"
   ]
  },
  {
   "cell_type": "code",
   "execution_count": null,
   "id": "64bb3fdb",
   "metadata": {},
   "outputs": [],
   "source": [
    "data_dir = os.path.join(os.curdir, \"data\")\n",
    "filepath = os.path.join(data_dir, \"clean-tweets.tsv\")\n",
    "\n",
    "data.to_csv(path_or_buf=filepath, sep=\"\\t\", index=False)"
   ]
  },
  {
   "cell_type": "code",
   "execution_count": null,
   "id": "7f1a25d6",
   "metadata": {},
   "outputs": [],
   "source": []
  }
 ],
 "metadata": {
  "kernelspec": {
   "display_name": "Python 3 (ipykernel)",
   "language": "python",
   "name": "python3"
  },
  "language_info": {
   "codemirror_mode": {
    "name": "ipython",
    "version": 3
   },
   "file_extension": ".py",
   "mimetype": "text/x-python",
   "name": "python",
   "nbconvert_exporter": "python",
   "pygments_lexer": "ipython3",
   "version": "3.8.8"
  }
 },
 "nbformat": 4,
 "nbformat_minor": 5
}
